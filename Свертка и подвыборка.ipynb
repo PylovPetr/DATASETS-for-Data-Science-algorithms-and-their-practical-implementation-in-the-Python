{
 "cells": [
  {
   "cell_type": "markdown",
   "metadata": {},
   "source": [
    "## Постановка задачи\n",
    "Загрузим подготовленные данные из HDF5.\n",
    "\n",
    "Разделим данные на обучающие и проверочные в соотношении 80/20.\n",
    "\n",
    "Используем Keras для построения нейросети с линейным, сверточными слоями и слоями подвыборки. Проверим, какая конфигурация работает лучше линейных слоев.\n",
    "\n",
    "Проведем оценку качества предсказания по коэффициенту сходства.\n",
    "\n",
    "Данные:\n",
    "* https://video.ittensive.com/machine-learning/clouds/train.csv.gz (54 Мб)\n",
    "* https://video.ittensive.com/machine-learning/clouds/train_images_small.tar.gz (212 Мб)\n",
    "\n",
    "Соревнование: https://www.kaggle.com/c/understanding_cloud_organization/"
   ]
  },
  {
   "cell_type": "markdown",
   "metadata": {},
   "source": [
    "### Подключение библиотек"
   ]
  },
  {
   "cell_type": "code",
   "execution_count": 1,
   "metadata": {},
   "outputs": [
    {
     "name": "stderr",
     "output_type": "stream",
     "text": [
      "Using TensorFlow backend.\n"
     ]
    }
   ],
   "source": [
    "%matplotlib inline\n",
    "import matplotlib.pyplot as plt\n",
    "import numpy as np\n",
    "import pandas as pd\n",
    "import keras\n",
    "from sklearn.model_selection import train_test_split\n",
    "from skimage import io\n",
    "from keras.models import Sequential\n",
    "from keras.layers import Dense, Activation, Flatten\n",
    "from keras.layers import Conv2D, MaxPooling2D\n",
    "import os\n",
    "os.environ[\"KERAS_BACKEND\"] = \"plaidml.keras.backend\"\n",
    "os.environ[\"PATH\"] += (os.pathsep +\n",
    "                       'C:/Program Files (x86)/Graphviz2.38/bin/')"
   ]
  },
  {
   "cell_type": "markdown",
   "metadata": {},
   "source": [
    "### Используемые функции"
   ]
  },
  {
   "cell_type": "code",
   "execution_count": 2,
   "metadata": {},
   "outputs": [],
   "source": [
    "labels = [\"Fish\", \"Flower\", \"Gravel\", \"Sugar\"]\n",
    "image_x = 525\n",
    "image_y = 350\n",
    "image_ch = 3\n",
    "def mask_rate (a, x, y):\n",
    "    b = a//1400 + 0.0\n",
    "    return np.round(x*(b*x//2100) + y*(a%1400)//1400).astype(\"uint32\")\n",
    "\n",
    "def calc_mask (px, x=image_x, y=image_y):\n",
    "    p = np.array([int(n) for n in px.split(' ')]).reshape(-1,2)\n",
    "    mask = np.zeros(x*y, dtype='uint8')\n",
    "    for i, l in p:\n",
    "        mask[mask_rate(i, x, y) - 1:mask_rate(l+i, x, y)] = 1\n",
    "    return mask.reshape(y,x).transpose()\n",
    "\n",
    "def calc_dice (x):\n",
    "    dice = 0\n",
    "    px = x[\"EncodedPixels\"] \n",
    "    if px != px and x[\"target\"] == 0:\n",
    "        dice = 1\n",
    "    elif px == px and x[\"target\"] == 1:\n",
    "        mask = calc_mask(px).flatten()\n",
    "        target = np.ones(image_x*image_y, dtype='uint8')\n",
    "        dice += 2*np.sum(target[mask==1])/(np.sum(target)+np.sum(mask))\n",
    "    return dice"
   ]
  },
  {
   "cell_type": "markdown",
   "metadata": {},
   "source": [
    "### Загрузка данных"
   ]
  },
  {
   "cell_type": "code",
   "execution_count": 3,
   "metadata": {
    "scrolled": true
   },
   "outputs": [],
   "source": [
    "data = pd.read_csv('https://video.ittensive.com/machine-learning/clouds/train.csv.gz')"
   ]
  },
  {
   "cell_type": "code",
   "execution_count": 4,
   "metadata": {},
   "outputs": [
    {
     "name": "stdout",
     "output_type": "stream",
     "text": [
      "                                        EncodedPixels        Image Label\n",
      "0   264918 937 266318 937 267718 937 269118 937 27...  0011165.jpg  Fish\n",
      "4   233813 878 235213 878 236613 878 238010 881 23...  002be4f.jpg  Fish\n",
      "8   3510 690 4910 690 6310 690 7710 690 9110 690 1...  0031ae9.jpg  Fish\n",
      "12                                                NaN  0035239.jpg  Fish\n",
      "16  2367966 18 2367985 2 2367993 8 2368002 62 2369...  003994e.jpg  Fish\n"
     ]
    }
   ],
   "source": [
    "data[\"Image\"] = data[\"Image_Label\"].str.split(\"_\").str[0]\n",
    "data[\"Label\"] = data[\"Image_Label\"].str.split(\"_\").str[1]\n",
    "data.drop(labels=[\"Image_Label\"], axis=1, inplace=True)\n",
    "data_fish = data[data[\"Label\"] == \"Fish\"]\n",
    "print (data_fish.head())"
   ]
  },
  {
   "cell_type": "markdown",
   "metadata": {},
   "source": [
    "### Разделение данных\n",
    "Разделим всю выборку на 2 части случайным образом: 80% - для обучения модели, 20% - для проверки точности модели."
   ]
  },
  {
   "cell_type": "code",
   "execution_count": 5,
   "metadata": {},
   "outputs": [
    {
     "name": "stdout",
     "output_type": "stream",
     "text": [
      "                                           EncodedPixels        Image Label\n",
      "5164   910620 88 910709 3 910713 2 910721 4 910729 16...  3b88744.jpg  Fish\n",
      "22008                                                NaN  fdfa5e1.jpg  Fish\n",
      "7568                                                 NaN  56609dc.jpg  Fish\n",
      "19348  66063 663 67463 663 68863 663 70263 663 71663 ...  dfd58e9.jpg  Fish\n",
      "13120  13653 267 15053 267 16453 267 17853 267 19253 ...  9545812.jpg  Fish\n"
     ]
    }
   ],
   "source": [
    "train, test = train_test_split(data_fish, test_size=0.2)\n",
    "train = pd.DataFrame(train)\n",
    "test = pd.DataFrame(test)\n",
    "del data\n",
    "print (train.head())"
   ]
  },
  {
   "cell_type": "markdown",
   "metadata": {},
   "source": [
    "### Сверточная нейросеть\n",
    "Подготовим данные для обучения нейросети: будем загружать данные пакетами. Создадим функции для загрузки двух типов данных: графических из изображения и типа облака на изображении."
   ]
  },
  {
   "cell_type": "code",
   "execution_count": 12,
   "metadata": {},
   "outputs": [],
   "source": [
    "def load_y (df):\n",
    "    return np.array(df[\"EncodedPixels\"].notnull().astype(\"int8\")).reshape(-1,1)\n",
    "\n",
    "def load_x (df):\n",
    "    x = [[]]*len(df)\n",
    "    for j, file in enumerate(df[\"Image\"]):\n",
    "        x[j] = io.imread(os.path.join(filesDir, file))\n",
    "    return np.array(x).reshape(len(df), image_y, image_x, image_ch)\n",
    "\n",
    "def load_data (df, batch_size):\n",
    "    while True:\n",
    "        batch_start = 0\n",
    "        batch_end = batch_size\n",
    "        while batch_start < len(df):\n",
    "            limit = min(batch_end, len(df))\n",
    "            yield (load_x(df[batch_start:limit]),\n",
    "                  load_y(df[batch_start:limit]))\n",
    "            batch_start += batch_size\n",
    "            batch_end += batch_size"
   ]
  },
  {
   "cell_type": "markdown",
   "metadata": {},
   "source": [
    "Сверточный слой (Conv2D) применяет ядро преобразования (набор математических операций) к области исходного изображения (набора входов с предыдущего слоя) для выделения особенностей (например, определенных фигур - линий или уголков). Принимает в качестве входной формы только двумерные изображения и число цветовых каналов (трехмерный массив данных на 1 изображение).\n",
    "![](conv2d.png)\n",
    "Сверточный слой \"размноживает\" исходное изображение: используется заданное (большое) число ядер свертки, которые оптимизируются на этапе обучения нейросети. Поэтому к полученным при свертке данным обычно применяют слой подвыборки (MaxPooling): выделяют самый значимый из квадрата 2x2 или 3x3 элемент, обнаруженный на сверточной слое, чтобы снизить число выходов и ускорить обучение нейросети.\n",
    "![](maxpooling.png)\n",
    "Свертку осуществляем с шагом (strides) 2.\n",
    "\n",
    "На выходе слоя подвыборки находится двумерный массив нейронов, полученный выборкой из множества преобразований исходного изображения, поэтому его нужно переформировать, перевести в одномерный. Для этого используется плоский слой (Flatten)."
   ]
  },
  {
   "cell_type": "code",
   "execution_count": 7,
   "metadata": {},
   "outputs": [],
   "source": [
    "model = Sequential([\n",
    "    Conv2D(32, (3,3), input_shape=(image_y, image_x, image_ch),\n",
    "          strides=(2,2)),\n",
    "    Activation(\"relu\"),\n",
    "    Conv2D(32, (3,3), strides=(2,2)),\n",
    "    Activation(\"relu\"),\n",
    "    MaxPooling2D(pool_size=(2,2)),\n",
    "    Flatten(),\n",
    "    Activation(\"softmax\"),\n",
    "    Dense(1)\n",
    "])"
   ]
  },
  {
   "cell_type": "markdown",
   "metadata": {},
   "source": [
    "### Топология модели\n",
    "Потребуется graphviz\n",
    "![](ml0041.png)"
   ]
  },
  {
   "cell_type": "code",
   "execution_count": 8,
   "metadata": {},
   "outputs": [],
   "source": [
    "keras.utils.plot_model(model, to_file=\"ml0041.png\",\n",
    "                show_shapes=True, show_layer_names=True, rankdir=\"TB\")"
   ]
  },
  {
   "cell_type": "code",
   "execution_count": 9,
   "metadata": {},
   "outputs": [],
   "source": [
    "filesDir = \"train_images_small\"\n",
    "batch_size = 20"
   ]
  },
  {
   "cell_type": "markdown",
   "metadata": {},
   "source": [
    "Построим и обучим модель, используя адаптивный градиентный спуск и абсолютную ошибку."
   ]
  },
  {
   "cell_type": "code",
   "execution_count": 10,
   "metadata": {},
   "outputs": [],
   "source": [
    "model.compile(optimizer=\"adam\", loss=\"mean_absolute_error\")"
   ]
  },
  {
   "cell_type": "code",
   "execution_count": 13,
   "metadata": {},
   "outputs": [
    {
     "name": "stdout",
     "output_type": "stream",
     "text": [
      "Epoch 1/100\n",
      "221/221 [==============================] - 302s 1s/step - loss: 0.4999\n",
      "Epoch 2/100\n",
      "221/221 [==============================] - 329s 1s/step - loss: 0.4935\n",
      "Epoch 3/100\n",
      "221/221 [==============================] - 284s 1s/step - loss: 0.4858\n",
      "Epoch 4/100\n",
      "221/221 [==============================] - 281s 1s/step - loss: 0.4789\n",
      "Epoch 5/100\n",
      "221/221 [==============================] - 284s 1s/step - loss: 0.4699\n",
      "Epoch 6/100\n",
      "221/221 [==============================] - 316s 1s/step - loss: 0.4618\n",
      "Epoch 7/100\n",
      "221/221 [==============================] - 298s 1s/step - loss: 0.4533\n",
      "Epoch 8/100\n",
      "221/221 [==============================] - 305s 1s/step - loss: 0.4446\n",
      "Epoch 9/100\n",
      "221/221 [==============================] - 283s 1s/step - loss: 0.4371\n",
      "Epoch 10/100\n",
      "221/221 [==============================] - 264s 1s/step - loss: 0.4279\n",
      "Epoch 11/100\n",
      "221/221 [==============================] - 292s 1s/step - loss: 0.4211\n",
      "Epoch 12/100\n",
      "221/221 [==============================] - 270s 1s/step - loss: 0.4117\n",
      "Epoch 13/100\n",
      "221/221 [==============================] - 264s 1s/step - loss: 0.4027\n",
      "Epoch 14/100\n",
      "221/221 [==============================] - 267s 1s/step - loss: 0.3950\n",
      "Epoch 15/100\n",
      "221/221 [==============================] - 256s 1s/step - loss: 0.3850\n",
      "Epoch 16/100\n",
      "221/221 [==============================] - 290s 1s/step - loss: 0.3757\n",
      "Epoch 17/100\n",
      "221/221 [==============================] - 350s 2s/step - loss: 0.3681\n",
      "Epoch 18/100\n",
      "221/221 [==============================] - 340s 2s/step - loss: 0.3592\n",
      "Epoch 19/100\n",
      "221/221 [==============================] - 330s 1s/step - loss: 0.3497\n",
      "Epoch 20/100\n",
      "221/221 [==============================] - 422s 2s/step - loss: 0.3416\n",
      "Epoch 21/100\n",
      "221/221 [==============================] - 647s 3s/step - loss: 0.3371\n",
      "Epoch 22/100\n",
      "221/221 [==============================] - 282s 1s/step - loss: 0.3272\n",
      "Epoch 23/100\n",
      "221/221 [==============================] - 269s 1s/step - loss: 0.3187\n",
      "Epoch 24/100\n",
      "221/221 [==============================] - 269s 1s/step - loss: 0.3109\n",
      "Epoch 25/100\n",
      "221/221 [==============================] - 277s 1s/step - loss: 0.3032\n",
      "Epoch 26/100\n",
      "221/221 [==============================] - 296s 1s/step - loss: 0.2985\n",
      "Epoch 27/100\n",
      "221/221 [==============================] - 331s 1s/step - loss: 0.2922\n",
      "Epoch 28/100\n",
      "221/221 [==============================] - 292s 1s/step - loss: 0.2857\n",
      "Epoch 29/100\n",
      "221/221 [==============================] - 286s 1s/step - loss: 0.2809\n",
      "Epoch 30/100\n",
      "221/221 [==============================] - 274s 1s/step - loss: 0.2780\n",
      "Epoch 31/100\n",
      "221/221 [==============================] - 279s 1s/step - loss: 0.2710\n",
      "Epoch 32/100\n",
      "221/221 [==============================] - 296s 1s/step - loss: 0.2718\n",
      "Epoch 33/100\n",
      "221/221 [==============================] - 322s 1s/step - loss: 0.2672\n",
      "Epoch 34/100\n",
      "221/221 [==============================] - 269s 1s/step - loss: 0.2628\n",
      "Epoch 35/100\n",
      "221/221 [==============================] - 268s 1s/step - loss: 0.2588\n",
      "Epoch 36/100\n",
      "221/221 [==============================] - 270s 1s/step - loss: 0.2575\n",
      "Epoch 37/100\n",
      "221/221 [==============================] - 270s 1s/step - loss: 0.2547\n",
      "Epoch 38/100\n",
      "221/221 [==============================] - 271s 1s/step - loss: 0.2527\n",
      "Epoch 39/100\n",
      "221/221 [==============================] - 270s 1s/step - loss: 0.2516\n",
      "Epoch 40/100\n",
      "221/221 [==============================] - 272s 1s/step - loss: 0.2486\n",
      "Epoch 41/100\n",
      "221/221 [==============================] - 270s 1s/step - loss: 0.2476\n",
      "Epoch 42/100\n",
      "221/221 [==============================] - 272s 1s/step - loss: 0.2475\n",
      "Epoch 43/100\n",
      "221/221 [==============================] - 273s 1s/step - loss: 0.2511\n",
      "Epoch 44/100\n",
      "221/221 [==============================] - 270s 1s/step - loss: 0.2446\n",
      "Epoch 45/100\n",
      "221/221 [==============================] - 271s 1s/step - loss: 0.2436\n",
      "Epoch 46/100\n",
      "221/221 [==============================] - 270s 1s/step - loss: 0.2445\n",
      "Epoch 47/100\n",
      "221/221 [==============================] - 270s 1s/step - loss: 0.2424\n",
      "Epoch 48/100\n",
      "221/221 [==============================] - 297s 1s/step - loss: 0.2409\n",
      "Epoch 49/100\n",
      "221/221 [==============================] - 296s 1s/step - loss: 0.2394\n",
      "Epoch 50/100\n",
      "221/221 [==============================] - 330s 1s/step - loss: 0.2381\n",
      "Epoch 51/100\n",
      "221/221 [==============================] - 319s 1s/step - loss: 0.2396\n",
      "Epoch 52/100\n",
      "221/221 [==============================] - 302s 1s/step - loss: 0.2378\n",
      "Epoch 53/100\n",
      "221/221 [==============================] - 275s 1s/step - loss: 0.2385\n",
      "Epoch 54/100\n",
      "221/221 [==============================] - 276s 1s/step - loss: 0.2395\n",
      "Epoch 55/100\n",
      "221/221 [==============================] - 276s 1s/step - loss: 0.2358\n",
      "Epoch 56/100\n",
      "221/221 [==============================] - 276s 1s/step - loss: 0.2382\n",
      "Epoch 57/100\n",
      "221/221 [==============================] - 277s 1s/step - loss: 0.2367\n",
      "Epoch 58/100\n",
      "221/221 [==============================] - 280s 1s/step - loss: 0.2348\n",
      "Epoch 59/100\n",
      "221/221 [==============================] - 276s 1s/step - loss: 0.2368\n",
      "Epoch 60/100\n",
      "221/221 [==============================] - 275s 1s/step - loss: 0.2348\n",
      "Epoch 61/100\n",
      "221/221 [==============================] - 275s 1s/step - loss: 0.2348\n",
      "Epoch 62/100\n",
      "221/221 [==============================] - 275s 1s/step - loss: 0.2327\n",
      "Epoch 63/100\n",
      "221/221 [==============================] - 285s 1s/step - loss: 0.2341\n",
      "Epoch 64/100\n",
      "221/221 [==============================] - 288s 1s/step - loss: 0.2347\n",
      "Epoch 65/100\n",
      "221/221 [==============================] - 328s 1s/step - loss: 0.2337\n",
      "Epoch 66/100\n",
      "221/221 [==============================] - 340s 2s/step - loss: 0.2321\n",
      "Epoch 67/100\n",
      "221/221 [==============================] - 342s 2s/step - loss: 0.2327\n",
      "Epoch 68/100\n",
      "221/221 [==============================] - 363s 2s/step - loss: 0.2329\n",
      "Epoch 69/100\n",
      "221/221 [==============================] - 371s 2s/step - loss: 0.2316\n",
      "Epoch 70/100\n",
      "221/221 [==============================] - 345s 2s/step - loss: 0.2302\n",
      "Epoch 71/100\n",
      "221/221 [==============================] - 360s 2s/step - loss: 0.2283\n",
      "Epoch 72/100\n",
      "221/221 [==============================] - 304s 1s/step - loss: 0.2312\n",
      "Epoch 73/100\n",
      "221/221 [==============================] - 369s 2s/step - loss: 0.2298\n",
      "Epoch 74/100\n",
      "221/221 [==============================] - 466s 2s/step - loss: 0.2314\n",
      "Epoch 75/100\n",
      "221/221 [==============================] - 339s 2s/step - loss: 0.2364\n",
      "Epoch 76/100\n",
      "221/221 [==============================] - 346s 2s/step - loss: 0.2319\n",
      "Epoch 77/100\n",
      "221/221 [==============================] - 367s 2s/step - loss: 0.2335\n",
      "Epoch 78/100\n",
      "221/221 [==============================] - 418s 2s/step - loss: 0.2287\n",
      "Epoch 79/100\n",
      "221/221 [==============================] - 387s 2s/step - loss: 0.2303\n",
      "Epoch 80/100\n",
      "221/221 [==============================] - 317s 1s/step - loss: 0.2297\n",
      "Epoch 81/100\n",
      "221/221 [==============================] - 13888s 63s/step - loss: 0.2275\n",
      "Epoch 82/100\n",
      "221/221 [==============================] - 600s 3s/step - loss: 0.2299\n",
      "Epoch 83/100\n",
      "221/221 [==============================] - 373s 2s/step - loss: 0.2266\n",
      "Epoch 84/100\n",
      "221/221 [==============================] - 341s 2s/step - loss: 0.2251\n",
      "Epoch 85/100\n",
      "221/221 [==============================] - 388s 2s/step - loss: 0.2286\n",
      "Epoch 86/100\n",
      "221/221 [==============================] - 375s 2s/step - loss: 0.2306\n",
      "Epoch 87/100\n",
      "221/221 [==============================] - 446s 2s/step - loss: 0.2254\n",
      "Epoch 88/100\n",
      "221/221 [==============================] - 343s 2s/step - loss: 0.2258\n",
      "Epoch 89/100\n",
      "221/221 [==============================] - 338s 2s/step - loss: 0.2264\n",
      "Epoch 90/100\n",
      "221/221 [==============================] - 392s 2s/step - loss: 0.2273\n",
      "Epoch 91/100\n",
      "221/221 [==============================] - 359s 2s/step - loss: 0.2253\n",
      "Epoch 92/100\n",
      "221/221 [==============================] - 361s 2s/step - loss: 0.2266\n",
      "Epoch 93/100\n",
      "221/221 [==============================] - 316s 1s/step - loss: 0.2248\n",
      "Epoch 94/100\n",
      "221/221 [==============================] - 269s 1s/step - loss: 0.2258\n",
      "Epoch 95/100\n",
      "221/221 [==============================] - 272s 1s/step - loss: 0.2273\n",
      "Epoch 96/100\n",
      "221/221 [==============================] - 267s 1s/step - loss: 0.2272\n",
      "Epoch 97/100\n",
      "221/221 [==============================] - 264s 1s/step - loss: 0.2261\n",
      "Epoch 98/100\n",
      "221/221 [==============================] - 260s 1s/step - loss: 0.2254\n",
      "Epoch 99/100\n",
      "221/221 [==============================] - 261s 1s/step - loss: 0.2270\n",
      "Epoch 100/100\n",
      "221/221 [==============================] - 261s 1s/step - loss: 0.2267\n"
     ]
    },
    {
     "data": {
      "text/plain": [
       "<keras.callbacks.History at 0x23a6b288>"
      ]
     },
     "execution_count": 13,
     "metadata": {},
     "output_type": "execute_result"
    }
   ],
   "source": [
    "model.fit_generator(load_data(train, batch_size),\n",
    "    epochs=100, steps_per_epoch=len(train)//batch_size, verbose=True)"
   ]
  },
  {
   "cell_type": "markdown",
   "metadata": {},
   "source": [
    "### Предсказание значений"
   ]
  },
  {
   "cell_type": "code",
   "execution_count": 14,
   "metadata": {},
   "outputs": [
    {
     "name": "stdout",
     "output_type": "stream",
     "text": [
      "1110/1110 [==============================] - 45s 40ms/step\n"
     ]
    }
   ],
   "source": [
    "prediction = model.predict_generator(load_data(test, 1),\n",
    "                            steps=len(test), verbose=1)"
   ]
  },
  {
   "cell_type": "code",
   "execution_count": 15,
   "metadata": {},
   "outputs": [],
   "source": [
    "def draw_prediction (prediction):\n",
    "    fig = plt.figure(figsize=(16, 8))\n",
    "    ax = fig.add_subplot(1,1,1)\n",
    "    ax.hist(prediction[0])\n",
    "    ax.set_title(\"Fish\")\n",
    "    plt.show()"
   ]
  },
  {
   "cell_type": "code",
   "execution_count": 16,
   "metadata": {},
   "outputs": [],
   "source": [
    "prediction = np.transpose(prediction)"
   ]
  },
  {
   "cell_type": "code",
   "execution_count": 17,
   "metadata": {},
   "outputs": [
    {
     "data": {
      "image/png": "[encoded data removed]",
      "text/plain": [
       "<Figure size 1152x576 with 1 Axes>"
      ]
     },
     "metadata": {
      "needs_background": "light"
     },
     "output_type": "display_data"
    }
   ],
   "source": [
    "draw_prediction(prediction)"
   ]
  },
  {
   "cell_type": "code",
   "execution_count": 27,
   "metadata": {},
   "outputs": [
    {
     "name": "stdout",
     "output_type": "stream",
     "text": [
      "                                           EncodedPixels  target\n",
      "15144  136115 1019 137515 1019 138915 1019 140315 101...       1\n",
      "21308                                                NaN       1\n",
      "15540  538566 179 539966 179 541366 179 542766 179 54...       1\n",
      "9132                                                 NaN       1\n",
      "19476  1853664 562 1854227 66 1855064 629 1856464 629...       1\n",
      "14744                                                NaN       1\n",
      "1036   429846 842 431246 842 432646 842 434046 842 43...       1\n",
      "19280                                                NaN       1\n",
      "6300                                                 NaN       1\n",
      "16296  300347 653 301747 653 303147 653 304547 653 30...       1\n",
      "17492                                                NaN       1\n",
      "9168   1410 223 2810 223 4210 223 5610 223 7010 223 8...       1\n",
      "21892                                                NaN       1\n",
      "10304                                                NaN       1\n",
      "12360  1603080 585 1604480 585 1605880 585 1607280 58...       1\n",
      "9440   95214 1284 96614 1284 98014 1284 99414 1284 10...       1\n",
      "9360   2374403 967 2375803 967 2377203 967 2378603 96...       1\n",
      "7528   115473 583 116873 583 118273 583 119673 583 12...       1\n",
      "3320                                                 NaN       1\n",
      "13300                                                NaN       1\n"
     ]
    }
   ],
   "source": [
    "test[\"target\"] = (prediction[0] >=1).astype(\"int8\")\n",
    "print (test[test[\"target\"]>0][[\"EncodedPixels\", \"target\"]].head(20))"
   ]
  },
  {
   "cell_type": "markdown",
   "metadata": {},
   "source": [
    "### Оценка по Дайсу\n",
    "Пока будем считать, что при определении типа облака на изображении, оно целиком размещено на фотографии: т.е. область облака - это все изображение."
   ]
  },
  {
   "cell_type": "markdown",
   "metadata": {},
   "source": [
    "Нет облаков - 0.5, MLP - 0.5"
   ]
  },
  {
   "cell_type": "code",
   "execution_count": 28,
   "metadata": {},
   "outputs": [
    {
     "name": "stdout",
     "output_type": "stream",
     "text": [
      "Kers, (CONV3-32x2,POOL2): 0.437\n"
     ]
    }
   ],
   "source": [
    "dice = test.apply(calc_dice, axis=1, result_type=\"expand\")\n",
    "print (\"Kers, (CONV3-32x2,POOL2):\", round(dice.mean(), 3))"
   ]
  }
 ],
 "metadata": {
  "kernelspec": {
   "display_name": "Python 3 (ipykernel)",
   "language": "python",
   "name": "python3"
  },
  "language_info": {
   "codemirror_mode": {
    "name": "ipython",
    "version": 3
   },
   "file_extension": ".py",
   "mimetype": "text/x-python",
   "name": "python",
   "nbconvert_exporter": "python",
   "pygments_lexer": "ipython3",
   "version": "3.11.1"
  }
 },
 "nbformat": 4,
 "nbformat_minor": 2
}
