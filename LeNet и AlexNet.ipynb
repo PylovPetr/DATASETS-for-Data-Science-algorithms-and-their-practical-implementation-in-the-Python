{
 "cells": [
  {
   "cell_type": "markdown",
   "metadata": {},
   "source": [
    "## Постановка задачи\n",
    "Разберем архитектуру LeNet и AlexNet для решения задач распознавания изображений. Применим их для анализа исходных изображений.\n",
    "\n",
    "Обучим модели, используя последовательную загрузку данных. Проведем оценку качества предсказания по коэффициенту сходства.\n",
    "\n",
    "Данные:\n",
    "* https://video.ittensive.com/machine-learning/clouds/train.csv.gz (54 Мб)\n",
    "* https://video.ittensive.com/machine-learning/clouds/train_images_small.tar.gz (212 Мб)\n",
    "\n",
    "Соревнование: https://www.kaggle.com/c/understanding_cloud_organization/"
   ]
  },
  {
   "cell_type": "markdown",
   "metadata": {},
   "source": [
    "### Подключение библиотек"
   ]
  },
  {
   "cell_type": "code",
   "execution_count": 1,
   "metadata": {},
   "outputs": [
    {
     "name": "stderr",
     "output_type": "stream",
     "text": [
      "Using TensorFlow backend.\n"
     ]
    }
   ],
   "source": [
    "%matplotlib inline\n",
    "import matplotlib.pyplot as plt\n",
    "import numpy as np\n",
    "import pandas as pd\n",
    "import keras\n",
    "from skimage import io\n",
    "from sklearn.model_selection import train_test_split\n",
    "from keras.models import Sequential\n",
    "from keras.layers import Dense, Activation, Flatten\n",
    "from keras.layers import Conv2D, MaxPooling2D, AveragePooling2D\n",
    "from keras.layers import BatchNormalization, ZeroPadding2D\n",
    "from keras import optimizers\n",
    "import os\n",
    "os.environ[\"KERAS_BACKEND\"] = \"plaidml.keras.backend\""
   ]
  },
  {
   "cell_type": "markdown",
   "metadata": {},
   "source": [
    "### Используемые функции"
   ]
  },
  {
   "cell_type": "code",
   "execution_count": 2,
   "metadata": {},
   "outputs": [],
   "source": [
    "filesDir = \"train_images_small\"\n",
    "batch_size = 20\n",
    "image_x = 525 # 525\n",
    "image_y = 350 # 350\n",
    "image_ch = 3 # 3\n",
    "def mask_rate (a, x, y):\n",
    "    b = a//1400 + 0.0\n",
    "    return np.round(x*(b*x//2100) + y*(a%1400)//1400).astype(\"uint32\")\n",
    "\n",
    "def calc_mask (px, x=image_x, y=image_y):\n",
    "    p = np.array([int(n) for n in px.split(' ')]).reshape(-1,2)\n",
    "    mask = np.zeros(x*y, dtype='uint8')\n",
    "    for i, l in p:\n",
    "        mask[mask_rate(i, x, y) - 1:mask_rate(l+i, x, y)] = 1\n",
    "    return mask.reshape(y,x).transpose()\n",
    "\n",
    "def calc_dice (x):\n",
    "    dice = 0\n",
    "    px = x[\"EncodedPixels\"] \n",
    "    if px != px and x[\"target\"] == 0:\n",
    "        dice = 1\n",
    "    elif px == px and x[\"target\"] == 1:\n",
    "        mask = calc_mask(px).flatten()\n",
    "        target = np.ones(image_x*image_y, dtype='uint8')\n",
    "        dice += 2*np.sum(target[mask==1])/(np.sum(target)+np.sum(mask))\n",
    "    return dice\n",
    "\n",
    "def load_y (df):\n",
    "    return np.array(df[\"EncodedPixels\"].notnull().astype(\"int8\")).reshape(len(df), 1)\n",
    "\n",
    "def load_x (df):\n",
    "    x = [[]]*len(df)\n",
    "    for j, file in enumerate(df[\"Image\"]):\n",
    "        x[j] = io.imread(os.path.join(filesDir, file))\n",
    "    return np.array(x).reshape(len(df), image_y, image_x, image_ch)\n",
    "\n",
    "def load_data (df, batch_size):\n",
    "    while True:\n",
    "        batch_start = 0\n",
    "        batch_end = batch_size\n",
    "        while batch_start < len(df):\n",
    "            limit = min(batch_end, len(df))\n",
    "            yield (load_x(df[batch_start:limit]),\n",
    "                   load_y(df[batch_start:limit]))\n",
    "            batch_start += batch_size   \n",
    "            batch_end += batch_size"
   ]
  },
  {
   "cell_type": "markdown",
   "metadata": {},
   "source": [
    "### Загрузка данных"
   ]
  },
  {
   "cell_type": "code",
   "execution_count": 3,
   "metadata": {
    "scrolled": true
   },
   "outputs": [],
   "source": [
    "data = pd.read_csv('https://video.ittensive.com/machine-learning/clouds/train.csv.gz')"
   ]
  },
  {
   "cell_type": "code",
   "execution_count": 4,
   "metadata": {},
   "outputs": [
    {
     "name": "stdout",
     "output_type": "stream",
     "text": [
      "                                        EncodedPixels        Image Label\n",
      "0   264918 937 266318 937 267718 937 269118 937 27...  0011165.jpg  Fish\n",
      "4   233813 878 235213 878 236613 878 238010 881 23...  002be4f.jpg  Fish\n",
      "8   3510 690 4910 690 6310 690 7710 690 9110 690 1...  0031ae9.jpg  Fish\n",
      "12                                                NaN  0035239.jpg  Fish\n",
      "16  2367966 18 2367985 2 2367993 8 2368002 62 2369...  003994e.jpg  Fish\n"
     ]
    }
   ],
   "source": [
    "data[\"Image\"] = data[\"Image_Label\"].str.split(\"_\").str[0]\n",
    "data[\"Label\"] = data[\"Image_Label\"].str.split(\"_\").str[1]\n",
    "data.drop(labels=[\"Image_Label\"], axis=1, inplace=True)\n",
    "data_fish = data[data[\"Label\"] == \"Fish\"]\n",
    "print (data_fish.head())"
   ]
  },
  {
   "cell_type": "markdown",
   "metadata": {},
   "source": [
    "### Разделение данных\n",
    "Разделим всю выборку на 2 части случайным образом: 80% - для обучения модели, 20% - для проверки точности модели."
   ]
  },
  {
   "cell_type": "code",
   "execution_count": 5,
   "metadata": {},
   "outputs": [
    {
     "name": "stdout",
     "output_type": "stream",
     "text": [
      "                                           EncodedPixels        Image Label\n",
      "4588                                                 NaN  3509cbc.jpg  Fish\n",
      "6900   1250336 847 1251736 847 1253136 847 1254536 84...  4f4b396.jpg  Fish\n",
      "7584   1162967 433 1164367 433 1165767 433 1167167 43...  567d89b.jpg  Fish\n",
      "10060  1524601 714 1526001 714 1527401 714 1528801 71...  729e50e.jpg  Fish\n",
      "7988   305201 1189 306601 1189 308001 1189 309401 118...  5b291dc.jpg  Fish\n"
     ]
    }
   ],
   "source": [
    "train, test = train_test_split(data_fish, test_size=0.2)\n",
    "train = pd.DataFrame(train)\n",
    "test = pd.DataFrame(test)\n",
    "del data\n",
    "print (train.head())"
   ]
  },
  {
   "cell_type": "markdown",
   "metadata": {},
   "source": [
    "### LeNet5\n",
    "Первая успешная архитектура сверточной нейросети, 1998\n",
    "![](lenet.png)"
   ]
  },
  {
   "cell_type": "code",
   "execution_count": 6,
   "metadata": {},
   "outputs": [
    {
     "name": "stderr",
     "output_type": "stream",
     "text": [
      "WARNING: Logging before flag parsing goes to stderr.\n",
      "W0317 10:37:34.046737  1788 deprecation_wrapper.py:119] From c:\\users\\nikolay\\appdata\\local\\programs\\python\\python37\\lib\\site-packages\\keras\\backend\\tensorflow_backend.py:3980: The name tf.nn.avg_pool is deprecated. Please use tf.nn.avg_pool2d instead.\n",
      "\n"
     ]
    }
   ],
   "source": [
    "lenet = Sequential([\n",
    "    Conv2D(6, (5,5), input_shape=(image_y, image_x, image_ch),\n",
    "          kernel_initializer=\"glorot_uniform\", strides=(1,1)),\n",
    "    Activation(\"relu\"),\n",
    "    AveragePooling2D(pool_size=(2,2)),\n",
    "    Conv2D(16, (5,5),\n",
    "          kernel_initializer=\"glorot_uniform\", strides=(1,1)),\n",
    "    Activation(\"relu\"),\n",
    "    AveragePooling2D(pool_size=(2,2)),\n",
    "    Flatten(),\n",
    "    Activation(\"tanh\"),\n",
    "    Dense(120),\n",
    "    Activation(\"tanh\"),\n",
    "    Dense(84),\n",
    "    Activation(\"softmax\"),\n",
    "    Dense(1)\n",
    "])"
   ]
  },
  {
   "cell_type": "markdown",
   "metadata": {},
   "source": [
    "### Обучение модели\n",
    "Обучим построенную модель и вычислим ее точность, используя самый лучший разделитель значений"
   ]
  },
  {
   "cell_type": "code",
   "execution_count": 10,
   "metadata": {},
   "outputs": [],
   "source": [
    "def train_evaluate_model (model):\n",
    "    model.compile(optimizer=optimizers.Nadam(lr=0.05),\n",
    "                 loss=\"mean_absolute_error\")\n",
    "    model.fit_generator(load_data(train, batch_size),\n",
    "            epochs=50, steps_per_epoch=len(train)//batch_size)\n",
    "    prediction = model.predict_generator(load_data(test, 1),\n",
    "            steps=len(test), verbose=1)\n",
    "    prediction = np.transpose(prediction)\n",
    "    fig = plt.figure(figsize=(16,8))\n",
    "    ax = fig.add_subplot(1,1,1)\n",
    "    ax.hist(prediction[0])\n",
    "    ax.set_title(\"Fish\")\n",
    "    plt.show()\n",
    "    acc = prediction[0].mean()\n",
    "    acc_max = prediction[0].max()\n",
    "    if acc == acc_max:\n",
    "        test[\"target\"] = np.round(prediction[0])\n",
    "        return test.apply(calc_dice, axis=1,\n",
    "                          result_type=\"expand\").mean()\n",
    "    else:\n",
    "        dice_best = 0\n",
    "        for i in range(0,20):\n",
    "            acc += (acc_max - acc)*i/20\n",
    "            test[\"target\"] = (prediction[0] >= acc).astype(\"int8\")\n",
    "            dice = test.apply(calc_dice, axis=1, result_type=\"expand\")\n",
    "            if dice_best < dice.mean():\n",
    "                dice_best = dice.mean()\n",
    "            else:\n",
    "                break\n",
    "        return dice_best"
   ]
  },
  {
   "cell_type": "code",
   "execution_count": 11,
   "metadata": {},
   "outputs": [
    {
     "name": "stdout",
     "output_type": "stream",
     "text": [
      "Epoch 1/50\n",
      "221/221 [==============================] - 863s 4s/step - loss: 0.4976\n",
      "Epoch 2/50\n",
      "221/221 [==============================] - 901s 4s/step - loss: 0.4968\n",
      "Epoch 3/50\n",
      "221/221 [==============================] - 882s 4s/step - loss: 0.4964\n",
      "Epoch 4/50\n",
      "221/221 [==============================] - 828s 4s/step - loss: 0.4968\n",
      "Epoch 5/50\n",
      "221/221 [==============================] - 797s 4s/step - loss: 0.4978\n",
      "Epoch 6/50\n",
      "221/221 [==============================] - 808s 4s/step - loss: 0.4972\n",
      "Epoch 7/50\n",
      "221/221 [==============================] - 791s 4s/step - loss: 0.4967\n",
      "Epoch 8/50\n",
      "221/221 [==============================] - 852s 4s/step - loss: 0.4971\n",
      "Epoch 9/50\n",
      "221/221 [==============================] - 949s 4s/step - loss: 0.4966\n",
      "Epoch 10/50\n",
      "221/221 [==============================] - 1177s 5s/step - loss: 0.4973\n",
      "Epoch 11/50\n",
      "221/221 [==============================] - 799s 4s/step - loss: 0.4964\n",
      "Epoch 12/50\n",
      "221/221 [==============================] - 799s 4s/step - loss: 0.4970\n",
      "Epoch 13/50\n",
      "221/221 [==============================] - 855s 4s/step - loss: 0.4965\n",
      "Epoch 14/50\n",
      "221/221 [==============================] - 800s 4s/step - loss: 0.4960\n",
      "Epoch 15/50\n",
      "221/221 [==============================] - 798s 4s/step - loss: 0.4961\n",
      "Epoch 16/50\n",
      "221/221 [==============================] - 799s 4s/step - loss: 0.4960\n",
      "Epoch 17/50\n",
      "221/221 [==============================] - 817s 4s/step - loss: 0.4965\n",
      "Epoch 18/50\n",
      "221/221 [==============================] - 923s 4s/step - loss: 0.4963\n",
      "Epoch 19/50\n",
      "221/221 [==============================] - 937s 4s/step - loss: 0.4965\n",
      "Epoch 20/50\n",
      "221/221 [==============================] - 981s 4s/step - loss: 0.4967\n",
      "Epoch 21/50\n",
      "221/221 [==============================] - 1025s 5s/step - loss: 0.4964\n",
      "Epoch 22/50\n",
      "221/221 [==============================] - 867s 4s/step - loss: 0.4966\n",
      "Epoch 23/50\n",
      "221/221 [==============================] - 889s 4s/step - loss: 0.4960\n",
      "Epoch 24/50\n",
      "221/221 [==============================] - 892s 4s/step - loss: 0.4956\n",
      "Epoch 25/50\n",
      "221/221 [==============================] - 846s 4s/step - loss: 0.4961\n",
      "Epoch 26/50\n",
      "221/221 [==============================] - 819s 4s/step - loss: 0.4961\n",
      "Epoch 27/50\n",
      "221/221 [==============================] - 823s 4s/step - loss: 0.4963\n",
      "Epoch 28/50\n",
      "221/221 [==============================] - 868s 4s/step - loss: 0.4959\n",
      "Epoch 29/50\n",
      "221/221 [==============================] - 814s 4s/step - loss: 0.4961\n",
      "Epoch 30/50\n",
      "221/221 [==============================] - 818s 4s/step - loss: 0.4961\n",
      "Epoch 31/50\n",
      "221/221 [==============================] - 812s 4s/step - loss: 0.4960\n",
      "Epoch 32/50\n",
      "221/221 [==============================] - 850s 4s/step - loss: 0.4980\n",
      "Epoch 33/50\n",
      "221/221 [==============================] - 1891s 9s/step - loss: 0.4957\n",
      "Epoch 34/50\n",
      "221/221 [==============================] - 851s 4s/step - loss: 0.4959\n",
      "Epoch 35/50\n",
      "221/221 [==============================] - 860s 4s/step - loss: 0.4984\n",
      "Epoch 36/50\n",
      "221/221 [==============================] - 11214s 51s/step - loss: 0.4957\n",
      "Epoch 37/50\n",
      "221/221 [==============================] - 1609s 7s/step - loss: 0.4963\n",
      "Epoch 38/50\n",
      "221/221 [==============================] - 1401s 6s/step - loss: 0.4934\n",
      "Epoch 39/50\n",
      "221/221 [==============================] - 816s 4s/step - loss: 0.4961\n",
      "Epoch 40/50\n",
      "221/221 [==============================] - 925s 4s/step - loss: 0.4979\n",
      "Epoch 41/50\n",
      "221/221 [==============================] - 869s 4s/step - loss: 0.4973\n",
      "Epoch 42/50\n",
      "221/221 [==============================] - 849s 4s/step - loss: 0.4956\n",
      "Epoch 43/50\n",
      "221/221 [==============================] - 848s 4s/step - loss: 0.4939\n",
      "Epoch 44/50\n",
      "221/221 [==============================] - 835s 4s/step - loss: 0.4969\n",
      "Epoch 45/50\n",
      "221/221 [==============================] - 834s 4s/step - loss: 0.4975\n",
      "Epoch 46/50\n",
      "221/221 [==============================] - 827s 4s/step - loss: 0.4953\n",
      "Epoch 47/50\n",
      "221/221 [==============================] - 826s 4s/step - loss: 0.4976\n",
      "Epoch 48/50\n",
      "221/221 [==============================] - 830s 4s/step - loss: 0.4978\n",
      "Epoch 49/50\n",
      "221/221 [==============================] - 828s 4s/step - loss: 0.4952\n",
      "Epoch 50/50\n",
      "221/221 [==============================] - 828s 4s/step - loss: 0.4994\n",
      "1110/1110 [==============================] - 84s 76ms/step\n"
     ]
    },
    {
     "data": {
      "image/png": "[encoded data removed]",
      "text/plain": [
       "<Figure size 1152x576 with 1 Axes>"
      ]
     },
     "metadata": {
      "needs_background": "light"
     },
     "output_type": "display_data"
    },
    {
     "name": "stdout",
     "output_type": "stream",
     "text": [
      "Keras, LeNet: 0.513\n"
     ]
    }
   ],
   "source": [
    "print (\"Keras, LeNet:\", round(train_evaluate_model(lenet), 3))"
   ]
  },
  {
   "cell_type": "code",
   "execution_count": 12,
   "metadata": {},
   "outputs": [],
   "source": [
    "del lenet"
   ]
  },
  {
   "cell_type": "markdown",
   "metadata": {},
   "source": [
    "### AlexNet и CaffeNet\n",
    "Первая сверточная нейросеть, победившая в ImageNet\n",
    "![](alexnet.webp)\n",
    "CaffeNet - однопроцессорная версия AlexNet\n",
    "\n",
    "Для реализации потребуется задать шаг свертки (strides) и дополнительные слои для заполнения границ изображения нулями, чтобы не уменьшать область после свертки."
   ]
  },
  {
   "cell_type": "code",
   "execution_count": 15,
   "metadata": {},
   "outputs": [],
   "source": [
    "alexnet = Sequential([\n",
    "    Conv2D(96, (11,11), input_shape=(image_y, image_x, image_ch),\n",
    "          kernel_initializer='glorot_uniform', strides=(4,4)),\n",
    "    Activation(\"relu\"),\n",
    "    BatchNormalization(),\n",
    "    MaxPooling2D(pool_size=(3,3), strides=(2,2)),\n",
    "    ZeroPadding2D(padding=(2,2)),\n",
    "    Conv2D(256, (5,5), kernel_initializer='glorot_uniform'),\n",
    "    Activation(\"relu\"),\n",
    "    BatchNormalization(),\n",
    "    MaxPooling2D(pool_size=(3,3), strides=(2,2)),\n",
    "    ZeroPadding2D(padding=(1,1)),\n",
    "    Conv2D(384, (3,3), kernel_initializer='glorot_uniform'),\n",
    "    Activation(\"relu\"),\n",
    "    BatchNormalization(),\n",
    "    ZeroPadding2D(padding=(1,1)),\n",
    "    Conv2D(384, (3,3), kernel_initializer='glorot_uniform'),\n",
    "    Activation(\"relu\"),\n",
    "    BatchNormalization(),\n",
    "    ZeroPadding2D(padding=(1,1)),\n",
    "    Conv2D(256, (3,3), kernel_initializer='glorot_uniform'),\n",
    "    Activation(\"relu\"),\n",
    "    BatchNormalization(),\n",
    "    MaxPooling2D(pool_size=(3,3), strides=(2,2)),\n",
    "    Flatten(),\n",
    "    Activation(\"relu\"),\n",
    "    Dense(1024),\n",
    "    Activation(\"relu\"),\n",
    "    Dense(1024),\n",
    "    Activation(\"softmax\"),\n",
    "    Dense(1)\n",
    "])"
   ]
  },
  {
   "cell_type": "code",
   "execution_count": 16,
   "metadata": {},
   "outputs": [
    {
     "name": "stdout",
     "output_type": "stream",
     "text": [
      "Epoch 1/50\n",
      "221/221 [==============================] - 3937s 18s/step - loss: 0.5009\n",
      "Epoch 2/50\n",
      "221/221 [==============================] - 4251s 19s/step - loss: 0.4972\n",
      "Epoch 3/50\n",
      "221/221 [==============================] - 4218s 19s/step - loss: 0.4968\n",
      "Epoch 4/50\n",
      "221/221 [==============================] - 5887s 27s/step - loss: 0.4966\n",
      "Epoch 5/50\n",
      "221/221 [==============================] - 6410s 29s/step - loss: 0.4979\n",
      "Epoch 6/50\n",
      "221/221 [==============================] - 9919s 45s/step - loss: 0.4984\n",
      "Epoch 7/50\n",
      "221/221 [==============================] - 4279s 19s/step - loss: 0.4969\n",
      "Epoch 8/50\n",
      "221/221 [==============================] - 15050s 68s/step - loss: 0.4970\n",
      "Epoch 9/50\n",
      "221/221 [==============================] - 6435s 29s/step - loss: 0.4958\n",
      "Epoch 10/50\n",
      "221/221 [==============================] - 4118s 19s/step - loss: 0.4970\n",
      "Epoch 11/50\n",
      "221/221 [==============================] - 4070s 18s/step - loss: 0.4969\n",
      "Epoch 12/50\n",
      "221/221 [==============================] - 4292s 19s/step - loss: 0.4963\n",
      "Epoch 13/50\n",
      "221/221 [==============================] - 19772s 89s/step - loss: 0.4979\n",
      "Epoch 14/50\n",
      "221/221 [==============================] - 10455s 47s/step - loss: 0.4963\n",
      "Epoch 15/50\n",
      "221/221 [==============================] - 5648s 26s/step - loss: 0.4982\n",
      "Epoch 16/50\n",
      "221/221 [==============================] - 4355s 20s/step - loss: 0.4968\n",
      "Epoch 17/50\n",
      "221/221 [==============================] - 4834s 22s/step - loss: 0.4957\n",
      "Epoch 18/50\n",
      "221/221 [==============================] - 13873s 63s/step - loss: 0.4962\n",
      "Epoch 19/50\n",
      "221/221 [==============================] - 4492s 20s/step - loss: 0.4965\n",
      "Epoch 20/50\n",
      "221/221 [==============================] - 4139s 19s/step - loss: 0.4965\n",
      "Epoch 21/50\n",
      "221/221 [==============================] - 3980s 18s/step - loss: 0.4964\n",
      "Epoch 22/50\n",
      "221/221 [==============================] - 3928s 18s/step - loss: 0.4964\n",
      "Epoch 23/50\n",
      "221/221 [==============================] - 3968s 18s/step - loss: 0.4960\n",
      "Epoch 24/50\n",
      "221/221 [==============================] - 3897s 18s/step - loss: 0.4955\n",
      "Epoch 25/50\n",
      "221/221 [==============================] - 3883s 18s/step - loss: 0.4964\n",
      "Epoch 26/50\n",
      "221/221 [==============================] - 3924s 18s/step - loss: 0.4962\n",
      "Epoch 27/50\n",
      "221/221 [==============================] - 3931s 18s/step - loss: 0.4964\n",
      "Epoch 28/50\n",
      "221/221 [==============================] - 3889s 18s/step - loss: 0.4959\n",
      "Epoch 29/50\n",
      "221/221 [==============================] - 4191s 19s/step - loss: 0.4959\n",
      "Epoch 30/50\n",
      "221/221 [==============================] - 3953s 18s/step - loss: 0.4982\n",
      "Epoch 31/50\n",
      "221/221 [==============================] - 11495s 52s/step - loss: 0.4959\n",
      "Epoch 32/50\n",
      "221/221 [==============================] - 29502s 133s/step - loss: 0.4959\n",
      "Epoch 33/50\n",
      "221/221 [==============================] - 3897s 18s/step - loss: 0.4980\n",
      "Epoch 34/50\n",
      "221/221 [==============================] - 3900s 18s/step - loss: 0.4958\n",
      "Epoch 35/50\n",
      "221/221 [==============================] - 3877s 18s/step - loss: 0.4964\n",
      "Epoch 36/50\n",
      "221/221 [==============================] - 3967s 18s/step - loss: 0.4954\n",
      "Epoch 37/50\n",
      "221/221 [==============================] - 3879s 18s/step - loss: 0.4959\n",
      "Epoch 38/50\n",
      "221/221 [==============================] - 3882s 18s/step - loss: 0.4981\n",
      "Epoch 39/50\n",
      "221/221 [==============================] - 3880s 18s/step - loss: 0.4970\n",
      "Epoch 40/50\n",
      "221/221 [==============================] - 3880s 18s/step - loss: 0.4978\n",
      "Epoch 41/50\n",
      "221/221 [==============================] - 3881s 18s/step - loss: 0.4962\n",
      "Epoch 42/50\n",
      "221/221 [==============================] - 3881s 18s/step - loss: 0.4970\n",
      "Epoch 43/50\n",
      "221/221 [==============================] - 9570s 43s/step - loss: 0.4979\n",
      "Epoch 44/50\n",
      "221/221 [==============================] - 4848s 22s/step - loss: 0.4970\n",
      "Epoch 45/50\n",
      "221/221 [==============================] - 5085s 23s/step - loss: 0.4976\n",
      "Epoch 46/50\n",
      "221/221 [==============================] - 5478s 25s/step - loss: 0.4957\n",
      "Epoch 47/50\n",
      "221/221 [==============================] - 19737s 89s/step - loss: 0.4971\n",
      "Epoch 48/50\n",
      "221/221 [==============================] - 7660s 35s/step - loss: 0.4960\n",
      "Epoch 49/50\n",
      "221/221 [==============================] - 7113s 32s/step - loss: 0.4965\n",
      "Epoch 50/50\n",
      "221/221 [==============================] - 7303s 33s/step - loss: 0.4980\n",
      "1110/1110 [==============================] - 607s 547ms/step\n"
     ]
    },
    {
     "data": {
      "image/png": "[encoded data removed]",
      "text/plain": [
       "<Figure size 1152x576 with 1 Axes>"
      ]
     },
     "metadata": {
      "needs_background": "light"
     },
     "output_type": "display_data"
    },
    {
     "name": "stdout",
     "output_type": "stream",
     "text": [
      "Keras, AlexNet: 0.167\n"
     ]
    }
   ],
   "source": [
    "print (\"Keras, AlexNet:\", round(train_evaluate_model(alexnet), 3))"
   ]
  }
 ],
 "metadata": {
  "kernelspec": {
   "display_name": "Python 3 (ipykernel)",
   "language": "python",
   "name": "python3"
  },
  "language_info": {
   "codemirror_mode": {
    "name": "ipython",
    "version": 3
   },
   "file_extension": ".py",
   "mimetype": "text/x-python",
   "name": "python",
   "nbconvert_exporter": "python",
   "pygments_lexer": "ipython3",
   "version": "3.11.1"
  }
 },
 "nbformat": 4,
 "nbformat_minor": 2
}
