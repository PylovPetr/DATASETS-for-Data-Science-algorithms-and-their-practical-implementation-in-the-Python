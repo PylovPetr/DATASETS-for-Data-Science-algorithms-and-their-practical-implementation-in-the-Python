{
 "cells": [
  {
   "cell_type": "markdown",
   "metadata": {},
   "source": [
    "## Постановка задачи\n",
    "Загрузим данные, приведем их к числовым, заполним пропуски, нормализуем данные и оптимизируем память.\n",
    "\n",
    "Разделим выборку на обучающую/проверочную в соотношении 80/20.\n",
    "\n",
    "Построим ансамбль решающих деревьев, используя патентованный градиентный бустинг Яндекса (CatBoost). Используем перекрестную проверку, чтобы найти наилучшие параметры ансамбля.\n",
    "\n",
    "Проведем предсказание и проверим качество через каппа-метрику.\n",
    "\n",
    "Данные:\n",
    "* https://video.ittensive.com/machine-learning/prudential/train.csv.gz\n",
    "\n",
    "Соревнование: https://www.kaggle.com/c/prudential-life-insurance-assessment/"
   ]
  },
  {
   "cell_type": "markdown",
   "metadata": {},
   "source": [
    "### Подключение библиотек"
   ]
  },
  {
   "cell_type": "code",
   "execution_count": 1,
   "metadata": {},
   "outputs": [],
   "source": [
    "import pandas as pd\n",
    "import numpy as np\n",
    "from sklearn.model_selection import train_test_split\n",
    "from sklearn.metrics import cohen_kappa_score, confusion_matrix\n",
    "from catboost import Pool, CatBoostClassifier\n",
    "from sklearn import preprocessing"
   ]
  },
  {
   "cell_type": "markdown",
   "metadata": {},
   "source": [
    "### Загрузка данных"
   ]
  },
  {
   "cell_type": "code",
   "execution_count": 2,
   "metadata": {},
   "outputs": [
    {
     "name": "stdout",
     "output_type": "stream",
     "text": [
      "<class 'pandas.core.frame.DataFrame'>\n",
      "RangeIndex: 59381 entries, 0 to 59380\n",
      "Columns: 128 entries, Id to Response\n",
      "dtypes: float64(18), int64(109), object(1)\n",
      "memory usage: 58.0+ MB\n",
      "None\n"
     ]
    }
   ],
   "source": [
    "data = pd.read_csv(\"https://video.ittensive.com/machine-learning/prudential/train.csv.gz\")\n",
    "print (data.info())"
   ]
  },
  {
   "cell_type": "markdown",
   "metadata": {},
   "source": [
    "### Предобработка данных"
   ]
  },
  {
   "cell_type": "code",
   "execution_count": 3,
   "metadata": {},
   "outputs": [],
   "source": [
    "data[\"Product_Info_2_1\"] = data[\"Product_Info_2\"].str.slice(0, 1)\n",
    "data[\"Product_Info_2_2\"] = pd.to_numeric(data[\"Product_Info_2\"].str.slice(1, 2))\n",
    "data.drop(labels=[\"Product_Info_2\"], axis=1, inplace=True)\n",
    "for l in data[\"Product_Info_2_1\"].unique():\n",
    "    data[\"Product_Info_2_1\" + l] = data[\"Product_Info_2_1\"].isin([l]).astype(\"int8\")\n",
    "data.drop(labels=[\"Product_Info_2_1\"], axis=1, inplace=True)\n",
    "data.fillna(value=-1, inplace=True)\n",
    "data[\"Response\"] = data[\"Response\"] - 1"
   ]
  },
  {
   "cell_type": "markdown",
   "metadata": {},
   "source": [
    "### Набор столбцов для расчета"
   ]
  },
  {
   "cell_type": "code",
   "execution_count": 4,
   "metadata": {},
   "outputs": [
    {
     "name": "stdout",
     "output_type": "stream",
     "text": [
      "['Wt', 'Ht', 'Ins_Age', 'BMI', 'Insurance_History_1', 'Insurance_History_2', 'Insurance_History_3', 'Insurance_History_4', 'Insurance_History_5', 'Insurance_History_7', 'Insurance_History_8', 'Insurance_History_9', 'Medical_Keyword_1', 'Medical_Keyword_2', 'Medical_Keyword_3', 'Medical_Keyword_4', 'Medical_Keyword_5', 'Medical_Keyword_6', 'Medical_Keyword_7', 'Medical_Keyword_8', 'Medical_Keyword_9', 'Medical_Keyword_10', 'Medical_Keyword_11', 'Medical_Keyword_12', 'Medical_Keyword_13', 'Medical_Keyword_14', 'Medical_Keyword_15', 'Medical_Keyword_16', 'Medical_Keyword_17', 'Medical_Keyword_18', 'Medical_Keyword_19', 'Medical_Keyword_20', 'Medical_Keyword_21', 'Medical_Keyword_22', 'Medical_Keyword_23', 'Medical_Keyword_24', 'Medical_Keyword_25', 'Medical_Keyword_26', 'Medical_Keyword_27', 'Medical_Keyword_28', 'Medical_Keyword_29', 'Medical_Keyword_30', 'Medical_Keyword_31', 'Medical_Keyword_32', 'Medical_Keyword_33', 'Medical_Keyword_34', 'Medical_Keyword_35', 'Medical_Keyword_36', 'Medical_Keyword_37', 'Medical_Keyword_38', 'Medical_Keyword_39', 'Medical_Keyword_40', 'Medical_Keyword_41', 'Medical_Keyword_42', 'Medical_Keyword_43', 'Medical_Keyword_44', 'Medical_Keyword_45', 'Medical_Keyword_46', 'Medical_Keyword_47', 'Medical_Keyword_48', 'Family_Hist_1', 'Family_Hist_2', 'Family_Hist_3', 'Family_Hist_4', 'Family_Hist_5', 'Medical_History_1', 'Medical_History_2', 'Medical_History_3', 'Medical_History_4', 'Medical_History_5', 'Medical_History_6', 'Medical_History_7', 'Medical_History_8', 'Medical_History_9', 'Medical_History_10', 'Medical_History_11', 'Medical_History_12', 'Medical_History_13', 'Medical_History_14', 'Medical_History_15', 'Medical_History_16', 'Medical_History_17', 'Medical_History_18', 'Medical_History_19', 'Medical_History_20', 'Medical_History_21', 'Medical_History_22', 'Medical_History_23', 'Medical_History_24', 'Medical_History_25', 'Medical_History_26', 'Medical_History_27', 'Medical_History_28', 'Medical_History_29', 'Medical_History_30', 'Medical_History_31', 'Medical_History_32', 'Medical_History_33', 'Medical_History_34', 'Medical_History_35', 'Medical_History_36', 'Medical_History_37', 'Medical_History_38', 'Medical_History_39', 'Medical_History_40', 'Medical_History_41', 'Product_Info_1', 'Product_Info_3', 'Product_Info_4', 'Product_Info_5', 'Product_Info_6', 'Product_Info_7', 'Product_Info_2_2', 'Product_Info_2_1D', 'Product_Info_2_1A', 'Product_Info_2_1E', 'Product_Info_2_1C', 'Product_Info_2_1B']\n"
     ]
    }
   ],
   "source": [
    "columns_groups = [\"Insurance_History\", \"InsurеdInfo\", \"Medical_Keyword\",\n",
    "                  \"Family_Hist\", \"Medical_History\", \"Product_Info\"]\n",
    "columns = [\"Wt\", \"Ht\", \"Ins_Age\", \"BMI\"]\n",
    "for cg in columns_groups:\n",
    "    columns.extend(data.columns[data.columns.str.startswith(cg)])\n",
    "print (columns)"
   ]
  },
  {
   "cell_type": "markdown",
   "metadata": {},
   "source": [
    "### Нормализация данных"
   ]
  },
  {
   "cell_type": "code",
   "execution_count": 5,
   "metadata": {},
   "outputs": [],
   "source": [
    "scaler = preprocessing.StandardScaler()\n",
    "data_transformed = pd.DataFrame(scaler.fit_transform(pd.DataFrame(data,\n",
    "                                                     columns=columns)))\n",
    "columns_transformed = data_transformed.columns\n",
    "data_transformed[\"Response\"] = data[\"Response\"]"
   ]
  },
  {
   "cell_type": "markdown",
   "metadata": {},
   "source": [
    "### Оптимизация памяти"
   ]
  },
  {
   "cell_type": "code",
   "execution_count": 6,
   "metadata": {},
   "outputs": [],
   "source": [
    "def reduce_mem_usage (df):\n",
    "    start_mem = df.memory_usage().sum() / 1024**2    \n",
    "    for col in df.columns:\n",
    "        col_type = df[col].dtypes\n",
    "        if str(col_type)[:5] == \"float\":\n",
    "            c_min = df[col].min()\n",
    "            c_max = df[col].max()\n",
    "            if c_min > np.finfo(\"f2\").min and c_max < np.finfo(\"f2\").max:\n",
    "                df[col] = df[col].astype(np.float16)\n",
    "            elif c_min > np.finfo(\"f4\").min and c_max < np.finfo(\"f4\").max:\n",
    "                df[col] = df[col].astype(np.float32)\n",
    "            else:\n",
    "                df[col] = df[col].astype(np.float64)\n",
    "        elif str(col_type)[:3] == \"int\":\n",
    "            c_min = df[col].min()\n",
    "            c_max = df[col].max()\n",
    "            if c_min > np.iinfo(\"i1\").min and c_max < np.iinfo(\"i1\").max:\n",
    "                df[col] = df[col].astype(np.int8)\n",
    "            elif c_min > np.iinfo(\"i2\").min and c_max < np.iinfo(\"i2\").max:\n",
    "                df[col] = df[col].astype(np.int16)\n",
    "            elif c_min > np.iinfo(\"i4\").min and c_max < np.iinfo(\"i4\").max:\n",
    "                df[col] = df[col].astype(np.int32)\n",
    "            elif c_min > np.iinfo(\"i8\").min and c_max < np.iinfo(\"i8\").max:\n",
    "                df[col] = df[col].astype(np.int64)\n",
    "        else:\n",
    "            df[col] = df[col].astype(\"category\")\n",
    "    end_mem = df.memory_usage().sum() / 1024**2\n",
    "    print('Потребление памяти меньше на', round(start_mem - end_mem, 2), 'Мб (минус', round(100 * (start_mem - end_mem) / start_mem, 1), '%)')\n",
    "    return df"
   ]
  },
  {
   "cell_type": "code",
   "execution_count": 7,
   "metadata": {},
   "outputs": [
    {
     "name": "stdout",
     "output_type": "stream",
     "text": [
      "Потребление памяти меньше на 40.49 Мб (минус 75.1 %)\n",
      "<class 'pandas.core.frame.DataFrame'>\n",
      "RangeIndex: 59381 entries, 0 to 59380\n",
      "Columns: 119 entries, 0 to Response\n",
      "dtypes: float16(118), int8(1)\n",
      "memory usage: 13.4 MB\n",
      "None\n"
     ]
    }
   ],
   "source": [
    "data_transformed = reduce_mem_usage(data_transformed)\n",
    "print (data_transformed.info())"
   ]
  },
  {
   "cell_type": "markdown",
   "metadata": {},
   "source": [
    "### Разделение данных\n",
    "Преобразуем выборки в отдельные наборы данных"
   ]
  },
  {
   "cell_type": "code",
   "execution_count": 8,
   "metadata": {},
   "outputs": [
    {
     "name": "stdout",
     "output_type": "stream",
     "text": [
      "              0         1         2         3         4         5         6  \\\n",
      "29740  0.426270  1.003906  1.424805 -0.081970  0.611816 -0.169434  0.862305   \n",
      "53953  0.543945  1.003906  0.667969  0.049133  0.611816 -0.169434  0.862305   \n",
      "41278 -1.618164 -1.200195 -0.694336 -1.456055 -1.634766 -0.169434  0.862305   \n",
      "26944  0.097351 -0.710449 -0.618652  0.658203  0.611816 -0.169434 -1.159180   \n",
      "35805 -0.866211 -0.220581  0.441162 -0.935547  0.611816  5.902344 -1.159180   \n",
      "\n",
      "              7         8         9  ...       109       110       111  \\\n",
      "29740 -1.013672  0.863281 -0.928711  ... -0.083679  0.441650 -0.149292   \n",
      "53953 -1.013672  0.863770 -0.928711  ... -0.083679  0.441650 -0.149292   \n",
      "41278 -1.013672  0.867676 -0.928711  ... -0.083679 -2.263672 -0.149292   \n",
      "26944  1.100586 -1.156250  1.130859  ... -0.083679  0.441650 -0.149292   \n",
      "35805  1.100586 -1.156250  1.130859  ... -0.083679  0.441650 -0.149292   \n",
      "\n",
      "            112       113       114       115       116      117  Response  \n",
      "29740  2.134766 -1.332031  1.604492 -0.215942 -0.128906 -0.14209         6  \n",
      "53953 -0.666992 -1.332031  1.604492 -0.215942 -0.128906 -0.14209         5  \n",
      "41278 -0.200073  0.750977 -0.623535 -0.215942 -0.128906 -0.14209         7  \n",
      "26944  1.200195 -1.332031  1.604492 -0.215942 -0.128906 -0.14209         5  \n",
      "35805 -1.133789 -1.332031 -0.623535 -0.215942  7.761719 -0.14209         1  \n",
      "\n",
      "[5 rows x 119 columns]\n"
     ]
    }
   ],
   "source": [
    "data_train, data_test = train_test_split(data_transformed,\n",
    "                                         test_size=0.2)\n",
    "data_train = pd.DataFrame(data_train)\n",
    "data_test = pd.DataFrame(data_test)\n",
    "print (data_train.head())"
   ]
  },
  {
   "cell_type": "markdown",
   "metadata": {},
   "source": [
    "### CatBoost\n",
    "Основные преимущества: умение работать с категориальными (номинативными) признаками и бОльшая точность, чем LighGBM\n",
    "\n",
    "Алгоритм запускается сразу на всех ядрах процессора, это существенно ускоряет работу.\n",
    "\n",
    "В качестве ансамблирования выберем метод опорных векторов (MVS), он ранее показал хорошую точность (и для CatBoost он тоже повышает точность на рассматриваемых данных)."
   ]
  },
  {
   "cell_type": "code",
   "execution_count": 9,
   "metadata": {},
   "outputs": [],
   "source": [
    "x = pd.DataFrame(data_train, columns=columns_transformed)\n",
    "train_dataset = Pool(data=x, label=data_train[\"Response\"])\n",
    "model = CatBoostClassifier(iterations=10, learning_rate=0.57,\n",
    "                random_seed=17, depth=6, loss_function=\"MultiClass\",\n",
    "                bootstrap_type=\"MVS\", custom_metric=\"WKappa\")"
   ]
  },
  {
   "cell_type": "markdown",
   "metadata": {},
   "source": [
    "Диапазон тестирования параметров модели ограничен только вычислительной мощностью. Для проверки модели имеет смысл провести индивидуальные перекрестные проверки для каждого параметра в отдельности, затем в итоговой проверке перепроверить самые лучшие найденные параметры с отклонением +/-10%.\n",
    "\n",
    "Гиперпараметры оптимизации:\n",
    "* depth - максимальная глубина деревьев,\n",
    "* learning_rate - скорость обучения\n",
    "* l2_leaf_reg - L2 параметр регуляризации для функции стоимости"
   ]
  },
  {
   "cell_type": "code",
   "execution_count": 10,
   "metadata": {},
   "outputs": [
    {
     "name": "stdout",
     "output_type": "stream",
     "text": [
      "0:\tloss: 1.2816254\tbest: 1.2816254 (0)\ttotal: 4.13s\tremaining: 2m 24s\n",
      "1:\tloss: 1.2778343\tbest: 1.2778343 (1)\ttotal: 7.97s\tremaining: 2m 15s\n",
      "2:\tloss: 1.2762517\tbest: 1.2762517 (2)\ttotal: 11.7s\tremaining: 2m 9s\n",
      "3:\tloss: 1.2771619\tbest: 1.2762517 (2)\ttotal: 15.4s\tremaining: 2m 3s\n",
      "4:\tloss: 1.2856658\tbest: 1.2762517 (2)\ttotal: 19.1s\tremaining: 1m 58s\n",
      "5:\tloss: 1.2788533\tbest: 1.2762517 (2)\ttotal: 22.8s\tremaining: 1m 53s\n",
      "6:\tloss: 1.2788416\tbest: 1.2762517 (2)\ttotal: 26.6s\tremaining: 1m 50s\n",
      "7:\tloss: 1.2813785\tbest: 1.2762517 (2)\ttotal: 30.5s\tremaining: 1m 46s\n",
      "8:\tloss: 1.2885144\tbest: 1.2762517 (2)\ttotal: 34.9s\tremaining: 1m 44s\n",
      "9:\tloss: 1.2803815\tbest: 1.2762517 (2)\ttotal: 38.6s\tremaining: 1m 40s\n",
      "10:\tloss: 1.2824530\tbest: 1.2762517 (2)\ttotal: 42.2s\tremaining: 1m 35s\n",
      "11:\tloss: 1.2817148\tbest: 1.2762517 (2)\ttotal: 46.1s\tremaining: 1m 32s\n",
      "12:\tloss: 1.2697193\tbest: 1.2697193 (12)\ttotal: 51.1s\tremaining: 1m 30s\n",
      "13:\tloss: 1.2715684\tbest: 1.2697193 (12)\ttotal: 56s\tremaining: 1m 28s\n",
      "14:\tloss: 1.2709726\tbest: 1.2697193 (12)\ttotal: 1m 1s\tremaining: 1m 25s\n",
      "15:\tloss: 1.2723835\tbest: 1.2697193 (12)\ttotal: 1m 5s\tremaining: 1m 22s\n",
      "16:\tloss: 1.2690889\tbest: 1.2690889 (16)\ttotal: 1m 10s\tremaining: 1m 18s\n",
      "17:\tloss: 1.2677510\tbest: 1.2677510 (17)\ttotal: 1m 15s\tremaining: 1m 15s\n",
      "18:\tloss: 1.2716304\tbest: 1.2677510 (17)\ttotal: 1m 19s\tremaining: 1m 11s\n",
      "19:\tloss: 1.2705394\tbest: 1.2677510 (17)\ttotal: 1m 24s\tremaining: 1m 7s\n",
      "20:\tloss: 1.2726550\tbest: 1.2677510 (17)\ttotal: 1m 29s\tremaining: 1m 3s\n",
      "21:\tloss: 1.2720823\tbest: 1.2677510 (17)\ttotal: 1m 34s\tremaining: 60s\n",
      "22:\tloss: 1.2727118\tbest: 1.2677510 (17)\ttotal: 1m 39s\tremaining: 56.1s\n",
      "23:\tloss: 1.2735933\tbest: 1.2677510 (17)\ttotal: 1m 44s\tremaining: 52s\n",
      "24:\tloss: 1.2555733\tbest: 1.2555733 (24)\ttotal: 1m 54s\tremaining: 50.3s\n",
      "25:\tloss: 1.2645743\tbest: 1.2555733 (24)\ttotal: 2m 4s\tremaining: 47.9s\n",
      "26:\tloss: 1.2522148\tbest: 1.2522148 (26)\ttotal: 2m 14s\tremaining: 44.8s\n",
      "27:\tloss: 1.2617746\tbest: 1.2522148 (26)\ttotal: 2m 24s\tremaining: 41.3s\n",
      "28:\tloss: 1.2660059\tbest: 1.2522148 (26)\ttotal: 2m 34s\tremaining: 37.3s\n",
      "29:\tloss: 1.2553680\tbest: 1.2522148 (26)\ttotal: 2m 46s\tremaining: 33.3s\n",
      "30:\tloss: 1.2579626\tbest: 1.2522148 (26)\ttotal: 2m 56s\tremaining: 28.5s\n",
      "31:\tloss: 1.2669948\tbest: 1.2522148 (26)\ttotal: 3m 6s\tremaining: 23.4s\n",
      "32:\tloss: 1.2650369\tbest: 1.2522148 (26)\ttotal: 3m 17s\tremaining: 17.9s\n",
      "33:\tloss: 1.2642775\tbest: 1.2522148 (26)\ttotal: 3m 27s\tremaining: 12.2s\n",
      "34:\tloss: 1.2695645\tbest: 1.2522148 (26)\ttotal: 3m 37s\tremaining: 6.2s\n",
      "35:\tloss: 1.2579431\tbest: 1.2522148 (26)\ttotal: 3m 47s\tremaining: 0us\n",
      "Estimating final quality...\n",
      "{'depth': 7, 'l2_leaf_reg': 1, 'learning_rate': 0.5800000000000001}\n"
     ]
    }
   ],
   "source": [
    "cb_params = {\n",
    "    \"depth\": range(5,8),\n",
    "    'learning_rate': np.arange(0.56,0.59,0.01),\n",
    "    'l2_leaf_reg': range(1,5),\n",
    "}\n",
    "cb_grid = model.grid_search(cb_params, cv=5, X=x,\n",
    "                y=data_train[\"Response\"], verbose=True)\n",
    "print (cb_grid[\"params\"])"
   ]
  },
  {
   "cell_type": "markdown",
   "metadata": {},
   "source": [
    "Выведем самые оптимальные параметры и построим итоговую модель"
   ]
  },
  {
   "cell_type": "code",
   "execution_count": 12,
   "metadata": {},
   "outputs": [
    {
     "name": "stdout",
     "output_type": "stream",
     "text": [
      "{'depth': 7, 'l2_leaf_reg': 1, 'learning_rate': 0.5800000000000001}\n"
     ]
    }
   ],
   "source": [
    "print (cb_grid[\"params\"])\n",
    "model = CatBoostClassifier(iterations=100,\n",
    "        learning_rate=cb_grid[\"params\"][\"learning_rate\"],\n",
    "        depth=cb_grid[\"params\"][\"depth\"],\n",
    "        l2_leaf_reg=cb_grid[\"params\"][\"l2_leaf_reg\"],\n",
    "        random_seed=17, loss_function=\"MultiClass\",\n",
    "        bootstrap_type=\"MVS\", custom_metric=\"WKappa\")"
   ]
  },
  {
   "cell_type": "code",
   "execution_count": 13,
   "metadata": {},
   "outputs": [
    {
     "name": "stdout",
     "output_type": "stream",
     "text": [
      "0:\tlearn: 1.5260121\ttotal: 1.64s\tremaining: 2m 42s\n",
      "1:\tlearn: 1.4298948\ttotal: 2.86s\tremaining: 2m 19s\n",
      "2:\tlearn: 1.3249085\ttotal: 4.11s\tremaining: 2m 12s\n",
      "3:\tlearn: 1.2901868\ttotal: 5.3s\tremaining: 2m 7s\n",
      "4:\tlearn: 1.2671400\ttotal: 6.6s\tremaining: 2m 5s\n",
      "5:\tlearn: 1.2555368\ttotal: 7.69s\tremaining: 2m\n",
      "6:\tlearn: 1.2450711\ttotal: 8.91s\tremaining: 1m 58s\n",
      "7:\tlearn: 1.2376520\ttotal: 10s\tremaining: 1m 55s\n",
      "8:\tlearn: 1.2261509\ttotal: 11.3s\tremaining: 1m 53s\n",
      "9:\tlearn: 1.2191708\ttotal: 12.5s\tremaining: 1m 52s\n",
      "10:\tlearn: 1.2109959\ttotal: 13.6s\tremaining: 1m 50s\n",
      "11:\tlearn: 1.2013338\ttotal: 14.9s\tremaining: 1m 49s\n",
      "12:\tlearn: 1.1945134\ttotal: 16.2s\tremaining: 1m 48s\n",
      "13:\tlearn: 1.1889184\ttotal: 17.3s\tremaining: 1m 46s\n",
      "14:\tlearn: 1.1796621\ttotal: 18.5s\tremaining: 1m 44s\n",
      "15:\tlearn: 1.1730491\ttotal: 19.7s\tremaining: 1m 43s\n",
      "16:\tlearn: 1.1690535\ttotal: 20.9s\tremaining: 1m 41s\n",
      "17:\tlearn: 1.1637374\ttotal: 22s\tremaining: 1m 40s\n",
      "18:\tlearn: 1.1583403\ttotal: 23.2s\tremaining: 1m 39s\n",
      "19:\tlearn: 1.1521315\ttotal: 24.5s\tremaining: 1m 38s\n",
      "20:\tlearn: 1.1469662\ttotal: 25.7s\tremaining: 1m 36s\n",
      "21:\tlearn: 1.1425185\ttotal: 27s\tremaining: 1m 35s\n",
      "22:\tlearn: 1.1389436\ttotal: 28.1s\tremaining: 1m 34s\n",
      "23:\tlearn: 1.1293394\ttotal: 29.3s\tremaining: 1m 32s\n",
      "24:\tlearn: 1.1259789\ttotal: 30.6s\tremaining: 1m 31s\n",
      "25:\tlearn: 1.1221434\ttotal: 31.8s\tremaining: 1m 30s\n",
      "26:\tlearn: 1.1179584\ttotal: 33.1s\tremaining: 1m 29s\n",
      "27:\tlearn: 1.1133800\ttotal: 34.4s\tremaining: 1m 28s\n",
      "28:\tlearn: 1.1104712\ttotal: 35.6s\tremaining: 1m 27s\n",
      "29:\tlearn: 1.1075689\ttotal: 36.9s\tremaining: 1m 26s\n",
      "30:\tlearn: 1.1044159\ttotal: 38.2s\tremaining: 1m 24s\n",
      "31:\tlearn: 1.0989145\ttotal: 39.4s\tremaining: 1m 23s\n",
      "32:\tlearn: 1.0949965\ttotal: 40.6s\tremaining: 1m 22s\n",
      "33:\tlearn: 1.0910792\ttotal: 41.8s\tremaining: 1m 21s\n",
      "34:\tlearn: 1.0884420\ttotal: 43s\tremaining: 1m 19s\n",
      "35:\tlearn: 1.0850179\ttotal: 44.3s\tremaining: 1m 18s\n",
      "36:\tlearn: 1.0802929\ttotal: 45.5s\tremaining: 1m 17s\n",
      "37:\tlearn: 1.0766988\ttotal: 46.7s\tremaining: 1m 16s\n",
      "38:\tlearn: 1.0726932\ttotal: 47.9s\tremaining: 1m 14s\n",
      "39:\tlearn: 1.0643382\ttotal: 49.2s\tremaining: 1m 13s\n",
      "40:\tlearn: 1.0609973\ttotal: 50.4s\tremaining: 1m 12s\n",
      "41:\tlearn: 1.0576750\ttotal: 51.6s\tremaining: 1m 11s\n",
      "42:\tlearn: 1.0543346\ttotal: 52.7s\tremaining: 1m 9s\n",
      "43:\tlearn: 1.0525856\ttotal: 53.9s\tremaining: 1m 8s\n",
      "44:\tlearn: 1.0489259\ttotal: 55.1s\tremaining: 1m 7s\n",
      "45:\tlearn: 1.0455482\ttotal: 56.3s\tremaining: 1m 6s\n",
      "46:\tlearn: 1.0431159\ttotal: 57.9s\tremaining: 1m 5s\n",
      "47:\tlearn: 1.0406538\ttotal: 59.2s\tremaining: 1m 4s\n",
      "48:\tlearn: 1.0379089\ttotal: 1m\tremaining: 1m 3s\n",
      "49:\tlearn: 1.0356668\ttotal: 1m 1s\tremaining: 1m 1s\n",
      "50:\tlearn: 1.0319510\ttotal: 1m 3s\tremaining: 1m\n",
      "51:\tlearn: 1.0287363\ttotal: 1m 4s\tremaining: 59.6s\n",
      "52:\tlearn: 1.0252098\ttotal: 1m 5s\tremaining: 58.3s\n",
      "53:\tlearn: 1.0212433\ttotal: 1m 7s\tremaining: 57.1s\n",
      "54:\tlearn: 1.0181111\ttotal: 1m 8s\tremaining: 55.9s\n",
      "55:\tlearn: 1.0160674\ttotal: 1m 9s\tremaining: 54.6s\n",
      "56:\tlearn: 1.0138920\ttotal: 1m 10s\tremaining: 53.4s\n",
      "57:\tlearn: 1.0100578\ttotal: 1m 12s\tremaining: 52.2s\n",
      "58:\tlearn: 1.0071105\ttotal: 1m 13s\tremaining: 50.9s\n",
      "59:\tlearn: 1.0037556\ttotal: 1m 14s\tremaining: 49.6s\n",
      "60:\tlearn: 1.0012180\ttotal: 1m 15s\tremaining: 48.3s\n",
      "61:\tlearn: 0.9963677\ttotal: 1m 16s\tremaining: 47s\n",
      "62:\tlearn: 0.9953593\ttotal: 1m 17s\tremaining: 45.8s\n",
      "63:\tlearn: 0.9951924\ttotal: 1m 19s\tremaining: 44.5s\n",
      "64:\tlearn: 0.9938143\ttotal: 1m 20s\tremaining: 43.2s\n",
      "65:\tlearn: 0.9916066\ttotal: 1m 21s\tremaining: 41.9s\n",
      "66:\tlearn: 0.9892000\ttotal: 1m 22s\tremaining: 40.7s\n",
      "67:\tlearn: 0.9863433\ttotal: 1m 23s\tremaining: 39.5s\n",
      "68:\tlearn: 0.9831088\ttotal: 1m 25s\tremaining: 38.2s\n",
      "69:\tlearn: 0.9810235\ttotal: 1m 26s\tremaining: 37s\n",
      "70:\tlearn: 0.9789312\ttotal: 1m 27s\tremaining: 35.7s\n",
      "71:\tlearn: 0.9761802\ttotal: 1m 28s\tremaining: 34.4s\n",
      "72:\tlearn: 0.9725489\ttotal: 1m 29s\tremaining: 33.1s\n",
      "73:\tlearn: 0.9709504\ttotal: 1m 30s\tremaining: 31.9s\n",
      "74:\tlearn: 0.9680710\ttotal: 1m 31s\tremaining: 30.6s\n",
      "75:\tlearn: 0.9643559\ttotal: 1m 32s\tremaining: 29.3s\n",
      "76:\tlearn: 0.9628542\ttotal: 1m 34s\tremaining: 28.1s\n",
      "77:\tlearn: 0.9605435\ttotal: 1m 35s\tremaining: 26.8s\n",
      "78:\tlearn: 0.9588157\ttotal: 1m 36s\tremaining: 25.6s\n",
      "79:\tlearn: 0.9553125\ttotal: 1m 37s\tremaining: 24.3s\n",
      "80:\tlearn: 0.9535540\ttotal: 1m 38s\tremaining: 23.1s\n",
      "81:\tlearn: 0.9498601\ttotal: 1m 39s\tremaining: 21.9s\n",
      "82:\tlearn: 0.9463917\ttotal: 1m 40s\tremaining: 20.7s\n",
      "83:\tlearn: 0.9446690\ttotal: 1m 42s\tremaining: 19.4s\n",
      "84:\tlearn: 0.9434211\ttotal: 1m 43s\tremaining: 18.2s\n",
      "85:\tlearn: 0.9424063\ttotal: 1m 44s\tremaining: 17s\n",
      "86:\tlearn: 0.9412346\ttotal: 1m 45s\tremaining: 15.8s\n",
      "87:\tlearn: 0.9379394\ttotal: 1m 46s\tremaining: 14.5s\n",
      "88:\tlearn: 0.9361016\ttotal: 1m 47s\tremaining: 13.3s\n",
      "89:\tlearn: 0.9340184\ttotal: 1m 48s\tremaining: 12.1s\n",
      "90:\tlearn: 0.9332158\ttotal: 1m 50s\tremaining: 10.9s\n",
      "91:\tlearn: 0.9314344\ttotal: 1m 51s\tremaining: 9.66s\n",
      "92:\tlearn: 0.9293507\ttotal: 1m 52s\tremaining: 8.45s\n",
      "93:\tlearn: 0.9269872\ttotal: 1m 53s\tremaining: 7.24s\n",
      "94:\tlearn: 0.9246659\ttotal: 1m 54s\tremaining: 6.03s\n",
      "95:\tlearn: 0.9228249\ttotal: 1m 55s\tremaining: 4.81s\n",
      "96:\tlearn: 0.9223726\ttotal: 1m 56s\tremaining: 3.61s\n",
      "97:\tlearn: 0.9210276\ttotal: 1m 57s\tremaining: 2.4s\n",
      "98:\tlearn: 0.9202147\ttotal: 1m 58s\tremaining: 1.2s\n",
      "99:\tlearn: 0.9187761\ttotal: 1m 59s\tremaining: 0us\n"
     ]
    },
    {
     "data": {
      "text/plain": [
       "<catboost.core.CatBoostClassifier at 0x58f24c8>"
      ]
     },
     "execution_count": 13,
     "metadata": {},
     "output_type": "execute_result"
    }
   ],
   "source": [
    "model.fit(train_dataset)"
   ]
  },
  {
   "cell_type": "markdown",
   "metadata": {},
   "source": [
    "### Предсказание данных и оценка модели"
   ]
  },
  {
   "cell_type": "code",
   "execution_count": 14,
   "metadata": {},
   "outputs": [],
   "source": [
    "x_test = pd.DataFrame(data_test, columns=columns_transformed)\n",
    "data_test[\"target\"] = model.predict(Pool(data=x_test))"
   ]
  },
  {
   "cell_type": "markdown",
   "metadata": {},
   "source": [
    "Кластеризация дает 0.192, kNN(100) - 0.3, лог. регрессия - 0.512/0.496, SVM - 0.95, реш. дерево - 0.3, случайный лес - 0.487, XGBoost - 0.536, градиентный бустинг - 0.56, LightGBM - 0.569"
   ]
  },
  {
   "cell_type": "code",
   "execution_count": 15,
   "metadata": {},
   "outputs": [
    {
     "name": "stdout",
     "output_type": "stream",
     "text": [
      "CatBoost: 0.538\n"
     ]
    }
   ],
   "source": [
    "print (\"CatBoost:\",\n",
    "      round(cohen_kappa_score(data_test[\"target\"],\n",
    "            data_test[\"Response\"], weights=\"quadratic\"), 3))"
   ]
  },
  {
   "cell_type": "markdown",
   "metadata": {},
   "source": [
    "### Матрица неточностей"
   ]
  },
  {
   "cell_type": "code",
   "execution_count": 16,
   "metadata": {},
   "outputs": [
    {
     "name": "stdout",
     "output_type": "stream",
     "text": [
      "CatBoost\n",
      " [[ 299  188   19   13   69  120   41   31]\n",
      " [ 178  332    7    4  118  110   29   28]\n",
      " [  29   24   82   22    2    4    0    0]\n",
      " [  38   31   53  198    0    4    0    2]\n",
      " [  86  128   11    0  515  111    7    4]\n",
      " [ 240  261    8   17  203 1138  288  147]\n",
      " [ 142  108    4   10   52  272  702  177]\n",
      " [ 268  268    7   33   84  438  576 3497]]\n"
     ]
    }
   ],
   "source": [
    "print (\"CatBoost\\n\",\n",
    "      confusion_matrix(data_test[\"target\"], data_test[\"Response\"]))"
   ]
  }
 ],
 "metadata": {
  "kernelspec": {
   "display_name": "Python 3 (ipykernel)",
   "language": "python",
   "name": "python3"
  },
  "language_info": {
   "codemirror_mode": {
    "name": "ipython",
    "version": 3
   },
   "file_extension": ".py",
   "mimetype": "text/x-python",
   "name": "python",
   "nbconvert_exporter": "python",
   "pygments_lexer": "ipython3",
   "version": "3.11.1"
  }
 },
 "nbformat": 4,
 "nbformat_minor": 2
}
