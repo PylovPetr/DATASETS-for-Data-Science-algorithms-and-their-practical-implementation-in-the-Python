{
 "cells": [
  {
   "cell_type": "markdown",
   "metadata": {},
   "source": [
    "## Постановка задачи\n",
    "Загрузим данные и разделим выборку на обучающую/проверочную в соотношении 80/20.\n",
    "\n",
    "Применим метод ближайших соседей (kNN) для классификации скоринга. Будем использовать только биометрические данные.\n",
    "\n",
    "Проверим качество предсказания через каппа-метрику и матрицу неточностей.\n",
    "\n",
    "Данные:\n",
    "* https://video.ittensive.com/machine-learning/prudential/train.csv.gz\n",
    "\n",
    "Соревнование: https://www.kaggle.com/c/prudential-life-insurance-assessment/"
   ]
  },
  {
   "cell_type": "markdown",
   "metadata": {},
   "source": [
    "### Подключение библиотек"
   ]
  },
  {
   "cell_type": "code",
   "execution_count": 1,
   "metadata": {},
   "outputs": [],
   "source": [
    "import pandas as pd\n",
    "import numpy as np\n",
    "from sklearn.model_selection import train_test_split\n",
    "from sklearn.metrics import cohen_kappa_score, confusion_matrix\n",
    "from sklearn.neighbors import KNeighborsClassifier"
   ]
  },
  {
   "cell_type": "markdown",
   "metadata": {},
   "source": [
    "### Загрузка данных"
   ]
  },
  {
   "cell_type": "code",
   "execution_count": 2,
   "metadata": {},
   "outputs": [
    {
     "name": "stdout",
     "output_type": "stream",
     "text": [
      "<class 'pandas.core.frame.DataFrame'>\n",
      "RangeIndex: 59381 entries, 0 to 59380\n",
      "Columns: 128 entries, Id to Response\n",
      "dtypes: float64(18), int64(109), object(1)\n",
      "memory usage: 58.0+ MB\n",
      "None\n"
     ]
    }
   ],
   "source": [
    "data = pd.read_csv(\"https://video.ittensive.com/machine-learning/prudential/train.csv.gz\")\n",
    "print (data.info())"
   ]
  },
  {
   "cell_type": "markdown",
   "metadata": {},
   "source": [
    "### Разделение данных"
   ]
  },
  {
   "cell_type": "code",
   "execution_count": 3,
   "metadata": {},
   "outputs": [
    {
     "name": "stdout",
     "output_type": "stream",
     "text": [
      "          Id  Product_Info_1 Product_Info_2  Product_Info_3  Product_Info_4  \\\n",
      "1871    2505               1             D4              26        0.230769   \n",
      "17271  23020               1             A1              26        0.076923   \n",
      "2981    3972               1             D4              10        0.230769   \n",
      "50679  67485               1             D3              26        1.000000   \n",
      "4969    6612               1             D3              26        0.698247   \n",
      "\n",
      "       Product_Info_5  Product_Info_6  Product_Info_7   Ins_Age        Ht  \\\n",
      "1871                2               3               1  0.432836  0.600000   \n",
      "17271               2               3               1  0.552239  0.672727   \n",
      "2981                2               3               1  0.283582  0.636364   \n",
      "50679               2               3               1  0.417910  0.781818   \n",
      "4969                2               3               1  0.388060  0.672727   \n",
      "\n",
      "       ...  Medical_Keyword_40  Medical_Keyword_41  Medical_Keyword_42  \\\n",
      "1871   ...                   0                   0                   0   \n",
      "17271  ...                   0                   0                   0   \n",
      "2981   ...                   0                   0                   1   \n",
      "50679  ...                   0                   0                   0   \n",
      "4969   ...                   0                   0                   0   \n",
      "\n",
      "       Medical_Keyword_43  Medical_Keyword_44  Medical_Keyword_45  \\\n",
      "1871                    0                   0                   0   \n",
      "17271                   0                   0                   0   \n",
      "2981                    0                   0                   0   \n",
      "50679                   0                   0                   0   \n",
      "4969                    0                   0                   0   \n",
      "\n",
      "       Medical_Keyword_46  Medical_Keyword_47  Medical_Keyword_48  Response  \n",
      "1871                    0                   0                   0         8  \n",
      "17271                   0                   0                   0         2  \n",
      "2981                    0                   0                   0         8  \n",
      "50679                   0                   0                   0         8  \n",
      "4969                    0                   0                   0         8  \n",
      "\n",
      "[5 rows x 128 columns]\n"
     ]
    }
   ],
   "source": [
    "data_train, data_test = train_test_split(data, test_size=0.2)\n",
    "print (data_train.head())"
   ]
  },
  {
   "cell_type": "markdown",
   "metadata": {},
   "source": [
    "### Расчет модели kNN (k ближайших соседей)\n",
    "Вычисляем не центры (кластеры) исходных групп, а расстояние до всех значений. Выбираем то значение, которое превалирует у k ближайших соседей.\n",
    "\n",
    "Для оценки качества модели возьмем k равным 10, 100, 1000, 10000."
   ]
  },
  {
   "cell_type": "code",
   "execution_count": 4,
   "metadata": {},
   "outputs": [],
   "source": [
    "columns = [\"Wt\", \"Ht\", \"Ins_Age\", \"BMI\"]\n",
    "max_nn = data_train.groupby(\"Response\").count()[\"Id\"].min()\n",
    "knn10 = KNeighborsClassifier(n_neighbors=10)\n",
    "knn100 = KNeighborsClassifier(n_neighbors=100)\n",
    "knn1000 = KNeighborsClassifier(n_neighbors=1000)\n",
    "knn10000 = KNeighborsClassifier(n_neighbors=10000)\n",
    "knnmax = KNeighborsClassifier(n_neighbors=max_nn)"
   ]
  },
  {
   "cell_type": "code",
   "execution_count": 6,
   "metadata": {},
   "outputs": [
    {
     "data": {
      "text/plain": [
       "KNeighborsClassifier(algorithm='auto', leaf_size=30, metric='minkowski',\n",
       "                     metric_params=None, n_jobs=None, n_neighbors=801, p=2,\n",
       "                     weights='uniform')"
      ]
     },
     "execution_count": 6,
     "metadata": {},
     "output_type": "execute_result"
    }
   ],
   "source": [
    "y = data_train[\"Response\"]\n",
    "x = pd.DataFrame(data_train, columns=columns)\n",
    "knn10.fit(x, y)\n",
    "knn100.fit(x, y)\n",
    "knn1000.fit(x, y)\n",
    "knn10000.fit(x, y)\n",
    "knnmax.fit(x, y)"
   ]
  },
  {
   "cell_type": "markdown",
   "metadata": {},
   "source": [
    "### Предсказание данных\n",
    "Внимание: 10000 соседей потребует порядка 4 Гб оперативной памяти"
   ]
  },
  {
   "cell_type": "code",
   "execution_count": 7,
   "metadata": {},
   "outputs": [
    {
     "name": "stdout",
     "output_type": "stream",
     "text": [
      "          Id  Product_Info_1 Product_Info_2  Product_Info_3  Product_Info_4  \\\n",
      "7633   10172               1             E1              10        0.128205   \n",
      "38548  51180               1             D3              26        0.487179   \n",
      "53431  71135               1             D2              29        0.076923   \n",
      "18262  24353               1             D1              26        0.230769   \n",
      "11147  14794               1             D3              26        0.282051   \n",
      "58236  77622               1             D2              26        0.384615   \n",
      "37339  49586               1             D3              10        0.128205   \n",
      "25533  34002               1             D2              26        0.487179   \n",
      "11295  14987               1             D4              26        0.487179   \n",
      "11842  15714               1             D3              26        0.487179   \n",
      "12528  16653               1             A8              10        0.076923   \n",
      "34853  46298               1             B2              26        0.230769   \n",
      "4853    6463               1             D2              26        0.487179   \n",
      "33387  44325               1             A8              26        0.025641   \n",
      "41926  55690               1             D3              26        0.230769   \n",
      "30654  40724               1             D4              26        0.102564   \n",
      "37750  50123               1             A5              26        0.076923   \n",
      "13038  17309               1             D4              26        0.282051   \n",
      "18659  24897               1             D4              26        0.487179   \n",
      "54369  72406               1             A7              26        0.006154   \n",
      "\n",
      "       Product_Info_5  Product_Info_6  Product_Info_7   Ins_Age        Ht  \\\n",
      "7633                2               3               1  0.820896  0.600000   \n",
      "38548               2               3               1  0.388060  0.745455   \n",
      "53431               2               1               1  0.686567  0.745455   \n",
      "18262               2               3               1  0.582090  0.781818   \n",
      "11147               2               3               1  0.492537  0.600000   \n",
      "58236               2               1               1  0.462687  0.709091   \n",
      "37339               2               3               1  0.567164  0.636364   \n",
      "25533               2               1               1  0.597015  0.600000   \n",
      "11295               2               3               1  0.164179  0.672727   \n",
      "11842               2               3               1  0.701493  0.709091   \n",
      "12528               2               3               1  0.447761  0.563636   \n",
      "34853               2               3               1  0.223881  0.690909   \n",
      "4853                2               3               1  0.462687  0.818182   \n",
      "33387               2               3               1  0.641791  0.763636   \n",
      "41926               2               1               1  0.477612  0.636364   \n",
      "30654               2               3               1  0.268657  0.654545   \n",
      "37750               2               3               1  0.059701  0.600000   \n",
      "13038               2               3               1  0.194030  0.727273   \n",
      "18659               2               3               1  0.268657  0.709091   \n",
      "54369               2               3               1  0.761194  0.690909   \n",
      "\n",
      "       ...  Medical_Keyword_45  Medical_Keyword_46  Medical_Keyword_47  \\\n",
      "7633   ...                   0                   0                   0   \n",
      "38548  ...                   0                   0                   0   \n",
      "53431  ...                   0                   0                   0   \n",
      "18262  ...                   0                   0                   0   \n",
      "11147  ...                   0                   0                   0   \n",
      "58236  ...                   0                   0                   0   \n",
      "37339  ...                   1                   0                   0   \n",
      "25533  ...                   0                   0                   0   \n",
      "11295  ...                   0                   0                   0   \n",
      "11842  ...                   0                   0                   0   \n",
      "12528  ...                   0                   0                   0   \n",
      "34853  ...                   0                   0                   0   \n",
      "4853   ...                   0                   0                   1   \n",
      "33387  ...                   0                   0                   0   \n",
      "41926  ...                   0                   0                   0   \n",
      "30654  ...                   0                   0                   0   \n",
      "37750  ...                   0                   0                   0   \n",
      "13038  ...                   0                   0                   0   \n",
      "18659  ...                   0                   0                   0   \n",
      "54369  ...                   0                   0                   0   \n",
      "\n",
      "       Medical_Keyword_48  Response  target_10  target_100  target_1000  \\\n",
      "7633                    1         1          2           2            1   \n",
      "38548                   0         7          6           6            6   \n",
      "53431                   1         2          2           2            2   \n",
      "18262                   0         7          2           8            8   \n",
      "11147                   0         6          6           5            5   \n",
      "58236                   0         1          6           8            8   \n",
      "37339                   0         6          8           8            8   \n",
      "25533                   0         8          5           8            8   \n",
      "11295                   0         8          8           8            8   \n",
      "11842                   0         2          2           8            8   \n",
      "12528                   0         8          7           8            8   \n",
      "34853                   0         8          8           8            8   \n",
      "4853                    0         6          5           5            6   \n",
      "33387                   0         5          1           8            8   \n",
      "41926                   0         8          8           8            8   \n",
      "30654                   0         7          8           8            8   \n",
      "37750                   0         4          8           8            8   \n",
      "13038                   0         8          8           8            8   \n",
      "18659                   0         8          8           8            8   \n",
      "54369                   0         2          2           1            1   \n",
      "\n",
      "       target_10000  target_max  \n",
      "7633              8           1  \n",
      "38548             6           6  \n",
      "53431             6           2  \n",
      "18262             6           7  \n",
      "11147             6           5  \n",
      "58236             8           8  \n",
      "37339             8           8  \n",
      "25533             8           8  \n",
      "11295             8           8  \n",
      "11842             8           8  \n",
      "12528             8           8  \n",
      "34853             8           8  \n",
      "4853              6           6  \n",
      "33387             8           8  \n",
      "41926             8           8  \n",
      "30654             8           8  \n",
      "37750             8           8  \n",
      "13038             8           8  \n",
      "18659             8           8  \n",
      "54369             6           1  \n",
      "\n",
      "[20 rows x 133 columns]\n"
     ]
    }
   ],
   "source": [
    "data_test = pd.DataFrame(data_test)\n",
    "x_test = pd.DataFrame(data_test, columns=columns)\n",
    "data_test[\"target_10\"] = knn10.predict(x_test)\n",
    "data_test[\"target_100\"] = knn100.predict(x_test)\n",
    "data_test[\"target_1000\"] = knn1000.predict(x_test)\n",
    "data_test[\"target_10000\"] = knn10000.predict(x_test)\n",
    "data_test[\"target_max\"] = knnmax.predict(x_test)\n",
    "print (data_test.head(20))"
   ]
  },
  {
   "cell_type": "markdown",
   "metadata": {},
   "source": [
    "### Оценка модели"
   ]
  },
  {
   "cell_type": "code",
   "execution_count": 8,
   "metadata": {},
   "outputs": [
    {
     "name": "stdout",
     "output_type": "stream",
     "text": [
      "kNN, 10: 0.2957062865969361\n",
      "kNN, 100: 0.30326951710809413\n",
      "kNN, 1000: 0.28175078115596264\n",
      "kNN, 10000: 0.15030991250481207\n",
      "kNN, max: 0.28390472176878834\n"
     ]
    }
   ],
   "source": [
    "print (\"kNN, 10:\",\n",
    "      cohen_kappa_score(data_test[\"target_10\"], data_test[\"Response\"],\n",
    "                       weights=\"quadratic\"))\n",
    "print (\"kNN, 100:\",\n",
    "      cohen_kappa_score(data_test[\"target_100\"], data_test[\"Response\"],\n",
    "                       weights=\"quadratic\"))\n",
    "print (\"kNN, 1000:\",\n",
    "      cohen_kappa_score(data_test[\"target_1000\"], data_test[\"Response\"],\n",
    "                       weights=\"quadratic\"))\n",
    "print (\"kNN, 10000:\",\n",
    "      cohen_kappa_score(data_test[\"target_10000\"], data_test[\"Response\"],\n",
    "                       weights=\"quadratic\"))\n",
    "print (\"kNN, max:\",\n",
    "      cohen_kappa_score(data_test[\"target_max\"], data_test[\"Response\"],\n",
    "                       weights=\"quadratic\"))"
   ]
  },
  {
   "cell_type": "markdown",
   "metadata": {},
   "source": [
    "### Матрица неточностей"
   ]
  },
  {
   "cell_type": "code",
   "execution_count": 9,
   "metadata": {},
   "outputs": [
    {
     "name": "stdout",
     "output_type": "stream",
     "text": [
      "[[ 209  162   19    9   84  224  153  148]\n",
      " [ 153  244   20    8  142  166   97  112]\n",
      " [   1    1    0    0    0    3    0    1]\n",
      " [   0    2    0    1    1    4    2   12]\n",
      " [  96  163   45    0  345  153   38   29]\n",
      " [ 243  274   54   49  226  690  382  411]\n",
      " [ 112  116   16   38   70  276  270  269]\n",
      " [ 371  344   58  207  208  768  673 2905]]\n",
      "[[   0    0    0    0    0    0    0    0]\n",
      " [   0    0    0    0    0    0    0    0]\n",
      " [   0    0    0    0    0    0    0    0]\n",
      " [   0    0    0    0    0    0    0    0]\n",
      " [   1    1    0    0    0    0    0    0]\n",
      " [ 506  699  103   29  644  926  439  154]\n",
      " [   0    0    0    0    0    0    0    0]\n",
      " [ 678  606  109  283  432 1358 1176 3733]]\n"
     ]
    }
   ],
   "source": [
    "print (confusion_matrix(data_test[\"target_10\"],\n",
    "                       data_test[\"Response\"]))\n",
    "print (confusion_matrix(data_test[\"target_10000\"],\n",
    "                       data_test[\"Response\"]))"
   ]
  }
 ],
 "metadata": {
  "kernelspec": {
   "display_name": "Python 3 (ipykernel)",
   "language": "python",
   "name": "python3"
  },
  "language_info": {
   "codemirror_mode": {
    "name": "ipython",
    "version": 3
   },
   "file_extension": ".py",
   "mimetype": "text/x-python",
   "name": "python",
   "nbconvert_exporter": "python",
   "pygments_lexer": "ipython3",
   "version": "3.11.1"
  }
 },
 "nbformat": 4,
 "nbformat_minor": 2
}
