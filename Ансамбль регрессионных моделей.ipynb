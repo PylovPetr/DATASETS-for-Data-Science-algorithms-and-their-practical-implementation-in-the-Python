{
 "cells": [
  {
   "cell_type": "markdown",
   "metadata": {},
   "source": [
    "### Постановка задачи\n",
    "Загрузим подготовленные данные по энергопотреблению первых 20 зданий (building_id от 0 до 19).\n",
    "\n",
    "Соберем два набора моделей: по дате (праздники, дни недели и т.д.) и по погоде.\n",
    "\n",
    "Проведем 10 разбиений данных на обучающие/проверочные и выявим оптимальные веса моделей для каждого часа для каждого здания.\n",
    "\n",
    "Вычислим оптимизированную метрику качества для ансамбля моделей.\n",
    "        \n",
    "* http://video.ittensive.com/machine-learning/ashrae/building_metadata.csv.gz\n",
    "* http://video.ittensive.com/machine-learning/ashrae/weather_train.csv.gz\n",
    "* http://video.ittensive.com/machine-learning/ashrae/train.0.csv.gz\n",
    "\n",
    "Соревнование: https://www.kaggle.com/c/ashrae-energy-prediction/"
   ]
  },
  {
   "cell_type": "markdown",
   "metadata": {},
   "source": [
    "### Подключение библиотек"
   ]
  },
  {
   "cell_type": "code",
   "execution_count": 1,
   "metadata": {},
   "outputs": [],
   "source": [
    "import pandas as pd\n",
    "import numpy as np\n",
    "from sklearn.model_selection import train_test_split\n",
    "from sklearn.linear_model import LinearRegression"
   ]
  },
  {
   "cell_type": "markdown",
   "metadata": {},
   "source": [
    "### Загрузка данных 20 зданий из HDF5"
   ]
  },
  {
   "cell_type": "code",
   "execution_count": 2,
   "metadata": {},
   "outputs": [
    {
     "name": "stdout",
     "output_type": "stream",
     "text": [
      "<class 'pandas.core.frame.DataFrame'>\n",
      "Int64Index: 175680 entries, 0 to 175679\n",
      "Data columns (total 92 columns):\n",
      "timestamp                175680 non-null datetime64[ns]\n",
      "building_id              175680 non-null int8\n",
      "meter_reading            175680 non-null float16\n",
      "primary_use              175680 non-null category\n",
      "air_temperature          175680 non-null float16\n",
      "cloud_coverage           175680 non-null float16\n",
      "dew_temperature          175680 non-null float16\n",
      "precip_depth_1_hr        175680 non-null float16\n",
      "sea_level_pressure       175680 non-null float16\n",
      "wind_direction           175680 non-null float16\n",
      "wind_speed               175680 non-null float16\n",
      "hour                     175680 non-null int8\n",
      "weekday                  175680 non-null int8\n",
      "week                     175680 non-null int8\n",
      "month                    175680 non-null int8\n",
      "date                     175680 non-null category\n",
      "is_holiday               175680 non-null int8\n",
      "is_wday0                 175680 non-null int8\n",
      "is_wday1                 175680 non-null int8\n",
      "is_wday2                 175680 non-null int8\n",
      "is_wday3                 175680 non-null int8\n",
      "is_wday4                 175680 non-null int8\n",
      "is_wday5                 175680 non-null int8\n",
      "is_wday6                 175680 non-null int8\n",
      "is_w1                    175680 non-null int8\n",
      "is_w2                    175680 non-null int8\n",
      "is_w3                    175680 non-null int8\n",
      "is_w4                    175680 non-null int8\n",
      "is_w5                    175680 non-null int8\n",
      "is_w6                    175680 non-null int8\n",
      "is_w7                    175680 non-null int8\n",
      "is_w8                    175680 non-null int8\n",
      "is_w9                    175680 non-null int8\n",
      "is_w10                   175680 non-null int8\n",
      "is_w11                   175680 non-null int8\n",
      "is_w12                   175680 non-null int8\n",
      "is_w13                   175680 non-null int8\n",
      "is_w14                   175680 non-null int8\n",
      "is_w15                   175680 non-null int8\n",
      "is_w16                   175680 non-null int8\n",
      "is_w17                   175680 non-null int8\n",
      "is_w18                   175680 non-null int8\n",
      "is_w19                   175680 non-null int8\n",
      "is_w20                   175680 non-null int8\n",
      "is_w21                   175680 non-null int8\n",
      "is_w22                   175680 non-null int8\n",
      "is_w23                   175680 non-null int8\n",
      "is_w24                   175680 non-null int8\n",
      "is_w25                   175680 non-null int8\n",
      "is_w26                   175680 non-null int8\n",
      "is_w27                   175680 non-null int8\n",
      "is_w28                   175680 non-null int8\n",
      "is_w29                   175680 non-null int8\n",
      "is_w30                   175680 non-null int8\n",
      "is_w31                   175680 non-null int8\n",
      "is_w32                   175680 non-null int8\n",
      "is_w33                   175680 non-null int8\n",
      "is_w34                   175680 non-null int8\n",
      "is_w35                   175680 non-null int8\n",
      "is_w36                   175680 non-null int8\n",
      "is_w37                   175680 non-null int8\n",
      "is_w38                   175680 non-null int8\n",
      "is_w39                   175680 non-null int8\n",
      "is_w40                   175680 non-null int8\n",
      "is_w41                   175680 non-null int8\n",
      "is_w42                   175680 non-null int8\n",
      "is_w43                   175680 non-null int8\n",
      "is_w44                   175680 non-null int8\n",
      "is_w45                   175680 non-null int8\n",
      "is_w46                   175680 non-null int8\n",
      "is_w47                   175680 non-null int8\n",
      "is_w48                   175680 non-null int8\n",
      "is_w49                   175680 non-null int8\n",
      "is_w50                   175680 non-null int8\n",
      "is_w51                   175680 non-null int8\n",
      "is_w52                   175680 non-null int8\n",
      "is_w53                   175680 non-null int8\n",
      "is_m1                    175680 non-null int8\n",
      "is_m2                    175680 non-null int8\n",
      "is_m3                    175680 non-null int8\n",
      "is_m4                    175680 non-null int8\n",
      "is_m5                    175680 non-null int8\n",
      "is_m6                    175680 non-null int8\n",
      "is_m7                    175680 non-null int8\n",
      "is_m8                    175680 non-null int8\n",
      "is_m9                    175680 non-null int8\n",
      "is_m10                   175680 non-null int8\n",
      "is_m11                   175680 non-null int8\n",
      "is_m12                   175680 non-null int8\n",
      "air_temperature_diff1    175680 non-null float16\n",
      "air_temperature_diff2    175680 non-null float16\n",
      "meter_reading_log        175680 non-null float16\n",
      "dtypes: category(2), datetime64[ns](1), float16(11), int8(78)\n",
      "memory usage: 20.0 MB\n",
      "None\n"
     ]
    }
   ],
   "source": [
    "energy = pd.read_hdf('energy.0-20.ready.h5', \"energy\")\n",
    "print (energy.info())"
   ]
  },
  {
   "cell_type": "markdown",
   "metadata": {},
   "source": [
    "### Обозначим набор параметров для каждой модели"
   ]
  },
  {
   "cell_type": "code",
   "execution_count": 3,
   "metadata": {},
   "outputs": [],
   "source": [
    "lr_weather_columns = [\"meter_reading_log\", \"hour\", \"building_id\",\n",
    "                      \"air_temperature\", \"dew_temperature\",\n",
    "                      \"sea_level_pressure\", \"wind_speed\",\n",
    "                      \"air_temperature_diff1\", \"air_temperature_diff2\",\n",
    "                      \"cloud_coverage\"]\n",
    "lr_days_columns = [\"meter_reading_log\", \"hour\", \"building_id\", \"is_holiday\"]\n",
    "for wday in range(0,7):\n",
    "    lr_days_columns.append(\"is_wday\" + str(wday))\n",
    "for week in range(1,54):\n",
    "    lr_days_columns.append(\"is_w\" + str(week))\n",
    "for month in range(1,13):\n",
    "    lr_days_columns.append(\"is_m\" + str(month))\n",
    "hours = range(0, 24)\n",
    "buildings = range(0, energy[\"building_id\"].max() + 1)"
   ]
  },
  {
   "cell_type": "markdown",
   "metadata": {},
   "source": [
    "### Введем функцию для вычисления качества моделей"
   ]
  },
  {
   "cell_type": "code",
   "execution_count": 4,
   "metadata": {},
   "outputs": [],
   "source": [
    "def calculate_model (x, df_lr, lr_columns):\n",
    "    lr = -1\n",
    "    model = df_lr[x.building_id][x.hour]\n",
    "    if len(model) > 0:\n",
    "        lr = np.sum([x[col] * model[i] for i,col in enumerate(lr_columns[3:])])\n",
    "        lr += model[len(lr_columns)-3]\n",
    "        lr = np.exp(lr)\n",
    "    if lr < 0 or lr*lr == lr:\n",
    "        lr = 0\n",
    "    x[\"meter_reading_lr_q\"] = (np.log(x.meter_reading + 1) -\n",
    "                               np.log(1 + lr))**2\n",
    "    return x"
   ]
  },
  {
   "cell_type": "markdown",
   "metadata": {},
   "source": [
    "### Введем функции для разделения данных, построение моделей и вычисления их качества (для обновления весов ансамбля)\n",
    "Ансамбль моделей линейной регрессии: Z = A * погода + B * дни_недели, A+B=1"
   ]
  },
  {
   "cell_type": "code",
   "execution_count": 5,
   "metadata": {},
   "outputs": [],
   "source": [
    "def train_model (df, columns):\n",
    "    df_train_lr = pd.DataFrame(df, columns=columns)\n",
    "    df_lr = [[]]*len(buildings)\n",
    "    for building in buildings:\n",
    "        df_lr[building] = [[]]*len(hours)\n",
    "        df_train_b = df_train_lr[df_train_lr[\"building_id\"]==building]\n",
    "        for hour in hours:\n",
    "            df_train_bh = df_train_b[df_train_b[\"hour\"]==hour]\n",
    "            y = df_train_bh[\"meter_reading_log\"]\n",
    "            x = df_train_bh.drop(labels=[\"meter_reading_log\",\n",
    "                \"hour\", \"building_id\"], axis=1)\n",
    "            model = LinearRegression(fit_intercept=False).fit(x, y)\n",
    "            df_lr[building][hour] = model.coef_\n",
    "            df_lr[building][hour] = np.append(df_lr[building][hour], model.intercept_)\n",
    "    return df_lr\n",
    "\n",
    "def calculate_weights_model(df_test, df_train, lr_columns):\n",
    "    df_test = df_test.apply(calculate_model,\n",
    "        axis=1, result_type=\"expand\",\n",
    "        df_lr=train_model(df_train, lr_columns),\n",
    "        lr_columns=lr_columns)\n",
    "    return pd.Series(df_test.groupby([\"hour\",\n",
    "                        \"building_id\"]).sum()[\"meter_reading_lr_q\"])\n",
    "\n",
    "def calculate_weights():\n",
    "    df_train, df_test = train_test_split(energy[energy[\"meter_reading\"]>0], test_size=0.2)\n",
    "    return (calculate_weights_model(df_test, df_train, lr_weather_columns),\n",
    "            calculate_weights_model(df_test, df_train, lr_days_columns))"
   ]
  },
  {
   "cell_type": "markdown",
   "metadata": {},
   "source": [
    "### Рассчитаем оптимальные веса для каждого часа и здания\n",
    "10 раз разобьем исходный набор данных на обучающую/тестовую выборку, рассчитаем в каждом случае значения ошибки для каждого здания и часа\n",
    "\n",
    "Сформируем список весов: 1 - учитываем регрессию по дням недели, 0 - учитываем регрессию по погоде"
   ]
  },
  {
   "cell_type": "code",
   "execution_count": 6,
   "metadata": {},
   "outputs": [
    {
     "name": "stdout",
     "output_type": "stream",
     "text": [
      "Расчет весов ансамбля, итерация 0\n"
     ]
    },
    {
     "name": "stderr",
     "output_type": "stream",
     "text": [
      "c:\\users\\nikolay\\appdata\\local\\programs\\python\\python37\\lib\\site-packages\\ipykernel_launcher.py:7: RuntimeWarning: overflow encountered in exp\n",
      "  import sys\n"
     ]
    },
    {
     "name": "stdout",
     "output_type": "stream",
     "text": [
      "Расчет весов ансамбля, итерация 1\n"
     ]
    },
    {
     "name": "stderr",
     "output_type": "stream",
     "text": [
      "c:\\users\\nikolay\\appdata\\local\\programs\\python\\python37\\lib\\site-packages\\ipykernel_launcher.py:7: RuntimeWarning: overflow encountered in exp\n",
      "  import sys\n"
     ]
    },
    {
     "name": "stdout",
     "output_type": "stream",
     "text": [
      "Расчет весов ансамбля, итерация 2\n"
     ]
    },
    {
     "name": "stderr",
     "output_type": "stream",
     "text": [
      "c:\\users\\nikolay\\appdata\\local\\programs\\python\\python37\\lib\\site-packages\\ipykernel_launcher.py:7: RuntimeWarning: overflow encountered in exp\n",
      "  import sys\n"
     ]
    },
    {
     "name": "stdout",
     "output_type": "stream",
     "text": [
      "Расчет весов ансамбля, итерация 3\n"
     ]
    },
    {
     "name": "stderr",
     "output_type": "stream",
     "text": [
      "c:\\users\\nikolay\\appdata\\local\\programs\\python\\python37\\lib\\site-packages\\ipykernel_launcher.py:7: RuntimeWarning: overflow encountered in exp\n",
      "  import sys\n"
     ]
    },
    {
     "name": "stdout",
     "output_type": "stream",
     "text": [
      "Расчет весов ансамбля, итерация 4\n"
     ]
    },
    {
     "name": "stderr",
     "output_type": "stream",
     "text": [
      "c:\\users\\nikolay\\appdata\\local\\programs\\python\\python37\\lib\\site-packages\\ipykernel_launcher.py:7: RuntimeWarning: overflow encountered in exp\n",
      "  import sys\n"
     ]
    },
    {
     "name": "stdout",
     "output_type": "stream",
     "text": [
      "Расчет весов ансамбля, итерация 5\n"
     ]
    },
    {
     "name": "stderr",
     "output_type": "stream",
     "text": [
      "c:\\users\\nikolay\\appdata\\local\\programs\\python\\python37\\lib\\site-packages\\ipykernel_launcher.py:7: RuntimeWarning: overflow encountered in exp\n",
      "  import sys\n"
     ]
    },
    {
     "name": "stdout",
     "output_type": "stream",
     "text": [
      "Расчет весов ансамбля, итерация 6\n"
     ]
    },
    {
     "name": "stderr",
     "output_type": "stream",
     "text": [
      "c:\\users\\nikolay\\appdata\\local\\programs\\python\\python37\\lib\\site-packages\\ipykernel_launcher.py:7: RuntimeWarning: overflow encountered in exp\n",
      "  import sys\n"
     ]
    },
    {
     "name": "stdout",
     "output_type": "stream",
     "text": [
      "Расчет весов ансамбля, итерация 7\n"
     ]
    },
    {
     "name": "stderr",
     "output_type": "stream",
     "text": [
      "c:\\users\\nikolay\\appdata\\local\\programs\\python\\python37\\lib\\site-packages\\ipykernel_launcher.py:7: RuntimeWarning: overflow encountered in exp\n",
      "  import sys\n"
     ]
    },
    {
     "name": "stdout",
     "output_type": "stream",
     "text": [
      "Расчет весов ансамбля, итерация 8\n"
     ]
    },
    {
     "name": "stderr",
     "output_type": "stream",
     "text": [
      "c:\\users\\nikolay\\appdata\\local\\programs\\python\\python37\\lib\\site-packages\\ipykernel_launcher.py:7: RuntimeWarning: overflow encountered in exp\n",
      "  import sys\n"
     ]
    },
    {
     "name": "stdout",
     "output_type": "stream",
     "text": [
      "Расчет весов ансамбля, итерация 9\n"
     ]
    },
    {
     "name": "stderr",
     "output_type": "stream",
     "text": [
      "c:\\users\\nikolay\\appdata\\local\\programs\\python\\python37\\lib\\site-packages\\ipykernel_launcher.py:7: RuntimeWarning: overflow encountered in exp\n",
      "  import sys\n"
     ]
    },
    {
     "name": "stdout",
     "output_type": "stream",
     "text": [
      "[[1, 1, 0, 1, 1, 0, 0, 0, 0, 1, 1, 1, 0, 1, 0, 0, 1, 0, 1, 1, 1, 1, 1, 1], [0, 0, 0, 0, 0, 0, 0, 0, 0, 0, 0, 0, 0, 0, 0, 0, 0, 0, 0, 0, 0, 0, 0, 0], [1, 1, 1, 1, 1, 1, 0, 1, 1, 1, 0, 1, 0, 0, 0, 0, 0, 0, 1, 1, 1, 0, 1, 1], [0, 1, 0, 1, 1, 0, 1, 0, 0, 0, 0, 0, 0, 0, 0, 1, 0, 1, 0, 0, 0, 1, 1, 1], [1, 0, 0, 0, 0, 0, 1, 1, 1, 1, 0, 1, 1, 0, 1, 0, 0, 0, 0, 0, 1, 1, 0, 1], [0, 1, 1, 0, 0, 0, 1, 0, 0, 0, 1, 0, 1, 0, 1, 0, 0, 0, 0, 0, 1, 1, 0, 1], [1, 1, 1, 1, 1, 1, 1, 1, 1, 1, 1, 1, 1, 0, 1, 1, 1, 1, 1, 1, 1, 1, 1, 1], [1, 1, 1, 0, 1, 0, 1, 1, 1, 1, 1, 1, 1, 1, 1, 1, 1, 1, 1, 1, 1, 1, 0, 0], [1, 1, 1, 1, 1, 1, 1, 1, 1, 1, 1, 1, 1, 1, 1, 1, 1, 1, 1, 0, 1, 1, 0, 1], [1, 1, 1, 1, 1, 1, 1, 1, 1, 1, 1, 1, 1, 1, 1, 1, 1, 1, 1, 1, 1, 1, 1, 1], [1, 1, 1, 1, 1, 1, 1, 1, 1, 1, 1, 1, 1, 1, 1, 1, 1, 1, 1, 1, 1, 1, 1, 1], [0, 0, 0, 0, 0, 0, 0, 0, 0, 0, 0, 0, 0, 0, 0, 0, 0, 0, 1, 0, 0, 0, 0, 0], [0, 0, 1, 1, 1, 0, 1, 1, 0, 1, 0, 0, 1, 0, 0, 0, 0, 1, 0, 0, 0, 0, 0, 0], [1, 0, 1, 1, 1, 0, 1, 0, 1, 1, 1, 1, 1, 1, 1, 1, 1, 1, 1, 1, 1, 1, 1, 1], [1, 1, 1, 1, 1, 0, 1, 1, 1, 1, 1, 1, 1, 1, 1, 1, 1, 1, 1, 1, 1, 1, 1, 1], [1, 1, 1, 1, 1, 1, 1, 1, 1, 1, 1, 1, 1, 1, 1, 1, 1, 1, 1, 1, 0, 1, 1, 1], [0, 0, 0, 0, 0, 0, 1, 0, 0, 0, 0, 0, 0, 0, 0, 0, 1, 0, 0, 0, 0, 0, 1, 0], [0, 0, 0, 0, 0, 0, 0, 0, 1, 1, 1, 1, 1, 1, 1, 1, 1, 0, 1, 1, 1, 1, 1, 0], [1, 1, 1, 1, 1, 1, 1, 1, 0, 0, 1, 1, 1, 1, 1, 1, 1, 1, 1, 1, 1, 1, 1, 1], [1, 1, 1, 1, 1, 1, 1, 1, 1, 1, 1, 1, 1, 1, 1, 1, 1, 1, 1, 1, 1, 1, 1, 1]]\n"
     ]
    }
   ],
   "source": [
    "weights_weather = []\n",
    "weights_days = []\n",
    "for i in range(0, 10):\n",
    "    print (\"Расчет весов ансамбля, итерация\", i)\n",
    "    weights_weather_model, weights_days_model = calculate_weights()\n",
    "    if len(weights_weather) > 0:\n",
    "        weights_weather = weights_weather + weights_weather_model\n",
    "    else:\n",
    "        weights_weather = weights_weather_model\n",
    "    if len(weights_days) > 0:\n",
    "        weights_days = weights_days + weights_days_model\n",
    "    else:\n",
    "        weights_days = weights_days_model\n",
    "weights = [0]*len(buildings)\n",
    "for b in buildings:\n",
    "    weights[b] = [0]*len(hours)\n",
    "    for h in hours:\n",
    "        if weights_weather.loc[h].at[b] > weights_days.loc[h].at[b]:\n",
    "            weights[b][h] = 1\n",
    "print (weights)"
   ]
  },
  {
   "cell_type": "markdown",
   "metadata": {},
   "source": [
    "### Посчитаем ансамбль линейной регрессии\n",
    "Разделим данные на обучающие/тестовые"
   ]
  },
  {
   "cell_type": "code",
   "execution_count": 7,
   "metadata": {},
   "outputs": [],
   "source": [
    "energy_train, energy_test = train_test_split(energy[energy[\"meter_reading\"]>0], test_size=0.2)"
   ]
  },
  {
   "cell_type": "markdown",
   "metadata": {},
   "source": [
    "### Обучим модели линейной регрессии по дате/погоде"
   ]
  },
  {
   "cell_type": "code",
   "execution_count": 8,
   "metadata": {},
   "outputs": [],
   "source": [
    "energy_lr_days = train_model(energy_train, lr_days_columns)\n",
    "energy_lr_weather = train_model(energy_train, lr_weather_columns)"
   ]
  },
  {
   "cell_type": "markdown",
   "metadata": {},
   "source": [
    "### Рассчитаем финальное качество ансамбля\n",
    "Если вес 1, то считаем регрессию по дням недели, если 0 - то по погоде"
   ]
  },
  {
   "cell_type": "code",
   "execution_count": 11,
   "metadata": {},
   "outputs": [],
   "source": [
    "def calculate_model_ensemble (x, model, columns):\n",
    "    lr = -1\n",
    "    if len(model) > 0:\n",
    "        lr = np.sum([x[col] * model[i] for i,col in enumerate(columns[3:])])\n",
    "        lr += model[len(columns)-3]\n",
    "        lr = np.exp(lr)\n",
    "    if lr < 0 or lr*lr == lr:\n",
    "        lr = 0\n",
    "    return lr\n",
    "\n",
    "def calculate_models_ensemble (x):\n",
    "    lr_d = calculate_model_ensemble(x,\n",
    "            energy_lr_days[x.building_id][x.hour],\n",
    "            lr_days_columns)\n",
    "    lr_w = calculate_model_ensemble(x,\n",
    "            energy_lr_weather[x.building_id][x.hour],\n",
    "            lr_weather_columns)\n",
    "    if weights[x.building_id][x.hour] == 1:\n",
    "        lr = lr_d\n",
    "    else:\n",
    "        lr = lr_w\n",
    "    lr_sum = (lr_w + lr_d)/2\n",
    "    x[\"meter_reading_lr_q\"] = (np.log(x.meter_reading + 1) -\n",
    "                               np.log(1 + lr))**2\n",
    "    x[\"meter_reading_sum_q\"] = (np.log(x.meter_reading + 1) -\n",
    "                               np.log(1 + lr_sum))**2\n",
    "    return x"
   ]
  },
  {
   "cell_type": "markdown",
   "metadata": {},
   "source": [
    "В теории, в идеальном случае, ансамбль линейной регрессии не должен давать никакого преимущества, потому что если\n",
    "\\begin{equation}\n",
    "z_1 = Ax + By + C, z_2 = Ds + Et + F, то\n",
    "\\end{equation}\n",
    "\\begin{equation}\n",
    "z = \\alpha z_1 + \\beta z_2 = \\alpha Ax + \\alpha By + \\alpha C + \\beta Ds + \\beta Et + \\beta F = A_1x + B_1y + D_1s + E_1t + F_1\n",
    "\\end{equation}\n",
    "И по сути ансамбль линейной регрессии - это просто линейная регрессия по всем переменным. Но при использовании небольших наборов (чтобы исключить переобучение) связанных переменных для разных моделей регрессии можно получить небольшой выигрыш.\n",
    "\n",
    "Ансамбль регрессии в нашем случае не дает никакого улучшения относительно регрессии по совокупному набору параметров.\n",
    "\n",
    "Однако, использование усредненной суммы показателей каждой конкретной модели дало выигрыш порядка 6% относительно модели по всем показателям. В этом случае сумму моделей линейной регрессии \"компенсирует\" ошибки каждой конкретной модели и работает точнее."
   ]
  },
  {
   "cell_type": "code",
   "execution_count": 12,
   "metadata": {},
   "outputs": [
    {
     "name": "stderr",
     "output_type": "stream",
     "text": [
      "c:\\users\\nikolay\\appdata\\local\\programs\\python\\python37\\lib\\site-packages\\ipykernel_launcher.py:6: RuntimeWarning: overflow encountered in exp\n",
      "  \n"
     ]
    },
    {
     "name": "stdout",
     "output_type": "stream",
     "text": [
      "Качество ансамбля, 20 зданий: 0.2094817151521595 0.2\n",
      "Качество ансамбля суммы, 20 зданий: 0.19320450684441387 0.2\n"
     ]
    }
   ],
   "source": [
    "energy_test = energy_test.apply(calculate_models_ensemble,\n",
    "                                    axis=1, result_type=\"expand\")\n",
    "energy_test_lr_rmsle = np.sqrt(energy_test[\"meter_reading_lr_q\"].sum() / len(energy_test))\n",
    "energy_test_sum_rmsle = np.sqrt(energy_test[\"meter_reading_sum_q\"].sum() / len(energy_test))\n",
    "print (\"Качество ансамбля, 20 зданий:\",\n",
    "       energy_test_lr_rmsle, round(energy_test_lr_rmsle, 1))\n",
    "print (\"Качество ансамбля суммы, 20 зданий:\",\n",
    "       energy_test_sum_rmsle, round(energy_test_sum_rmsle, 1))"
   ]
  }
 ],
 "metadata": {
  "kernelspec": {
   "display_name": "Python 3 (ipykernel)",
   "language": "python",
   "name": "python3"
  },
  "language_info": {
   "codemirror_mode": {
    "name": "ipython",
    "version": 3
   },
   "file_extension": ".py",
   "mimetype": "text/x-python",
   "name": "python",
   "nbconvert_exporter": "python",
   "pygments_lexer": "ipython3",
   "version": "3.11.1"
  }
 },
 "nbformat": 4,
 "nbformat_minor": 2
}
