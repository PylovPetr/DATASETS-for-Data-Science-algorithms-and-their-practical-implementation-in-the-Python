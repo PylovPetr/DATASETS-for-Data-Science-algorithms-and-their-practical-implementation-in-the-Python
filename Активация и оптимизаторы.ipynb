{
 "cells": [
  {
   "cell_type": "markdown",
   "metadata": {},
   "source": [
    "## Постановка задачи\n",
    "Загрузим данные и разделим их на обучающие и проверочные в соотношении 80/20.\n",
    "\n",
    "Используем Keras для построения нейросети с линейным, сверточными слоями и слоями подвыборки. Проверим, на что влияют различные функции активации сверточных слоев и какой оптимизатор обеспечивает наилучшую сходимость.\n",
    "\n",
    "Проведем оценку качества предсказания по коэффициенту сходства.\n",
    "\n",
    "Данные:\n",
    "* https://video.ittensive.com/machine-learning/clouds/train.csv.gz (54 Мб)\n",
    "* https://video.ittensive.com/machine-learning/clouds/train_images_small.tar.gz (212 Мб)\n",
    "\n",
    "Соревнование: https://www.kaggle.com/c/understanding_cloud_organization/"
   ]
  },
  {
   "cell_type": "markdown",
   "metadata": {},
   "source": [
    "### Подключение библиотек"
   ]
  },
  {
   "cell_type": "code",
   "execution_count": 1,
   "metadata": {},
   "outputs": [
    {
     "name": "stderr",
     "output_type": "stream",
     "text": [
      "Using TensorFlow backend.\n"
     ]
    }
   ],
   "source": [
    "%matplotlib inline\n",
    "import matplotlib.pyplot as plt\n",
    "import numpy as np\n",
    "import pandas as pd\n",
    "import keras\n",
    "from sklearn.model_selection import train_test_split\n",
    "from skimage import io\n",
    "from keras.models import Sequential\n",
    "from keras.layers import Dense, Activation, Flatten\n",
    "from keras.layers import Conv2D, MaxPooling2D\n",
    "from keras import optimizers\n",
    "import os\n",
    "os.environ[\"KERAS_BACKEND\"] = \"plaidml.keras.backend\""
   ]
  },
  {
   "cell_type": "markdown",
   "metadata": {},
   "source": [
    "### Используемые функции"
   ]
  },
  {
   "cell_type": "code",
   "execution_count": 2,
   "metadata": {},
   "outputs": [],
   "source": [
    "image_x = 350\n",
    "image_y = 525\n",
    "image_ch = 3\n",
    "def mask_rate (a, x, y):\n",
    "    b = a//1400 + 0.0\n",
    "    return np.round(x*(b*x//2100) + y*(a%1400)//1400).astype(\"uint32\")\n",
    "\n",
    "def calc_mask (px, x=image_x, y=image_y):\n",
    "    p = np.array([int(n) for n in px.split(' ')]).reshape(-1,2)\n",
    "    mask = np.zeros(x*y, dtype='uint8')\n",
    "    for i, l in p:\n",
    "        mask[mask_rate(i, x, y) - 1:mask_rate(l+i, x, y)] = 1\n",
    "    return mask.reshape(y,x).transpose()\n",
    "\n",
    "def calc_dice (x):\n",
    "    dice = 0\n",
    "    px = x[\"EncodedPixels\"] \n",
    "    if px != px and x[\"target\"] == 0:\n",
    "        dice = 1\n",
    "    elif px == px and x[\"target\"] == 1:\n",
    "        mask = calc_mask(px).flatten()\n",
    "        target = np.ones(image_x*image_y, dtype='uint8')\n",
    "        dice += 2*np.sum(target[mask==1])/(np.sum(target)+np.sum(mask))\n",
    "    return dice\n",
    "\n",
    "def load_y (df):\n",
    "    return np.array(df[\"EncodedPixels\"].notnull().astype(\"int8\")).reshape(len(df), 1)\n",
    "\n",
    "def load_x (df):\n",
    "    x = [[]]*len(df)\n",
    "    for j, file in enumerate(df[\"Image\"]):\n",
    "        x[j] = io.imread(os.path.join(filesDir, file))\n",
    "    return np.array(x).reshape(len(df), image_x, image_y, image_ch)\n",
    "\n",
    "def load_data (df, batch_size):\n",
    "    while True:\n",
    "        batch_start = 0\n",
    "        batch_end = batch_size\n",
    "        while batch_start < len(df):\n",
    "            limit = min(batch_end, len(df))\n",
    "            yield (load_x(df[batch_start:limit]),\n",
    "                   load_y(df[batch_start:limit]))\n",
    "            batch_start += batch_size   \n",
    "            batch_end += batch_size"
   ]
  },
  {
   "cell_type": "markdown",
   "metadata": {},
   "source": [
    "### Загрузка данных"
   ]
  },
  {
   "cell_type": "code",
   "execution_count": 23,
   "metadata": {
    "scrolled": true
   },
   "outputs": [],
   "source": [
    "data = pd.read_csv('https://video.ittensive.com/machine-learning/clouds/train.csv.gz')"
   ]
  },
  {
   "cell_type": "code",
   "execution_count": 24,
   "metadata": {},
   "outputs": [
    {
     "name": "stdout",
     "output_type": "stream",
     "text": [
      "                                        EncodedPixels        Image Label\n",
      "0   264918 937 266318 937 267718 937 269118 937 27...  0011165.jpg  Fish\n",
      "4   233813 878 235213 878 236613 878 238010 881 23...  002be4f.jpg  Fish\n",
      "8   3510 690 4910 690 6310 690 7710 690 9110 690 1...  0031ae9.jpg  Fish\n",
      "12                                                NaN  0035239.jpg  Fish\n",
      "16  2367966 18 2367985 2 2367993 8 2368002 62 2369...  003994e.jpg  Fish\n"
     ]
    }
   ],
   "source": [
    "data[\"Image\"] = data[\"Image_Label\"].str.split(\"_\").str[0]\n",
    "data[\"Label\"] = data[\"Image_Label\"].str.split(\"_\").str[1]\n",
    "data.drop(labels=[\"Image_Label\"], axis=1, inplace=True)\n",
    "data_fish = data[data[\"Label\"] == \"Fish\"]\n",
    "print (data_fish.head())"
   ]
  },
  {
   "cell_type": "markdown",
   "metadata": {},
   "source": [
    "### Разделение данных\n",
    "Разделим всю выборку на 2 части случайным образом: 80% - для обучения модели, 20% - для проверки точности модели."
   ]
  },
  {
   "cell_type": "code",
   "execution_count": 25,
   "metadata": {},
   "outputs": [
    {
     "name": "stdout",
     "output_type": "stream",
     "text": [
      "                                           EncodedPixels        Image Label\n",
      "12464                                                NaN  8dc43a0.jpg  Fish\n",
      "20736  10 1390 1410 1390 2810 1390 4210 1390 5610 139...  eeba036.jpg  Fish\n",
      "21120                                                NaN  f34fb69.jpg  Fish\n",
      "14320  152330 3 152336 1 152344 192 153730 3 153736 2...  a4185ec.jpg  Fish\n",
      "18736                                                NaN  d920035.jpg  Fish\n"
     ]
    }
   ],
   "source": [
    "train, test = train_test_split(data_fish, test_size=0.2)\n",
    "train = pd.DataFrame(train)\n",
    "test = pd.DataFrame(test)\n",
    "del data\n",
    "print (train.head())"
   ]
  },
  {
   "cell_type": "markdown",
   "metadata": {},
   "source": [
    "### Функции активации\n",
    "Логистическая функция (sigmoid) и гиперболический тангенс (tanh) похожи друг на друга и обеспечивают некоторую плавную сходимость обучения нейросети к нужному результату.\n",
    "\n",
    "ReLU позволяет провести вычисления быстрее и использовать меньше итераций для обучения, но в случае неудачного выбора начальных коэффициентов возможно \"выпадение\" отдельных нейронов из слоев и ухудшение предсказательной силы всей нейросети."
   ]
  },
  {
   "cell_type": "markdown",
   "metadata": {},
   "source": [
    "![](activation.webp)"
   ]
  },
  {
   "cell_type": "markdown",
   "metadata": {},
   "source": [
    "Последовательно проверим, как работает обучение при различных функциях активации для первых 50 изображений."
   ]
  },
  {
   "cell_type": "code",
   "execution_count": 16,
   "metadata": {},
   "outputs": [],
   "source": [
    "def create_model():\n",
    "    model = Sequential([\n",
    "        Conv2D(32, (3,3), input_shape=(image_x, image_y, image_ch),\n",
    "              strides=(2,2)),\n",
    "        Activation(\"relu\"),\n",
    "        Conv2D(32, (3,3), strides=(2,2)),\n",
    "        Activation(\"relu\"),\n",
    "        MaxPooling2D(pool_size=(2,2)),\n",
    "        Flatten(),\n",
    "        Activation(\"softmax\"),\n",
    "        Dense(1)\n",
    "    ])\n",
    "    return model"
   ]
  },
  {
   "cell_type": "code",
   "execution_count": 11,
   "metadata": {},
   "outputs": [],
   "source": [
    "filesDir = \"train_images_small\"\n",
    "batch_size = 10"
   ]
  },
  {
   "cell_type": "markdown",
   "metadata": {},
   "source": [
    "Построим и обучим модель, используя адаптивный градиентный спуск и абсолютную ошибку."
   ]
  },
  {
   "cell_type": "code",
   "execution_count": 17,
   "metadata": {},
   "outputs": [],
   "source": [
    "model = create_model()\n",
    "model.compile(optimizer=\"adam\", loss=\"mean_absolute_error\")"
   ]
  },
  {
   "cell_type": "code",
   "execution_count": 18,
   "metadata": {},
   "outputs": [
    {
     "name": "stdout",
     "output_type": "stream",
     "text": [
      "Epoch 1/10\n",
      "5/5 [==============================] - 5s 977ms/step - loss: 0.4216\n",
      "Epoch 2/10\n",
      "5/5 [==============================] - 4s 766ms/step - loss: 0.4194\n",
      "Epoch 3/10\n",
      "5/5 [==============================] - 4s 801ms/step - loss: 0.4172\n",
      "Epoch 4/10\n",
      "5/5 [==============================] - 4s 880ms/step - loss: 0.4157\n",
      "Epoch 5/10\n",
      "5/5 [==============================] - 4s 858ms/step - loss: 0.4138\n",
      "Epoch 6/10\n",
      "5/5 [==============================] - 4s 741ms/step - loss: 0.4121\n",
      "Epoch 7/10\n",
      "5/5 [==============================] - 4s 739ms/step - loss: 0.4106\n",
      "Epoch 8/10\n",
      "5/5 [==============================] - 4s 723ms/step - loss: 0.4088\n",
      "Epoch 9/10\n",
      "5/5 [==============================] - 4s 746ms/step - loss: 0.4076\n",
      "Epoch 10/10\n",
      "5/5 [==============================] - 4s 755ms/step - loss: 0.4058\n"
     ]
    },
    {
     "data": {
      "text/plain": [
       "<keras.callbacks.History at 0x23e1d308>"
      ]
     },
     "execution_count": 18,
     "metadata": {},
     "output_type": "execute_result"
    }
   ],
   "source": [
    "model.fit_generator(load_data(train[0:50], batch_size),\n",
    "            epochs=10, steps_per_epoch=len(train[0:50])//batch_size,\n",
    "            verbose=True)"
   ]
  },
  {
   "cell_type": "markdown",
   "metadata": {},
   "source": [
    "### Оптимизаторы нейросети\n",
    "![](optimizers.gif)\n",
    "Проверим работу sgd, nadam, rmsprop. Выставим скорость обучения в 0,02"
   ]
  },
  {
   "cell_type": "code",
   "execution_count": 20,
   "metadata": {},
   "outputs": [
    {
     "name": "stdout",
     "output_type": "stream",
     "text": [
      "<class 'keras.optimizers.Nadam'>\n",
      "Epoch 1/10\n",
      "5/5 [==============================] - 5s 930ms/step - loss: 0.4242\n",
      "Epoch 2/10\n",
      "5/5 [==============================] - 3s 695ms/step - loss: 0.4153\n",
      "Epoch 3/10\n",
      "5/5 [==============================] - 4s 733ms/step - loss: 0.4102\n",
      "Epoch 4/10\n",
      "5/5 [==============================] - 4s 702ms/step - loss: 0.3955\n",
      "Epoch 5/10\n",
      "5/5 [==============================] - 3s 698ms/step - loss: 0.3707\n",
      "Epoch 6/10\n",
      "5/5 [==============================] - 4s 711ms/step - loss: 0.3360\n",
      "Epoch 7/10\n",
      "5/5 [==============================] - 4s 716ms/step - loss: 0.3126\n",
      "Epoch 8/10\n",
      "5/5 [==============================] - 4s 722ms/step - loss: 0.2839\n",
      "Epoch 9/10\n",
      "5/5 [==============================] - 4s 708ms/step - loss: 0.2801\n",
      "Epoch 10/10\n",
      "5/5 [==============================] - 4s 712ms/step - loss: 0.2324\n",
      "<class 'keras.optimizers.SGD'>\n",
      "Epoch 1/10\n",
      "5/5 [==============================] - 4s 882ms/step - loss: 0.4216\n",
      "Epoch 2/10\n",
      "5/5 [==============================] - 4s 721ms/step - loss: 0.4196\n",
      "Epoch 3/10\n",
      "5/5 [==============================] - 4s 724ms/step - loss: 0.4184\n",
      "Epoch 4/10\n",
      "5/5 [==============================] - 4s 716ms/step - loss: 0.4181\n",
      "Epoch 5/10\n",
      "5/5 [==============================] - 4s 729ms/step - loss: 0.4164\n",
      "Epoch 6/10\n",
      "5/5 [==============================] - 4s 707ms/step - loss: 0.4162\n",
      "Epoch 7/10\n",
      "5/5 [==============================] - 4s 752ms/step - loss: 0.4135\n",
      "Epoch 8/10\n",
      "5/5 [==============================] - 4s 722ms/step - loss: 0.4120\n",
      "Epoch 9/10\n",
      "5/5 [==============================] - 4s 709ms/step - loss: 0.4103\n",
      "Epoch 10/10\n",
      "5/5 [==============================] - 4s 703ms/step - loss: 0.4102\n",
      "<class 'keras.optimizers.RMSprop'>\n",
      "Epoch 1/10\n",
      "5/5 [==============================] - 4s 899ms/step - loss: 0.4284\n",
      "Epoch 2/10\n",
      "5/5 [==============================] - 4s 730ms/step - loss: 0.4310\n",
      "Epoch 3/10\n",
      "5/5 [==============================] - 4s 718ms/step - loss: 0.4012\n",
      "Epoch 4/10\n",
      "5/5 [==============================] - 4s 721ms/step - loss: 0.3756\n",
      "Epoch 5/10\n",
      "5/5 [==============================] - 4s 713ms/step - loss: 0.3533\n",
      "Epoch 6/10\n",
      "5/5 [==============================] - 4s 714ms/step - loss: 0.3227\n",
      "Epoch 7/10\n",
      "5/5 [==============================] - 4s 738ms/step - loss: 0.2929\n",
      "Epoch 8/10\n",
      "5/5 [==============================] - 4s 706ms/step - loss: 0.2825\n",
      "Epoch 9/10\n",
      "5/5 [==============================] - 4s 710ms/step - loss: 0.2525\n",
      "Epoch 10/10\n",
      "5/5 [==============================] - 4s 726ms/step - loss: 0.2186\n"
     ]
    }
   ],
   "source": [
    "history = []\n",
    "for optimizer in [optimizers.Nadam, optimizers.SGD, optimizers.RMSprop]:\n",
    "    print (optimizer)\n",
    "    model = create_model()\n",
    "    model.compile(optimizer=optimizer(lr=0.02),\n",
    "                 loss=\"mean_absolute_error\")\n",
    "    history.append(model.fit_generator(load_data(train[0:50], batch_size),\n",
    "            epochs=10, steps_per_epoch=len(train[0:50])//batch_size,\n",
    "            verbose=True).history[\"loss\"])"
   ]
  },
  {
   "cell_type": "code",
   "execution_count": 21,
   "metadata": {},
   "outputs": [
    {
     "data": {
      "image/png": "[encoded data removed]",
      "text/plain": [
       "<Figure size 1440x720 with 1 Axes>"
      ]
     },
     "metadata": {
      "needs_background": "light"
     },
     "output_type": "display_data"
    }
   ],
   "source": [
    "plt.figure(figsize=(20,10))\n",
    "for i in range(len(history)):\n",
    "    plt.plot(history[i])\n",
    "plt.ylabel(\"Точность\")\n",
    "plt.xlabel(\"Эпоха\")\n",
    "plt.legend([\"Nadam\", \"SGD\", \"RMSprop\"], loc=\"upper left\")\n",
    "plt.show()"
   ]
  }
 ],
 "metadata": {
  "kernelspec": {
   "display_name": "Python 3 (ipykernel)",
   "language": "python",
   "name": "python3"
  },
  "language_info": {
   "codemirror_mode": {
    "name": "ipython",
    "version": 3
   },
   "file_extension": ".py",
   "mimetype": "text/x-python",
   "name": "python",
   "nbconvert_exporter": "python",
   "pygments_lexer": "ipython3",
   "version": "3.11.1"
  }
 },
 "nbformat": 4,
 "nbformat_minor": 2
}
