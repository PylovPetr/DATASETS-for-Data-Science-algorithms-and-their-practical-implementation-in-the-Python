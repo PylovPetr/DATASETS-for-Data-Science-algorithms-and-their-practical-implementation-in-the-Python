{
 "cells": [
  {
   "cell_type": "markdown",
   "metadata": {},
   "source": [
    "## Постановка задачи\n",
    "Загрузим данные и разделим их на обучающие и проверочные в соотношении 80/20.\n",
    "\n",
    "Используем Keras для построения нейросети с линейным, сверточными слоями и слоями подвыборки. Проверим, как повышают эффективность обучения нормализация данных и отсев.\n",
    "\n",
    "Обучим модель, используя последовательную загрузку данных. Проведем оценку качества предсказания по коэффициенту сходства.\n",
    "\n",
    "Данные:\n",
    "* https://video.ittensive.com/machine-learning/clouds/train.csv.gz (54 Мб)\n",
    "* https://video.ittensive.com/machine-learning/clouds/train_images_small.tar.gz (212 Мб)\n",
    "\n",
    "Соревнование: https://www.kaggle.com/c/understanding_cloud_organization/"
   ]
  },
  {
   "cell_type": "markdown",
   "metadata": {},
   "source": [
    "### Подключение библиотек"
   ]
  },
  {
   "cell_type": "code",
   "execution_count": 1,
   "metadata": {},
   "outputs": [
    {
     "name": "stderr",
     "output_type": "stream",
     "text": [
      "Using TensorFlow backend.\n"
     ]
    }
   ],
   "source": [
    "%matplotlib inline\n",
    "import matplotlib.pyplot as plt\n",
    "import numpy as np\n",
    "import pandas as pd\n",
    "import keras\n",
    "from skimage import io\n",
    "from sklearn.model_selection import train_test_split\n",
    "from keras.models import Sequential\n",
    "from keras.layers import Dense, Activation, Flatten, Dropout\n",
    "from keras.layers import Conv2D, MaxPooling2D, BatchNormalization\n",
    "from keras import optimizers\n",
    "import os\n",
    "os.environ[\"KERAS_BACKEND\"] = \"plaidml.keras.backend\""
   ]
  },
  {
   "cell_type": "markdown",
   "metadata": {},
   "source": [
    "### Используемые функции"
   ]
  },
  {
   "cell_type": "code",
   "execution_count": 2,
   "metadata": {},
   "outputs": [],
   "source": [
    "image_x = 525 # 525\n",
    "image_y = 350 # 350\n",
    "image_ch = 3 # 3\n",
    "def mask_rate (a, x, y):\n",
    "    b = a//1400 + 0.0\n",
    "    return np.round(x*(b*x//2100) + y*(a%1400)//1400).astype(\"uint32\")\n",
    "\n",
    "def calc_mask (px, x=image_x, y=image_y):\n",
    "    p = np.array([int(n) for n in px.split(' ')]).reshape(-1,2)\n",
    "    mask = np.zeros(x*y, dtype='uint8')\n",
    "    for i, l in p:\n",
    "        mask[mask_rate(i, x, y) - 1:mask_rate(l+i, x, y)] = 1\n",
    "    return mask.reshape(y,x).transpose()\n",
    "\n",
    "def calc_dice (x):\n",
    "    dice = 0\n",
    "    px = x[\"EncodedPixels\"] \n",
    "    if px != px and x[\"target\"] == 0:\n",
    "        dice = 1\n",
    "    elif px == px and x[\"target\"] == 1:\n",
    "        mask = calc_mask(px).flatten()\n",
    "        target = np.ones(image_x*image_y, dtype='uint8')\n",
    "        dice += 2*np.sum(target[mask==1])/(np.sum(target)+np.sum(mask))\n",
    "    return dice\n",
    "\n",
    "def load_y (df):\n",
    "    return np.array(df[\"EncodedPixels\"].notnull().astype(\"int8\")).reshape(len(df), 1)\n",
    "\n",
    "def load_x (df):\n",
    "    x = [[]]*len(df)\n",
    "    for j, file in enumerate(df[\"Image\"]):\n",
    "        x[j] = io.imread(os.path.join(filesDir, file))\n",
    "    return np.array(x).reshape(len(df), image_y, image_x, image_ch)\n",
    "\n",
    "def load_data (df, batch_size):\n",
    "    while True:\n",
    "        batch_start = 0\n",
    "        batch_end = batch_size\n",
    "        while batch_start < len(df):\n",
    "            limit = min(batch_end, len(df))\n",
    "            yield (load_x(df[batch_start:limit]),\n",
    "                   load_y(df[batch_start:limit]))\n",
    "            batch_start += batch_size   \n",
    "            batch_end += batch_size\n",
    "\n",
    "def draw_prediction (prediction):\n",
    "    fig = plt.figure(figsize=(16, 8))\n",
    "    ax = fig.add_subplot(1,1,1)\n",
    "    ax.hist(prediction[0])\n",
    "    ax.set_title(\"Fish\")\n",
    "    plt.show()"
   ]
  },
  {
   "cell_type": "markdown",
   "metadata": {},
   "source": [
    "### Загрузка данных"
   ]
  },
  {
   "cell_type": "code",
   "execution_count": 3,
   "metadata": {
    "scrolled": true
   },
   "outputs": [],
   "source": [
    "data = pd.read_csv('https://video.ittensive.com/machine-learning/clouds/train.csv.gz')"
   ]
  },
  {
   "cell_type": "code",
   "execution_count": 4,
   "metadata": {},
   "outputs": [
    {
     "name": "stdout",
     "output_type": "stream",
     "text": [
      "                                        EncodedPixels        Image Label\n",
      "0   264918 937 266318 937 267718 937 269118 937 27...  0011165.jpg  Fish\n",
      "4   233813 878 235213 878 236613 878 238010 881 23...  002be4f.jpg  Fish\n",
      "8   3510 690 4910 690 6310 690 7710 690 9110 690 1...  0031ae9.jpg  Fish\n",
      "12                                                NaN  0035239.jpg  Fish\n",
      "16  2367966 18 2367985 2 2367993 8 2368002 62 2369...  003994e.jpg  Fish\n"
     ]
    }
   ],
   "source": [
    "data[\"Image\"] = data[\"Image_Label\"].str.split(\"_\").str[0]\n",
    "data[\"Label\"] = data[\"Image_Label\"].str.split(\"_\").str[1]\n",
    "data.drop(labels=[\"Image_Label\"], axis=1, inplace=True)\n",
    "data_fish = data[data[\"Label\"] == \"Fish\"]\n",
    "print (data_fish.head())"
   ]
  },
  {
   "cell_type": "markdown",
   "metadata": {},
   "source": [
    "### Разделение данных\n",
    "Разделим всю выборку на 2 части случайным образом: 80% - для обучения модели, 20% - для проверки точности модели."
   ]
  },
  {
   "cell_type": "code",
   "execution_count": 5,
   "metadata": {},
   "outputs": [
    {
     "name": "stdout",
     "output_type": "stream",
     "text": [
      "                                           EncodedPixels        Image Label\n",
      "6104                                                 NaN  4669e71.jpg  Fish\n",
      "8476                                                 NaN  60aa201.jpg  Fish\n",
      "6216   332608 448 334008 448 335408 448 336808 448 33...  476f864.jpg  Fish\n",
      "20804  125255 656 126655 656 128055 656 129455 656 13...  eff8789.jpg  Fish\n",
      "4700                                                 NaN  36198e2.jpg  Fish\n"
     ]
    }
   ],
   "source": [
    "train, test = train_test_split(data_fish, test_size=0.2)\n",
    "train = pd.DataFrame(train)\n",
    "test = pd.DataFrame(test)\n",
    "del data\n",
    "print (train.head())"
   ]
  },
  {
   "cell_type": "markdown",
   "metadata": {},
   "source": [
    "### Генератор данных для обучения\n",
    "Данные всех изображений могут не поместиться в оперативную память, поэтому будем обучать нейросеть последовательно, пакетами."
   ]
  },
  {
   "cell_type": "code",
   "execution_count": 6,
   "metadata": {},
   "outputs": [],
   "source": [
    "filesDir = \"train_images_small\"\n",
    "batch_size = 50"
   ]
  },
  {
   "cell_type": "markdown",
   "metadata": {},
   "source": [
    "### Сверточная нейросеть\n",
    "Создадим модель. Архитектура в общем виде:\n",
    "\n",
    "INPUT -> [[CONV -> RELU] * N -> POOL?] * M -> [FC -> RELU] * K -> FC * L"
   ]
  },
  {
   "cell_type": "code",
   "execution_count": 7,
   "metadata": {},
   "outputs": [
    {
     "name": "stderr",
     "output_type": "stream",
     "text": [
      "WARNING: Logging before flag parsing goes to stderr.\n",
      "W0314 21:49:40.229383  9288 deprecation_wrapper.py:119] From c:\\users\\nikolay\\appdata\\local\\programs\\python\\python37\\lib\\site-packages\\keras\\backend\\tensorflow_backend.py:1834: The name tf.nn.fused_batch_norm is deprecated. Please use tf.compat.v1.nn.fused_batch_norm instead.\n",
      "\n",
      "W0314 21:49:40.349390  9288 deprecation.py:506] From c:\\users\\nikolay\\appdata\\local\\programs\\python\\python37\\lib\\site-packages\\keras\\backend\\tensorflow_backend.py:3445: calling dropout (from tensorflow.python.ops.nn_ops) with keep_prob is deprecated and will be removed in a future version.\n",
      "Instructions for updating:\n",
      "Please use `rate` instead of `keep_prob`. Rate should be set to `rate = 1 - keep_prob`.\n"
     ]
    }
   ],
   "source": [
    "model = Sequential([\n",
    "    Conv2D(32, (3,3), input_shape=(image_y, image_x, image_ch),\n",
    "          kernel_initializer='glorot_uniform', strides=(2,2)),\n",
    "    Activation(\"relu\"),\n",
    "    BatchNormalization(),\n",
    "    Dropout(0.5),\n",
    "    Conv2D(32, (3,3),\n",
    "           kernel_initializer='glorot_uniform', strides=(2,2)),\n",
    "    Activation(\"relu\"),\n",
    "    BatchNormalization(),\n",
    "    Dropout(0.5),\n",
    "    MaxPooling2D(pool_size=(2,2)),\n",
    "    Flatten(),\n",
    "    Activation(\"softmax\"),\n",
    "    Dense(1)\n",
    "])"
   ]
  },
  {
   "cell_type": "code",
   "execution_count": 8,
   "metadata": {},
   "outputs": [],
   "source": [
    "model.compile(optimizer=optimizers.Nadam(lr=0.02),\n",
    "             loss=\"mean_absolute_error\")"
   ]
  },
  {
   "cell_type": "markdown",
   "metadata": {},
   "source": [
    "### Предсказание значений"
   ]
  },
  {
   "cell_type": "code",
   "execution_count": 9,
   "metadata": {},
   "outputs": [
    {
     "name": "stdout",
     "output_type": "stream",
     "text": [
      "Epoch 1/50\n",
      "88/88 [==============================] - 1357s 15s/step - loss: 0.5035\n",
      "Epoch 2/50\n",
      "88/88 [==============================] - 1356s 15s/step - loss: 0.5060\n",
      "Epoch 3/50\n",
      "88/88 [==============================] - 1359s 15s/step - loss: 0.5054\n",
      "Epoch 4/50\n",
      "88/88 [==============================] - 1267s 14s/step - loss: 0.5129\n",
      "Epoch 5/50\n",
      "88/88 [==============================] - 1211s 14s/step - loss: 0.5120\n",
      "Epoch 6/50\n",
      "88/88 [==============================] - 1204s 14s/step - loss: 0.5142\n",
      "Epoch 7/50\n",
      "88/88 [==============================] - 1207s 14s/step - loss: 0.5341\n",
      "Epoch 8/50\n",
      "88/88 [==============================] - 1216s 14s/step - loss: 0.5228\n",
      "Epoch 9/50\n",
      "88/88 [==============================] - 1206s 14s/step - loss: 0.5180\n",
      "Epoch 10/50\n",
      "88/88 [==============================] - 1213s 14s/step - loss: 0.5178\n",
      "Epoch 11/50\n",
      "88/88 [==============================] - 1208s 14s/step - loss: 0.5075\n",
      "Epoch 12/50\n",
      "88/88 [==============================] - 1206s 14s/step - loss: 0.5372\n",
      "Epoch 13/50\n",
      "88/88 [==============================] - 1200s 14s/step - loss: 0.5348\n",
      "Epoch 14/50\n",
      "88/88 [==============================] - 1198s 14s/step - loss: 0.5355\n",
      "Epoch 15/50\n",
      "88/88 [==============================] - 1199s 14s/step - loss: 0.5233\n",
      "Epoch 16/50\n",
      "88/88 [==============================] - 1231s 14s/step - loss: 0.5181\n",
      "Epoch 17/50\n",
      "88/88 [==============================] - 1199s 14s/step - loss: 0.5197\n",
      "Epoch 18/50\n",
      "88/88 [==============================] - 1202s 14s/step - loss: 0.5229\n",
      "Epoch 19/50\n",
      "88/88 [==============================] - 1228s 14s/step - loss: 0.5336\n",
      "Epoch 20/50\n",
      "88/88 [==============================] - 1198s 14s/step - loss: 0.5232\n",
      "Epoch 21/50\n",
      "88/88 [==============================] - 1201s 14s/step - loss: 0.5082\n",
      "Epoch 22/50\n",
      "88/88 [==============================] - 1203s 14s/step - loss: 0.5109\n",
      "Epoch 23/50\n",
      "88/88 [==============================] - 1196s 14s/step - loss: 0.5047\n",
      "Epoch 24/50\n",
      "88/88 [==============================] - 1202s 14s/step - loss: 0.5033\n",
      "Epoch 25/50\n",
      "88/88 [==============================] - 1205s 14s/step - loss: 0.5044\n",
      "Epoch 26/50\n",
      "88/88 [==============================] - 1206s 14s/step - loss: 0.5051\n",
      "Epoch 27/50\n",
      "88/88 [==============================] - 1204s 14s/step - loss: 0.5054\n",
      "Epoch 28/50\n",
      "88/88 [==============================] - 1204s 14s/step - loss: 0.4989\n",
      "Epoch 29/50\n",
      "88/88 [==============================] - 1204s 14s/step - loss: 0.5023\n",
      "Epoch 30/50\n",
      "88/88 [==============================] - 1202s 14s/step - loss: 0.5040\n",
      "Epoch 31/50\n",
      "88/88 [==============================] - 1203s 14s/step - loss: 0.5070\n",
      "Epoch 32/50\n",
      "88/88 [==============================] - 1201s 14s/step - loss: 0.4926\n",
      "Epoch 33/50\n",
      "88/88 [==============================] - 1198s 14s/step - loss: 0.4967\n",
      "Epoch 34/50\n",
      "88/88 [==============================] - 1244s 14s/step - loss: 0.4966\n",
      "Epoch 35/50\n",
      "88/88 [==============================] - 1239s 14s/step - loss: 0.5002\n",
      "Epoch 36/50\n",
      "88/88 [==============================] - 1223s 14s/step - loss: 0.4877\n",
      "Epoch 37/50\n",
      "88/88 [==============================] - 10088s 115s/step - loss: 0.5281\n",
      "Epoch 38/50\n",
      "88/88 [==============================] - 1423s 16s/step - loss: 0.5525\n",
      "Epoch 39/50\n",
      "88/88 [==============================] - 5749s 65s/step - loss: 0.5086\n",
      "Epoch 40/50\n",
      "88/88 [==============================] - 1317s 15s/step - loss: 0.4960\n",
      "Epoch 41/50\n",
      "88/88 [==============================] - 1366s 16s/step - loss: 0.4913\n",
      "Epoch 42/50\n",
      "88/88 [==============================] - 1276s 15s/step - loss: 0.4944\n",
      "Epoch 43/50\n",
      "88/88 [==============================] - 1330s 15s/step - loss: 0.4992\n",
      "Epoch 44/50\n",
      "88/88 [==============================] - 1230s 14s/step - loss: 0.4905\n",
      "Epoch 45/50\n",
      "88/88 [==============================] - 1285s 15s/step - loss: 0.4931\n",
      "Epoch 46/50\n",
      "88/88 [==============================] - 1842s 21s/step - loss: 0.5003\n",
      "Epoch 47/50\n",
      "88/88 [==============================] - 4448s 51s/step - loss: 0.4879\n",
      "Epoch 48/50\n",
      "88/88 [==============================] - 11950s 136s/step - loss: 0.4976\n",
      "Epoch 49/50\n",
      "88/88 [==============================] - 1741s 20s/step - loss: 0.4937\n",
      "Epoch 50/50\n",
      "88/88 [==============================] - 1473s 17s/step - loss: 0.4868\n"
     ]
    },
    {
     "data": {
      "text/plain": [
       "<keras.callbacks.History at 0x23df7e48>"
      ]
     },
     "execution_count": 9,
     "metadata": {},
     "output_type": "execute_result"
    }
   ],
   "source": [
    "model.fit_generator(load_data(train, batch_size),\n",
    "            epochs=50, steps_per_epoch=len(train)//batch_size)"
   ]
  },
  {
   "cell_type": "code",
   "execution_count": 10,
   "metadata": {},
   "outputs": [
    {
     "name": "stdout",
     "output_type": "stream",
     "text": [
      "1110/1110 [==============================] - 148s 133ms/step\n"
     ]
    }
   ],
   "source": [
    "prediction = model.predict_generator(load_data(test, 1),\n",
    "                            steps=len(test), verbose=1)"
   ]
  },
  {
   "cell_type": "code",
   "execution_count": 11,
   "metadata": {},
   "outputs": [],
   "source": [
    "prediction = np.transpose(prediction)"
   ]
  },
  {
   "cell_type": "code",
   "execution_count": 12,
   "metadata": {},
   "outputs": [
    {
     "data": {
      "image/png": "[encoded data removed]",
      "text/plain": [
       "<Figure size 1152x576 with 1 Axes>"
      ]
     },
     "metadata": {
      "needs_background": "light"
     },
     "output_type": "display_data"
    }
   ],
   "source": [
    "draw_prediction(prediction)"
   ]
  },
  {
   "cell_type": "code",
   "execution_count": 20,
   "metadata": {},
   "outputs": [
    {
     "name": "stdout",
     "output_type": "stream",
     "text": [
      "                                           EncodedPixels  target\n",
      "19652  1124605 556 1126005 556 1127405 556 1128805 55...       1\n",
      "15796                                                NaN       1\n",
      "16904  851201 395 851597 2 851609 8 852601 400 853009...       1\n",
      "12196                                                NaN       1\n",
      "21716  96 777 1496 777 2896 777 4296 777 5696 777 709...       1\n",
      "14268  845 447 2245 447 3645 447 5045 447 6445 447 78...       1\n",
      "13092                                                NaN       1\n",
      "18664                                                NaN       1\n"
     ]
    }
   ],
   "source": [
    "test[\"target\"] = (prediction[0] >= 0.95).astype(\"int8\")\n",
    "print (test[test[\"target\"]>0][[\"EncodedPixels\",\"target\"]].head(100))"
   ]
  },
  {
   "cell_type": "markdown",
   "metadata": {},
   "source": [
    "### Оценка по Дайсу\n",
    "Пока будем считать, что при определении типа облака на изображении, оно целиком размещено на фотографии: т.е. область облака - это все изображение."
   ]
  },
  {
   "cell_type": "markdown",
   "metadata": {},
   "source": [
    "Нет облаков - 0.5, MLP - 0.3, CONV3-32x2,POOL2 - 0.46"
   ]
  },
  {
   "cell_type": "code",
   "execution_count": 21,
   "metadata": {},
   "outputs": [
    {
     "name": "stdout",
     "output_type": "stream",
     "text": [
      "Keras, (CONV3-32x2,POOL2): 0.488\n"
     ]
    }
   ],
   "source": [
    "dice = test.apply(calc_dice, axis=1, result_type=\"expand\")\n",
    "print (\"Keras, (CONV3-32x2,POOL2):\", round(dice.mean(), 3))"
   ]
  }
 ],
 "metadata": {
  "kernelspec": {
   "display_name": "Python 3 (ipykernel)",
   "language": "python",
   "name": "python3"
  },
  "language_info": {
   "codemirror_mode": {
    "name": "ipython",
    "version": 3
   },
   "file_extension": ".py",
   "mimetype": "text/x-python",
   "name": "python",
   "nbconvert_exporter": "python",
   "pygments_lexer": "ipython3",
   "version": "3.11.1"
  }
 },
 "nbformat": 4,
 "nbformat_minor": 2
}
