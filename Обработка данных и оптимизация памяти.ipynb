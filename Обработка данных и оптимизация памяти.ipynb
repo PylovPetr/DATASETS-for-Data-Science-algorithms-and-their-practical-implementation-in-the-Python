{
 "cells": [
  {
   "cell_type": "markdown",
   "metadata": {},
   "source": [
    "## Постановка задачи\n",
    "Загрузим данные и подготовим все данные для анализа: проведем нормализацию и преобразование категорий. Оптимизируем потребление памяти.\n",
    "\n",
    "Разделим выборку на обучающую/проверочную в соотношении 80/20.\n",
    "\n",
    "Применим наивный Байес для классификации скоринга. Будем использовать все возможные столбцы.\n",
    "\n",
    "Проверим качество предсказания через каппа-метрику и матрицу неточностей.\n",
    "\n",
    "Данные:\n",
    "* https://video.ittensive.com/machine-learning/prudential/train.csv.gz\n",
    "\n",
    "Соревнование: https://www.kaggle.com/c/prudential-life-insurance-assessment/"
   ]
  },
  {
   "cell_type": "markdown",
   "metadata": {},
   "source": [
    "### Подключение библиотек"
   ]
  },
  {
   "cell_type": "code",
   "execution_count": 1,
   "metadata": {},
   "outputs": [],
   "source": [
    "import pandas as pd\n",
    "import numpy as np\n",
    "from sklearn.model_selection import train_test_split\n",
    "from sklearn.metrics import cohen_kappa_score, confusion_matrix\n",
    "from sklearn.naive_bayes import GaussianNB\n",
    "from sklearn import preprocessing"
   ]
  },
  {
   "cell_type": "markdown",
   "metadata": {},
   "source": [
    "### Загрузка данных"
   ]
  },
  {
   "cell_type": "code",
   "execution_count": 2,
   "metadata": {},
   "outputs": [
    {
     "name": "stdout",
     "output_type": "stream",
     "text": [
      "<class 'pandas.core.frame.DataFrame'>\n",
      "RangeIndex: 59381 entries, 0 to 59380\n",
      "Columns: 128 entries, Id to Response\n",
      "dtypes: float64(18), int64(109), object(1)\n",
      "memory usage: 58.0+ MB\n",
      "None\n"
     ]
    }
   ],
   "source": [
    "data = pd.read_csv(\"https://video.ittensive.com/machine-learning/prudential/train.csv.gz\")\n",
    "print (data.info())"
   ]
  },
  {
   "cell_type": "markdown",
   "metadata": {},
   "source": [
    "###  Категоризация данных"
   ]
  },
  {
   "cell_type": "code",
   "execution_count": 3,
   "metadata": {},
   "outputs": [
    {
     "name": "stdout",
     "output_type": "stream",
     "text": [
      "<class 'pandas.core.frame.DataFrame'>\n",
      "RangeIndex: 59381 entries, 0 to 59380\n",
      "Columns: 129 entries, Id to Product_Info_2_2\n",
      "dtypes: float64(18), int64(110), object(1)\n",
      "memory usage: 58.4+ MB\n",
      "None\n"
     ]
    }
   ],
   "source": [
    "data[\"Product_Info_2_1\"] = data[\"Product_Info_2\"].str.slice(0, 1)\n",
    "data[\"Product_Info_2_2\"] = pd.to_numeric(data[\"Product_Info_2\"].str.slice(1, 2))\n",
    "data.drop(labels=[\"Product_Info_2\"], axis=1, inplace=True)\n",
    "print (data.info())"
   ]
  },
  {
   "cell_type": "markdown",
   "metadata": {},
   "source": [
    "### Оптимизация потребления памяти"
   ]
  },
  {
   "cell_type": "code",
   "execution_count": 8,
   "metadata": {},
   "outputs": [],
   "source": [
    "def reduce_mem_usage (df):\n",
    "    start_mem = df.memory_usage().sum() / 1024**2\n",
    "    for col in df.columns:\n",
    "        col_type = df[col].dtypes\n",
    "        if str(col_type)[:5] == \"float\":\n",
    "            c_min = df[col].min()\n",
    "            c_max = df[col].max()\n",
    "            if c_min > np.finfo(\"f2\").min and c_max < np.finfo(\"f2\").max:\n",
    "                df[col] = df[col].astype(np.float16)\n",
    "            elif c_min > np.finfo(\"f4\").min and c_max < np.finfo(\"f4\").max:\n",
    "                df[col] = df[col].astype(np.float32)\n",
    "            else:\n",
    "                df[col] = df[col].astype(np.float64)\n",
    "        elif str(col_type)[:3] == \"int\":\n",
    "            c_min = df[col].min()\n",
    "            c_max = df[col].max()\n",
    "            if c_min > np.iinfo(\"i1\").min and c_max < np.iinfo(\"i1\").max:\n",
    "                df[col] = df[col].astype(np.int8)\n",
    "            elif c_min > np.iinfo(\"i2\").min and c_max < np.iinfo(\"i2\").max:\n",
    "                df[col] = df[col].astype(np.int16)\n",
    "            elif c_min > np.iinfo(\"i4\").min and c_max < np.iinfo(\"i4\").max:\n",
    "                df[col] = df[col].astype(np.int32)\n",
    "            elif c_min > np.iinfo(\"i8\").min and c_max < np.iinfo(\"i8\").max:\n",
    "                df[col] = df[col].astype(np.int64)\n",
    "        else:\n",
    "            df[col] = df[col].astype(\"category\")\n",
    "    end_mem = df.memory_usage().sum() / 1024**2\n",
    "    print (\"Потребление памяти меньше на\", round(start_mem - end_mem, 2), \"Мб (минус)\", round(100*(start_mem - end_mem) / start_mem, 1), \"%)\")\n",
    "    return df"
   ]
  },
  {
   "cell_type": "code",
   "execution_count": 9,
   "metadata": {},
   "outputs": [
    {
     "name": "stdout",
     "output_type": "stream",
     "text": [
      "Потребление памяти меньше на 49.89 Мб (минус) 85.4 %)\n",
      "<class 'pandas.core.frame.DataFrame'>\n",
      "RangeIndex: 59381 entries, 0 to 59380\n",
      "Columns: 129 entries, Id to Product_Info_2_2\n",
      "dtypes: category(1), float16(18), int16(1), int32(1), int8(108)\n",
      "memory usage: 8.6 MB\n",
      "None\n"
     ]
    }
   ],
   "source": [
    "data = reduce_mem_usage(data)\n",
    "print (data.info())"
   ]
  },
  {
   "cell_type": "markdown",
   "metadata": {},
   "source": [
    "### Предобработка: категоризация, единичные векторы\n",
    "| Product |\n",
    "| - |\n",
    "| A |\n",
    "| B |\n",
    "| C |\n",
    "| A |\n",
    "\n",
    "Переходит в\n",
    "\n",
    "| ProductA | ProductB | ProductC |\n",
    "| -- | -- | -- |\n",
    "| 1 | 0 | 0 |\n",
    "| 0 | 1 | 0 |\n",
    "| 0 | 0 | 1 |\n",
    "| 1 | 0 | 0 |\n",
    "\n",
    "Можно использовать sklearn.preprocessing.OneHotEncoder, но для этого потребуется дополнительно преобразовать фрейм данных (набор единичных векторов для каждого кортежа данных).\n",
    "\n",
    "Также не будем использовать кодирование категорий (A->1, B->2, C->3, D->4, E->5), потому что это переводит номинативную случайную величину в ранговую/числовую, и является существенным допущением относительно исходных данных."
   ]
  },
  {
   "cell_type": "code",
   "execution_count": 10,
   "metadata": {},
   "outputs": [],
   "source": [
    "for l in data[\"Product_Info_2_1\"].unique():\n",
    "    data[\"Product_Info_2_1\" + l] = data[\"Product_Info_2_1\"].isin([l]).astype(\"int8\")\n",
    "data.drop(labels=[\"Product_Info_2_1\"], axis=1, inplace=True)"
   ]
  },
  {
   "cell_type": "markdown",
   "metadata": {},
   "source": [
    "### Заполним отсутствующие значения\n",
    "-1 увеличивает \"расстояние\" при расчете ближайших соседей"
   ]
  },
  {
   "cell_type": "code",
   "execution_count": 12,
   "metadata": {},
   "outputs": [],
   "source": [
    "data.fillna(value=-1, inplace=True)"
   ]
  },
  {
   "cell_type": "markdown",
   "metadata": {},
   "source": [
    "### Столбцы для модели"
   ]
  },
  {
   "cell_type": "code",
   "execution_count": 13,
   "metadata": {},
   "outputs": [
    {
     "name": "stdout",
     "output_type": "stream",
     "text": [
      "['Wt', 'Ht', 'Ins_Age', 'BMI', 'Insurance_History_1', 'Insurance_History_2', 'Insurance_History_3', 'Insurance_History_4', 'Insurance_History_5', 'Insurance_History_7', 'Insurance_History_8', 'Insurance_History_9', 'InsuredInfo_1', 'InsuredInfo_2', 'InsuredInfo_3', 'InsuredInfo_4', 'InsuredInfo_5', 'InsuredInfo_6', 'InsuredInfo_7', 'Medical_Keyword_1', 'Medical_Keyword_2', 'Medical_Keyword_3', 'Medical_Keyword_4', 'Medical_Keyword_5', 'Medical_Keyword_6', 'Medical_Keyword_7', 'Medical_Keyword_8', 'Medical_Keyword_9', 'Medical_Keyword_10', 'Medical_Keyword_11', 'Medical_Keyword_12', 'Medical_Keyword_13', 'Medical_Keyword_14', 'Medical_Keyword_15', 'Medical_Keyword_16', 'Medical_Keyword_17', 'Medical_Keyword_18', 'Medical_Keyword_19', 'Medical_Keyword_20', 'Medical_Keyword_21', 'Medical_Keyword_22', 'Medical_Keyword_23', 'Medical_Keyword_24', 'Medical_Keyword_25', 'Medical_Keyword_26', 'Medical_Keyword_27', 'Medical_Keyword_28', 'Medical_Keyword_29', 'Medical_Keyword_30', 'Medical_Keyword_31', 'Medical_Keyword_32', 'Medical_Keyword_33', 'Medical_Keyword_34', 'Medical_Keyword_35', 'Medical_Keyword_36', 'Medical_Keyword_37', 'Medical_Keyword_38', 'Medical_Keyword_39', 'Medical_Keyword_40', 'Medical_Keyword_41', 'Medical_Keyword_42', 'Medical_Keyword_43', 'Medical_Keyword_44', 'Medical_Keyword_45', 'Medical_Keyword_46', 'Medical_Keyword_47', 'Medical_Keyword_48', 'Family_Hist_1', 'Family_Hist_2', 'Family_Hist_3', 'Family_Hist_4', 'Family_Hist_5', 'Medical_History_1', 'Medical_History_2', 'Medical_History_3', 'Medical_History_4', 'Medical_History_5', 'Medical_History_6', 'Medical_History_7', 'Medical_History_8', 'Medical_History_9', 'Medical_History_10', 'Medical_History_11', 'Medical_History_12', 'Medical_History_13', 'Medical_History_14', 'Medical_History_15', 'Medical_History_16', 'Medical_History_17', 'Medical_History_18', 'Medical_History_19', 'Medical_History_20', 'Medical_History_21', 'Medical_History_22', 'Medical_History_23', 'Medical_History_24', 'Medical_History_25', 'Medical_History_26', 'Medical_History_27', 'Medical_History_28', 'Medical_History_29', 'Medical_History_30', 'Medical_History_31', 'Medical_History_32', 'Medical_History_33', 'Medical_History_34', 'Medical_History_35', 'Medical_History_36', 'Medical_History_37', 'Medical_History_38', 'Medical_History_39', 'Medical_History_40', 'Medical_History_41', 'Product_Info_1', 'Product_Info_3', 'Product_Info_4', 'Product_Info_5', 'Product_Info_6', 'Product_Info_7', 'Product_Info_2_2', 'Product_Info_2_1D', 'Product_Info_2_1A', 'Product_Info_2_1E', 'Product_Info_2_1C', 'Product_Info_2_1B']\n"
     ]
    }
   ],
   "source": [
    "columns_groups = [\"Insurance_History\", \"InsuredInfo\", \"Medical_Keyword\",\n",
    "                 \"Family_Hist\", \"Medical_History\", \"Product_Info\"]\n",
    "columns = [\"Wt\", \"Ht\", \"Ins_Age\", \"BMI\"]\n",
    "for cg in columns_groups:\n",
    "    columns.extend(data.columns[data.columns.str.startswith(cg)])\n",
    "print (columns)"
   ]
  },
  {
   "cell_type": "markdown",
   "metadata": {},
   "source": [
    "### Предобработка данных\n",
    "Дополнительно проведем z-нормализацию данных через предварительную обработку (preprocessing). Нормализуем весь исходный набор данных."
   ]
  },
  {
   "cell_type": "code",
   "execution_count": 14,
   "metadata": {},
   "outputs": [
    {
     "data": {
      "text/plain": [
       "StandardScaler(copy=True, with_mean=True, with_std=True)"
      ]
     },
     "execution_count": 14,
     "metadata": {},
     "output_type": "execute_result"
    }
   ],
   "source": [
    "scaler = preprocessing.StandardScaler()\n",
    "scaler.fit(pd.DataFrame(data, columns=columns))"
   ]
  },
  {
   "cell_type": "markdown",
   "metadata": {},
   "source": [
    "### Разделение данных"
   ]
  },
  {
   "cell_type": "code",
   "execution_count": 15,
   "metadata": {},
   "outputs": [
    {
     "name": "stdout",
     "output_type": "stream",
     "text": [
      "          Id  Product_Info_1  Product_Info_3  Product_Info_4  Product_Info_5  \\\n",
      "51154  68123               1              26        0.076904               2   \n",
      "37067  49216               1              29        0.487061               2   \n",
      "11378  15091               1              26        0.076904               2   \n",
      "5068    6749               1              37        0.076904               2   \n",
      "34965  46443               1              26        0.128174               2   \n",
      "\n",
      "       Product_Info_6  Product_Info_7   Ins_Age        Ht        Wt  ...  \\\n",
      "51154               3               1  0.313477  0.781738  0.592285  ...   \n",
      "37067               3               1  0.193970  0.763672  0.435059  ...   \n",
      "11378               3               1  0.761230  0.545410  0.194580  ...   \n",
      "5068                3               1  0.029846  0.618164  0.236450  ...   \n",
      "34965               3               1  0.522461  0.763672  0.299072  ...   \n",
      "\n",
      "       Medical_Keyword_46  Medical_Keyword_47  Medical_Keyword_48  Response  \\\n",
      "51154                   0                   0                   1         2   \n",
      "37067                   0                   0                   0         5   \n",
      "11378                   0                   0                   0         5   \n",
      "5068                    0                   0                   0         8   \n",
      "34965                   0                   0                   1         8   \n",
      "\n",
      "       Product_Info_2_2  Product_Info_2_1D  Product_Info_2_1A  \\\n",
      "51154                 3                  1                  0   \n",
      "37067                 4                  1                  0   \n",
      "11378                 2                  1                  0   \n",
      "5068                  3                  1                  0   \n",
      "34965                 8                  0                  1   \n",
      "\n",
      "       Product_Info_2_1E  Product_Info_2_1C  Product_Info_2_1B  \n",
      "51154                  0                  0                  0  \n",
      "37067                  0                  0                  0  \n",
      "11378                  0                  0                  0  \n",
      "5068                   0                  0                  0  \n",
      "34965                  0                  0                  0  \n",
      "\n",
      "[5 rows x 133 columns]\n"
     ]
    }
   ],
   "source": [
    "data_train, data_test = train_test_split(data, test_size=0.2)\n",
    "print (data_train.head())"
   ]
  },
  {
   "cell_type": "markdown",
   "metadata": {},
   "source": [
    "### Расчет модели наивного Байеса\n",
    "\\begin{equation}\n",
    "P(A\\mid B) = \\frac{P(B\\mid A)\\ P(A)}{P(B)}\n",
    "\\end{equation}\n",
    "Для каждого параметра вычисляется его вероятность принять определенное значение - P(B). Для каждого класса вычисляется его вероятность (по факту, доля) - P(A). Затем вычисляется вероятность для каждого параметра принять определенное значение при определенном классе - P(B\\A).\n",
    "\n",
    "По всем вычисленным значениям находится вероятность при известных параметрах принять какое-либо значение класса."
   ]
  },
  {
   "cell_type": "code",
   "execution_count": 18,
   "metadata": {},
   "outputs": [],
   "source": [
    "y = data_train[\"Response\"]\n",
    "x = scaler.transform(pd.DataFrame(data_train, columns=columns))"
   ]
  },
  {
   "cell_type": "code",
   "execution_count": 19,
   "metadata": {},
   "outputs": [
    {
     "data": {
      "text/plain": [
       "GaussianNB(priors=None, var_smoothing=1e-09)"
      ]
     },
     "execution_count": 19,
     "metadata": {},
     "output_type": "execute_result"
    }
   ],
   "source": [
    "bayes = GaussianNB()\n",
    "bayes.fit(x, y)"
   ]
  },
  {
   "cell_type": "markdown",
   "metadata": {},
   "source": [
    "### Предсказание данных"
   ]
  },
  {
   "cell_type": "code",
   "execution_count": 20,
   "metadata": {},
   "outputs": [
    {
     "name": "stdout",
     "output_type": "stream",
     "text": [
      "          Id  Product_Info_1  Product_Info_3  Product_Info_4  Product_Info_5  \\\n",
      "12178  16185               1              26        0.154907               2   \n",
      "29527  39272               1              26        1.000000               2   \n",
      "8574   11422               1              15        0.230713               2   \n",
      "27890  37150               1              26        0.230713               2   \n",
      "8851   11793               2              26        1.000000               2   \n",
      "\n",
      "       Product_Info_6  Product_Info_7   Ins_Age        Ht        Wt  ...  \\\n",
      "12178               3               1  0.626953  0.799805  0.386963  ...   \n",
      "29527               3               1  0.253662  0.836426  0.351562  ...   \n",
      "8574                3               1  0.283691  0.745605  0.320068  ...   \n",
      "27890               3               1  0.223877  0.745605  0.267822  ...   \n",
      "8851                1               1  0.522461  0.708984  0.414307  ...   \n",
      "\n",
      "       Medical_Keyword_47  Medical_Keyword_48  Response  Product_Info_2_2  \\\n",
      "12178                   0                   0         8                 1   \n",
      "29527                   0                   0         4                 3   \n",
      "8574                    0                   0         7                 4   \n",
      "27890                   0                   0         8                 4   \n",
      "8851                    0                   0         2                 1   \n",
      "\n",
      "       Product_Info_2_1D  Product_Info_2_1A  Product_Info_2_1E  \\\n",
      "12178                  1                  0                  0   \n",
      "29527                  1                  0                  0   \n",
      "8574                   1                  0                  0   \n",
      "27890                  1                  0                  0   \n",
      "8851                   1                  0                  0   \n",
      "\n",
      "       Product_Info_2_1C  Product_Info_2_1B  target  \n",
      "12178                  0                  0       4  \n",
      "29527                  0                  0       4  \n",
      "8574                   0                  0       4  \n",
      "27890                  0                  0       4  \n",
      "8851                   0                  0       2  \n",
      "\n",
      "[5 rows x 134 columns]\n"
     ]
    }
   ],
   "source": [
    "data_test = pd.DataFrame(data_test)\n",
    "x_test = scaler.transform(pd.DataFrame(data_test, columns=columns))\n",
    "data_test[\"target\"] = bayes.predict(x_test)\n",
    "print (data_test.head())"
   ]
  },
  {
   "cell_type": "markdown",
   "metadata": {},
   "source": [
    "### Оценка модели"
   ]
  },
  {
   "cell_type": "code",
   "execution_count": 21,
   "metadata": {},
   "outputs": [
    {
     "name": "stdout",
     "output_type": "stream",
     "text": [
      "Байес: 0.1993841553537673\n"
     ]
    }
   ],
   "source": [
    "print (\"Байес:\", cohen_kappa_score(data_test[\"target\"],\n",
    "            data_test[\"Response\"], weights=\"quadratic\"))"
   ]
  },
  {
   "cell_type": "markdown",
   "metadata": {},
   "source": [
    "### Матрица неточностей"
   ]
  },
  {
   "cell_type": "code",
   "execution_count": 22,
   "metadata": {},
   "outputs": [
    {
     "name": "stdout",
     "output_type": "stream",
     "text": [
      "[[ 289  212   10   12   93  178   79  112]\n",
      " [ 110  170    3    3   52   79   32   35]\n",
      " [ 102  115   17    8   58   85   19   35]\n",
      " [ 317  338  115  233  470 1021  700 2149]\n",
      " [  44   75    2    1   26   34    8   10]\n",
      " [  13   19    0    1    4   17    2    3]\n",
      " [ 340  376   32   43  396  739  678  812]\n",
      " [  44   20    5    8   32   76   94  672]]\n"
     ]
    }
   ],
   "source": [
    "print (confusion_matrix(data_test[\"target\"], data_test[\"Response\"]))"
   ]
  }
 ],
 "metadata": {
  "kernelspec": {
   "display_name": "Python 3 (ipykernel)",
   "language": "python",
   "name": "python3"
  },
  "language_info": {
   "codemirror_mode": {
    "name": "ipython",
    "version": 3
   },
   "file_extension": ".py",
   "mimetype": "text/x-python",
   "name": "python",
   "nbconvert_exporter": "python",
   "pygments_lexer": "ipython3",
   "version": "3.11.1"
  }
 },
 "nbformat": 4,
 "nbformat_minor": 2
}
