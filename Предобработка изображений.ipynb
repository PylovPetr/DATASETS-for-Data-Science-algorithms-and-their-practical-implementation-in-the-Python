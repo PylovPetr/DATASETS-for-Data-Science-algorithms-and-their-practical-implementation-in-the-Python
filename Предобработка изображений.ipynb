{
 "cells": [
  {
   "cell_type": "markdown",
   "metadata": {},
   "source": [
    "## Постановка задачи\n",
    "Загрузим данные изображений, построим на них размеченные области, сформируем массив серых пикселей из изображений.\n",
    "\n",
    "Выгрузим массив пикселей в HDF5 для дальнейшей работы.\n",
    "\n",
    "Данные:\n",
    "* https://video.ittensive.com/machine-learning/clouds/train.csv.gz (54 Мб)\n",
    "* https://video.ittensive.com/machine-learning/clouds/train_images_small.tar.gz (212 Мб)\n",
    "\n",
    "Соревнование: https://www.kaggle.com/c/understanding_cloud_organization/"
   ]
  },
  {
   "cell_type": "markdown",
   "metadata": {},
   "source": [
    "### Подключение библиотек"
   ]
  },
  {
   "cell_type": "code",
   "execution_count": 1,
   "metadata": {},
   "outputs": [],
   "source": [
    "import numpy as np\n",
    "import pandas as pd\n",
    "from PIL import Image"
   ]
  },
  {
   "cell_type": "markdown",
   "metadata": {},
   "source": [
    "### Загрузка данных"
   ]
  },
  {
   "cell_type": "code",
   "execution_count": 3,
   "metadata": {},
   "outputs": [
    {
     "name": "stdout",
     "output_type": "stream",
     "text": [
      "          Image_Label                                      EncodedPixels\n",
      "0    0011165.jpg_Fish  264918 937 266318 937 267718 937 269118 937 27...\n",
      "1  0011165.jpg_Flower  1355565 1002 1356965 1002 1358365 1002 1359765...\n",
      "2  0011165.jpg_Gravel                                                NaN\n",
      "3   0011165.jpg_Sugar                                                NaN\n",
      "4    002be4f.jpg_Fish  233813 878 235213 878 236613 878 238010 881 23...\n"
     ]
    }
   ],
   "source": [
    "train = pd.read_csv(\"https://video.ittensive.com/machine-learning/clouds/train.csv.gz\")\n",
    "print (train.head())"
   ]
  },
  {
   "cell_type": "markdown",
   "metadata": {},
   "source": [
    "### Очистка данных\n",
    "Отделим категории и область каждой формы облаков"
   ]
  },
  {
   "cell_type": "code",
   "execution_count": 4,
   "metadata": {},
   "outputs": [
    {
     "name": "stdout",
     "output_type": "stream",
     "text": [
      "                                        EncodedPixels        Image   Label\n",
      "0   264918 937 266318 937 267718 937 269118 937 27...  0011165.jpg    Fish\n",
      "1   1355565 1002 1356965 1002 1358365 1002 1359765...  0011165.jpg  Flower\n",
      "2                                                 NaN  0011165.jpg  Gravel\n",
      "3                                                 NaN  0011165.jpg   Sugar\n",
      "4   233813 878 235213 878 236613 878 238010 881 23...  002be4f.jpg    Fish\n",
      "5   1339279 519 1340679 519 1342079 519 1343479 51...  002be4f.jpg  Flower\n",
      "6                                                 NaN  002be4f.jpg  Gravel\n",
      "7   67495 350 68895 350 70295 350 71695 350 73095 ...  002be4f.jpg   Sugar\n",
      "8   3510 690 4910 690 6310 690 7710 690 9110 690 1...  0031ae9.jpg    Fish\n",
      "9   2047 703 3447 703 4847 703 6247 703 7647 703 9...  0031ae9.jpg  Flower\n",
      "10                                                NaN  0031ae9.jpg  Gravel\n",
      "11  658170 388 659570 388 660970 388 662370 388 66...  0031ae9.jpg   Sugar\n",
      "12                                                NaN  0035239.jpg    Fish\n",
      "13  100812 462 102212 462 103612 462 105012 462 10...  0035239.jpg  Flower\n",
      "14  65400 380 66800 380 68200 380 69600 380 71000 ...  0035239.jpg  Gravel\n",
      "15                                                NaN  0035239.jpg   Sugar\n",
      "16  2367966 18 2367985 2 2367993 8 2368002 62 2369...  003994e.jpg    Fish\n",
      "17                                                NaN  003994e.jpg  Flower\n",
      "18  353317 416 354717 416 356117 416 357517 416 35...  003994e.jpg  Gravel\n",
      "19  28011 489 29411 489 30811 489 32211 489 33611 ...  003994e.jpg   Sugar\n"
     ]
    }
   ],
   "source": [
    "train[\"Image\"] = train[\"Image_Label\"].str.split(\"_\").str[0]\n",
    "train[\"Label\"] = train[\"Image_Label\"].str.split(\"_\").str[1]\n",
    "train.drop(labels=[\"Image_Label\"], axis=1, inplace=True)\n",
    "print (train.head(20))"
   ]
  },
  {
   "cell_type": "code",
   "execution_count": 5,
   "metadata": {},
   "outputs": [
    {
     "name": "stdout",
     "output_type": "stream",
     "text": [
      "         Image                                               Fish  \\\n",
      "0  0011165.jpg  264918 937 266318 937 267718 937 269118 937 27...   \n",
      "1  002be4f.jpg  233813 878 235213 878 236613 878 238010 881 23...   \n",
      "2  0031ae9.jpg  3510 690 4910 690 6310 690 7710 690 9110 690 1...   \n",
      "3  0035239.jpg                                                NaN   \n",
      "4  003994e.jpg  2367966 18 2367985 2 2367993 8 2368002 62 2369...   \n",
      "\n",
      "                                              Flower  \\\n",
      "0  1355565 1002 1356965 1002 1358365 1002 1359765...   \n",
      "1  1339279 519 1340679 519 1342079 519 1343479 51...   \n",
      "2  2047 703 3447 703 4847 703 6247 703 7647 703 9...   \n",
      "3  100812 462 102212 462 103612 462 105012 462 10...   \n",
      "4                                                NaN   \n",
      "\n",
      "                                              Gravel  \\\n",
      "0                                                NaN   \n",
      "1                                                NaN   \n",
      "2                                                NaN   \n",
      "3  65400 380 66800 380 68200 380 69600 380 71000 ...   \n",
      "4  353317 416 354717 416 356117 416 357517 416 35...   \n",
      "\n",
      "                                               Sugar  \n",
      "0                                                NaN  \n",
      "1  67495 350 68895 350 70295 350 71695 350 73095 ...  \n",
      "2  658170 388 659570 388 660970 388 662370 388 66...  \n",
      "3                                                NaN  \n",
      "4  28011 489 29411 489 30811 489 32211 489 33611 ...  \n"
     ]
    }
   ],
   "source": [
    "data = pd.DataFrame({\"Image\": train[\"Image\"].unique()})\n",
    "for l in train[\"Label\"].unique():\n",
    "    data[l] = pd.Series(train[train[\"Label\"] == l][\"EncodedPixels\"].values)\n",
    "print (data.head())"
   ]
  },
  {
   "cell_type": "markdown",
   "metadata": {},
   "source": [
    "### Обработка изображений\n",
    "Предварительно загрузим весь архив с изображениями и распакуем его в train_images_small\n",
    "\n",
    "Пример: 0011165.jpg, размеры 525 * 350 = 183750 пикселей\n",
    "![](train_images_small/0011165.jpg)\n",
    "\n",
    "Каждое изображение приведем к серой палитре, результат загрузим в фрейм данных."
   ]
  },
  {
   "cell_type": "code",
   "execution_count": 6,
   "metadata": {},
   "outputs": [
    {
     "name": "stdout",
     "output_type": "stream",
     "text": [
      "   0       1       2       3       4       5       6       7       8       \\\n",
      "0       0       0       0       0       0       0       0       0       0   \n",
      "1      71      42      31      38      48      68      70      46      24   \n",
      "2      97      98     100     102     105     107     109     110     111   \n",
      "3      87      86      89      93      93      88      86      86      81   \n",
      "4      18      19      21      21      20      19      17      16      14   \n",
      "\n",
      "   9       ...  183740  183741  183742  183743  183744  183745  183746  \\\n",
      "0       0  ...      82      65      52      70      64     102     113   \n",
      "1      21  ...      98     113     110      59      27      38      57   \n",
      "2     112  ...       0       0       0       0       0       0       0   \n",
      "3      81  ...     181     187     170     149     145     165     164   \n",
      "4      15  ...      66      75     112     156     140     125     137   \n",
      "\n",
      "   183747  183748  183749  \n",
      "0     102      96     116  \n",
      "1      82     110     133  \n",
      "2       0       0       0  \n",
      "3     108      70      72  \n",
      "4      92      59      48  \n",
      "\n",
      "[5 rows x 183750 columns]\n"
     ]
    }
   ],
   "source": [
    "imgdata = np.array([np.zeros(183750, dtype=\"uint8\")]*len(data))\n",
    "for i, img in enumerate(data[\"Image\"].unique()):\n",
    "    imgdata[i] = np.array(Image.open(\"train_images_small/\" +\n",
    "                img).convert(\"L\"), dtype=\"uint8\").reshape(1, -1)[0]\n",
    "imgdata = pd.DataFrame(imgdata)\n",
    "print (imgdata.head())"
   ]
  },
  {
   "cell_type": "code",
   "execution_count": 7,
   "metadata": {},
   "outputs": [
    {
     "name": "stdout",
     "output_type": "stream",
     "text": [
      "    0   1    2    3    4    5    6    7    8    9  ...  183745  183746  \\\n",
      "0   0   0    0    0    0    0    0    0    0    0  ...     102     113   \n",
      "1  71  42   31   38   48   68   70   46   24   21  ...      38      57   \n",
      "2  97  98  100  102  105  107  109  110  111  112  ...       0       0   \n",
      "3  87  86   89   93   93   88   86   86   81   81  ...     165     164   \n",
      "4  18  19   21   21   20   19   17   16   14   15  ...     125     137   \n",
      "\n",
      "   183747  183748  183749        Image  \\\n",
      "0     102      96     116  0011165.jpg   \n",
      "1      82     110     133  002be4f.jpg   \n",
      "2       0       0       0  0031ae9.jpg   \n",
      "3     108      70      72  0035239.jpg   \n",
      "4      92      59      48  003994e.jpg   \n",
      "\n",
      "                                                Fish  \\\n",
      "0  264918 937 266318 937 267718 937 269118 937 27...   \n",
      "1  233813 878 235213 878 236613 878 238010 881 23...   \n",
      "2  3510 690 4910 690 6310 690 7710 690 9110 690 1...   \n",
      "3                                                NaN   \n",
      "4  2367966 18 2367985 2 2367993 8 2368002 62 2369...   \n",
      "\n",
      "                                              Flower  \\\n",
      "0  1355565 1002 1356965 1002 1358365 1002 1359765...   \n",
      "1  1339279 519 1340679 519 1342079 519 1343479 51...   \n",
      "2  2047 703 3447 703 4847 703 6247 703 7647 703 9...   \n",
      "3  100812 462 102212 462 103612 462 105012 462 10...   \n",
      "4                                                NaN   \n",
      "\n",
      "                                              Gravel  \\\n",
      "0                                                NaN   \n",
      "1                                                NaN   \n",
      "2                                                NaN   \n",
      "3  65400 380 66800 380 68200 380 69600 380 71000 ...   \n",
      "4  353317 416 354717 416 356117 416 357517 416 35...   \n",
      "\n",
      "                                               Sugar  \n",
      "0                                                NaN  \n",
      "1  67495 350 68895 350 70295 350 71695 350 73095 ...  \n",
      "2  658170 388 659570 388 660970 388 662370 388 66...  \n",
      "3                                                NaN  \n",
      "4  28011 489 29411 489 30811 489 32211 489 33611 ...  \n",
      "\n",
      "[5 rows x 183755 columns]\n"
     ]
    }
   ],
   "source": [
    "for column in data.columns:\n",
    "    imgdata[column] = data[column]\n",
    "del data\n",
    "print (imgdata.head())"
   ]
  },
  {
   "cell_type": "markdown",
   "metadata": {},
   "source": [
    "### Сохраняем данные в HDF5\n",
    "Потребуется до 3 Гб оперативной памяти"
   ]
  },
  {
   "cell_type": "code",
   "execution_count": 8,
   "metadata": {},
   "outputs": [
    {
     "name": "stderr",
     "output_type": "stream",
     "text": [
      "c:\\users\\nikolay\\appdata\\local\\programs\\python\\python37\\lib\\site-packages\\pandas\\io\\pytables.py:274: PerformanceWarning: \n",
      "your performance may suffer as PyTables will pickle object types that it cannot\n",
      "map directly to c-types [inferred_type->mixed-integer,key->axis0] [items->None]\n",
      "\n",
      "  f(store)\n",
      "c:\\users\\nikolay\\appdata\\local\\programs\\python\\python37\\lib\\site-packages\\pandas\\core\\generic.py:2377: PerformanceWarning: \n",
      "your performance may suffer as PyTables will pickle object types that it cannot\n",
      "map directly to c-types [inferred_type->mixed,key->block0_values] [items->['Image', 'Fish', 'Flower', 'Gravel', 'Sugar']]\n",
      "\n",
      "  return pytables.to_hdf(path_or_buf, key, self, **kwargs)\n"
     ]
    }
   ],
   "source": [
    "imgdata.to_hdf(\"clouds.data.h5\", \"data\", format=\"fixed\",\n",
    "              compression=\"gzip\", complevel=9, mode=\"w\")"
   ]
  }
 ],
 "metadata": {
  "kernelspec": {
   "display_name": "Python 3 (ipykernel)",
   "language": "python",
   "name": "python3"
  },
  "language_info": {
   "codemirror_mode": {
    "name": "ipython",
    "version": 3
   },
   "file_extension": ".py",
   "mimetype": "text/x-python",
   "name": "python",
   "nbconvert_exporter": "python",
   "pygments_lexer": "ipython3",
   "version": "3.11.1"
  }
 },
 "nbformat": 4,
 "nbformat_minor": 2
}
