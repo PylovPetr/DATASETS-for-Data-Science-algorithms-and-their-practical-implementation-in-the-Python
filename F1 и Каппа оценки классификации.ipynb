{
 "cells": [
  {
   "cell_type": "markdown",
   "metadata": {},
   "source": [
    "## Постановка задачи\n",
    "Загрузим данные и разделим выборку на обучающую/проверочную в соотношении 80/20.\n",
    "\n",
    "Для обучающей выборки вычислим средние значения для веса, роста, индекса массы тела и возраста - для каждого из принятых решений. Предскажем оценку скоринга по близости данных средним значениям.\n",
    "\n",
    "Проверим качество предсказания через F1-метрику и матрицу неточностей.\n",
    "\n",
    "Данные:\n",
    "* https://video.ittensive.com/machine-learning/prudential/train.csv.gz\n",
    "\n",
    "Соревнование: https://www.kaggle.com/c/prudential-life-insurance-assessment/"
   ]
  },
  {
   "cell_type": "markdown",
   "metadata": {},
   "source": [
    "### Подключение библиотек"
   ]
  },
  {
   "cell_type": "code",
   "execution_count": 1,
   "metadata": {},
   "outputs": [],
   "source": [
    "import pandas as pd\n",
    "import numpy as np\n",
    "from sklearn.model_selection import train_test_split\n",
    "from sklearn.metrics import f1_score, confusion_matrix\n",
    "from sklearn.metrics import cohen_kappa_score"
   ]
  },
  {
   "cell_type": "markdown",
   "metadata": {},
   "source": [
    "### Загрузка данных"
   ]
  },
  {
   "cell_type": "code",
   "execution_count": 2,
   "metadata": {},
   "outputs": [
    {
     "name": "stdout",
     "output_type": "stream",
     "text": [
      "<class 'pandas.core.frame.DataFrame'>\n",
      "RangeIndex: 59381 entries, 0 to 59380\n",
      "Columns: 128 entries, Id to Response\n",
      "dtypes: float64(18), int64(109), object(1)\n",
      "memory usage: 58.0+ MB\n",
      "None\n"
     ]
    }
   ],
   "source": [
    "data = pd.read_csv(\"https://video.ittensive.com/machine-learning/prudential/train.csv.gz\")\n",
    "print (data.info())"
   ]
  },
  {
   "cell_type": "markdown",
   "metadata": {},
   "source": [
    "### Разделение данных на обучающие и проверочные, 80/20"
   ]
  },
  {
   "cell_type": "code",
   "execution_count": 3,
   "metadata": {},
   "outputs": [
    {
     "name": "stdout",
     "output_type": "stream",
     "text": [
      "          Id  Product_Info_1 Product_Info_2  Product_Info_3  Product_Info_4  \\\n",
      "34822  46261               1             A8              26        0.230769   \n",
      "8612   11479               1             A8              26        0.372308   \n",
      "42717  56784               1             A1              26        0.230769   \n",
      "45825  60966               1             D4              26        0.230769   \n",
      "30524  40558               1             D4              26        0.230769   \n",
      "\n",
      "       Product_Info_5  Product_Info_6  Product_Info_7   Ins_Age        Ht  \\\n",
      "34822               2               3               1  0.626866  0.636364   \n",
      "8612                2               3               1  0.611940  0.800000   \n",
      "42717               2               3               1  0.298507  0.781818   \n",
      "45825               2               3               1  0.164179  0.727273   \n",
      "30524               2               3               1  0.074627  0.672727   \n",
      "\n",
      "       ...  Medical_Keyword_40  Medical_Keyword_41  Medical_Keyword_42  \\\n",
      "34822  ...                   0                   0                   0   \n",
      "8612   ...                   0                   0                   0   \n",
      "42717  ...                   0                   0                   0   \n",
      "45825  ...                   0                   0                   0   \n",
      "30524  ...                   0                   0                   0   \n",
      "\n",
      "       Medical_Keyword_43  Medical_Keyword_44  Medical_Keyword_45  \\\n",
      "34822                   0                   0                   0   \n",
      "8612                    0                   0                   0   \n",
      "42717                   0                   0                   0   \n",
      "45825                   0                   0                   0   \n",
      "30524                   0                   0                   0   \n",
      "\n",
      "       Medical_Keyword_46  Medical_Keyword_47  Medical_Keyword_48  Response  \n",
      "34822                   0                   0                   0         7  \n",
      "8612                    0                   0                   0         8  \n",
      "42717                   0                   0                   0         5  \n",
      "45825                   0                   0                   0         8  \n",
      "30524                   0                   0                   0         8  \n",
      "\n",
      "[5 rows x 128 columns]\n"
     ]
    }
   ],
   "source": [
    "data_train, data_test = train_test_split(data, test_size=0.2)\n",
    "print (data_train.head())"
   ]
  },
  {
   "cell_type": "markdown",
   "metadata": {},
   "source": [
    "### Вычисление средних значений для каждой оценки\n",
    "Проведем кластеризацию данных: разобьем их на группы по известной оценку скоринга (Response), вычислим центры этих групп как средние значения биометрических параметров."
   ]
  },
  {
   "cell_type": "code",
   "execution_count": 4,
   "metadata": {},
   "outputs": [
    {
     "name": "stdout",
     "output_type": "stream",
     "text": [
      "[{}, {'Wt': 0.309623431, 'Ht': 0.709090909, 'Ins_Age': 0.52238806, 'BMI': 0.483173533}, {'Wt': 0.330543933, 'Ht': 0.727272727, 'Ins_Age': 0.47761194, 'BMI': 0.510582282}, {'Wt': 0.31799163199999997, 'Ht': 0.727272727, 'Ins_Age': 0.358208955, 'BMI': 0.510582282}, {'Wt': 0.257322176, 'Ht': 0.709090909, 'Ins_Age': 0.328358209, 'BMI': 0.4196545055}, {'Wt': 0.351464435, 'Ht': 0.709090909, 'Ins_Age': 0.402985075, 'BMI': 0.5918224864999999}, {'Wt': 0.309623431, 'Ht': 0.727272727, 'Ins_Age': 0.432835821, 'BMI': 0.489742491}, {'Wt': 0.290794979, 'Ht': 0.709090909, 'Ins_Age': 0.447761194, 'BMI': 0.47077268299999997}, {'Wt': 0.23640167399999998, 'Ht': 0.690909091, 'Ins_Age': 0.313432836, 'BMI': 0.39487456299999996}]\n"
     ]
    }
   ],
   "source": [
    "columns = [\"Wt\", \"Ht\", \"Ins_Age\", \"BMI\"]\n",
    "responses = np.arange(1, data[\"Response\"].max() + 1)\n",
    "clusters = [{}]*(len(responses) + 1)\n",
    "for r in responses:\n",
    "    clusters[r] = {}\n",
    "    for c in columns:\n",
    "        clusters[r][c] = data[data[\"Response\"] == r][c].median()\n",
    "print (clusters)"
   ]
  },
  {
   "cell_type": "markdown",
   "metadata": {},
   "source": [
    "### Выполним предсказание оценки скоринга на основе средних значений\n",
    "Будем использовать евклидово расстояние:\n",
    "\\begin{equation}\n",
    "D = \\sqrt{ \\sum {(a_i-С_i)^2}},\\ где\n",
    "\\\\a_i\\ -\\ значение\\ параметров\\ в\\ проверочной\\ выборке\n",
    "\\\\C_i\\ -\\ значение\\ центров\\ кластеров\\ по\\ данным\\ обучающей\\ выборки\n",
    "\\end{equation}\n",
    "Выберем принадлежность к кластеру, расстояние до которого минимально"
   ]
  },
  {
   "cell_type": "code",
   "execution_count": 5,
   "metadata": {},
   "outputs": [],
   "source": [
    "def calc_model (x):\n",
    "    D_min = 10000000\n",
    "    target = 0\n",
    "    for _, cluster in enumerate(clusters):\n",
    "        if len(cluster) > 0:\n",
    "            D = 0\n",
    "            for c in columns:\n",
    "                D += (cluster[c] - x[c])**2\n",
    "            D = np.sqrt(D)\n",
    "            if D < D_min:\n",
    "                target = _\n",
    "                D_min = D\n",
    "    x[\"target\"] = target\n",
    "    x[\"random\"] = int(np.random.uniform(1, 8.01, 1)[0])\n",
    "    x[\"sample\"] = data.sample(1)[\"Response\"].values[0]\n",
    "    x[\"all8\"] = 8\n",
    "    return x"
   ]
  },
  {
   "cell_type": "code",
   "execution_count": 6,
   "metadata": {},
   "outputs": [
    {
     "name": "stdout",
     "output_type": "stream",
     "text": [
      "          Id  Product_Info_1 Product_Info_2  Product_Info_3  Product_Info_4  \\\n",
      "51552  68645               1             B2              26        1.000000   \n",
      "46973  62508               1             E1              10        0.179487   \n",
      "7294    9732               1             D4              10        0.487179   \n",
      "16815  22403               1             D3              26        0.076923   \n",
      "34127  45300               1             D3              26        0.076923   \n",
      "1765    2375               1             A6              26        0.128205   \n",
      "48026  63957               1             D1              26        0.230769   \n",
      "22911  30549               1             D3              26        0.333333   \n",
      "34641  46016               1             A8              26        0.230769   \n",
      "37132  49302               1             E1              10        0.097608   \n",
      "26183  34861               1             C1              26        0.282051   \n",
      "41440  55061               1             D2              26        1.000000   \n",
      "56860  75754               1             A6              26        0.297436   \n",
      "33724  44773               1             E1              26        0.341915   \n",
      "3699    4926               2             A3              26        0.128205   \n",
      "10702  14216               1             D4              26        0.230769   \n",
      "2220    2972               1             D3              26        0.230769   \n",
      "25795  34352               1             D1              26        0.076923   \n",
      "53993  71896               1             D2              26        0.743590   \n",
      "21488  28606               1             A8              26        0.266201   \n",
      "\n",
      "       Product_Info_5  Product_Info_6  Product_Info_7   Ins_Age        Ht  \\\n",
      "51552               2               3               1  0.149254  0.672727   \n",
      "46973               2               3               1  0.701493  0.654545   \n",
      "7294                2               3               1  0.343284  0.618182   \n",
      "16815               2               3               1  0.567164  0.690909   \n",
      "34127               2               3               1  0.671642  0.654545   \n",
      "1765                2               3               1  0.298507  0.618182   \n",
      "48026               2               1               1  0.761194  0.763636   \n",
      "22911               2               3               1  0.179104  0.727273   \n",
      "34641               2               3               1  0.477612  0.781818   \n",
      "37132               2               3               1  0.507463  0.709091   \n",
      "26183               2               1               1  0.656716  0.781818   \n",
      "41440               2               3               1  0.373134  0.854545   \n",
      "56860               2               1               1  0.283582  0.690909   \n",
      "33724               2               3               1  0.477612  0.581818   \n",
      "3699                2               3               1  0.134328  0.672727   \n",
      "10702               2               3               1  0.373134  0.600000   \n",
      "2220                2               1               1  0.507463  0.636364   \n",
      "25795               2               3               1  0.776119  0.818182   \n",
      "53993               2               3               1  0.507463  0.800000   \n",
      "21488               2               1               1  0.671642  0.781818   \n",
      "\n",
      "       ...  Medical_Keyword_44  Medical_Keyword_45  Medical_Keyword_46  \\\n",
      "51552  ...                   0                   0                   0   \n",
      "46973  ...                   0                   0                   0   \n",
      "7294   ...                   0                   0                   0   \n",
      "16815  ...                   0                   0                   0   \n",
      "34127  ...                   0                   0                   0   \n",
      "1765   ...                   0                   0                   0   \n",
      "48026  ...                   0                   0                   0   \n",
      "22911  ...                   0                   0                   0   \n",
      "34641  ...                   0                   0                   0   \n",
      "37132  ...                   0                   0                   0   \n",
      "26183  ...                   0                   0                   0   \n",
      "41440  ...                   0                   0                   0   \n",
      "56860  ...                   0                   0                   0   \n",
      "33724  ...                   0                   0                   0   \n",
      "3699   ...                   0                   0                   0   \n",
      "10702  ...                   0                   0                   0   \n",
      "2220   ...                   0                   0                   0   \n",
      "25795  ...                   0                   0                   0   \n",
      "53993  ...                   0                   0                   0   \n",
      "21488  ...                   0                   0                   0   \n",
      "\n",
      "       Medical_Keyword_47  Medical_Keyword_48  Response  target  random  \\\n",
      "51552                   0                   0         7       8       1   \n",
      "46973                   0                   0         5       1       4   \n",
      "7294                    0                   0         8       8       6   \n",
      "16815                   0                   0         6       1       6   \n",
      "34127                   0                   0         7       1       7   \n",
      "1765                    0                   0         8       4       1   \n",
      "48026                   0                   0         5       1       5   \n",
      "22911                   0                   0         8       8       5   \n",
      "34641                   0                   0         8       2       4   \n",
      "37132                   0                   0         8       1       7   \n",
      "26183                   0                   0         6       1       3   \n",
      "41440                   1                   0         8       3       3   \n",
      "56860                   0                   0         6       3       3   \n",
      "33724                   0                   0         4       8       6   \n",
      "3699                    1                   0         8       8       7   \n",
      "10702                   0                   0         8       8       6   \n",
      "2220                    0                   0         8       7       3   \n",
      "25795                   0                   0         1       1       1   \n",
      "53993                   0                   0         8       1       2   \n",
      "21488                   0                   0         1       1       3   \n",
      "\n",
      "       sample  all8  \n",
      "51552       1     8  \n",
      "46973       6     8  \n",
      "7294        7     8  \n",
      "16815       1     8  \n",
      "34127       5     8  \n",
      "1765        6     8  \n",
      "48026       2     8  \n",
      "22911       8     8  \n",
      "34641       8     8  \n",
      "37132       7     8  \n",
      "26183       6     8  \n",
      "41440       5     8  \n",
      "56860       7     8  \n",
      "33724       6     8  \n",
      "3699        8     8  \n",
      "10702       8     8  \n",
      "2220        7     8  \n",
      "25795       7     8  \n",
      "53993       7     8  \n",
      "21488       2     8  \n",
      "\n",
      "[20 rows x 132 columns]\n"
     ]
    }
   ],
   "source": [
    "data_test = data_test.apply(calc_model, axis=1, result_type=\"expand\")\n",
    "print (data_test.head(20))"
   ]
  },
  {
   "cell_type": "markdown",
   "metadata": {},
   "source": [
    "### Оценка качества модели: F1\n",
    "| скоринг \\ исходные данные | 8 | 1 |\n",
    "| --- | --- | --- |\n",
    "| 8 | TP | FP |\n",
    "| 1 | FN | TN |\n",
    "\n",
    "\\begin{equation}\n",
    "Точность = \\frac {TP} {TP + FP}\n",
    "\\end{equation}\n",
    "\n",
    "\\begin{equation}\n",
    "Полнота = \\frac {TP} {TP + FN}\n",
    "\\end{equation}\n",
    "\n",
    "\\begin{equation}\n",
    "F1 = 2 * \\frac {Точность * Полнота} {Точность + Полнота}\n",
    "\\end{equation}"
   ]
  },
  {
   "cell_type": "code",
   "execution_count": 7,
   "metadata": {},
   "outputs": [
    {
     "name": "stdout",
     "output_type": "stream",
     "text": [
      "Случайный выбор: 0.10557781054202212\n",
      "Выбор по частоте: 0.19234494336132174\n",
      "Кластеризация: 0.26757674537056736\n",
      "Самый популярный: 0.49496293480326936\n"
     ]
    }
   ],
   "source": [
    "print (\"Случайный выбор:\",\n",
    "      f1_score(data_test[\"random\"], data_test[\"Response\"],\n",
    "              average=\"weighted\"))\n",
    "print (\"Выбор по частоте:\",\n",
    "      f1_score(data_test[\"sample\"], data_test[\"Response\"],\n",
    "              average=\"weighted\"))\n",
    "print (\"Кластеризация:\",\n",
    "      f1_score(data_test[\"target\"], data_test[\"Response\"],\n",
    "              average=\"weighted\"))\n",
    "print (\"Самый популярный:\",\n",
    "      f1_score(data_test[\"all8\"], data_test[\"Response\"],\n",
    "              average=\"weighted\"))"
   ]
  },
  {
   "cell_type": "markdown",
   "metadata": {},
   "source": [
    "### Матрица неточностей\n",
    "| скоринг \\ исходные данные | 1 | 2 | 3 | 4 | 5 | 6 | 7 | 8 |\n",
    "| --- | --- | --- | --- | --- | --- | --- | --- | --- |\n",
    "| 1 | TP | FP1 | FP2 | FP3 | FP4 | FP5 | FP6 | FP7 |\n",
    "| 2 | FN1 | TP | FP1 | FP2 | FP3 | FP4 | FP5 | FP6 |\n",
    "| 3 | FN2 | FN1 | TP | FP1 | FP2 | FP3 | FP4 | FP5 |\n",
    "| 4 | FN3 | FN2 | FN1 | TP | FP1 | FP2 | FP3 | FP4 |\n",
    "| 5 | FN4 | FN3 | FN2 | FN1 | TP | FP1 | FP2 | FP3 |\n",
    "| 6 | FN5 | FN4 | FN3 | FN2 | FN1 | TP | FP1 | FP2 |\n",
    "| 7 | FN6 | FN5 | FN4 | FN3 | FN2 | FN1 | TP | FP1 |\n",
    "| 8 | FN7 | FN6 | FN5 | FN4 | FN3 | FN2 | FN1 | TP |"
   ]
  },
  {
   "cell_type": "code",
   "execution_count": 9,
   "metadata": {},
   "outputs": [
    {
     "name": "stdout",
     "output_type": "stream",
     "text": [
      "[[ 544  472   39   53  268  657  601  833]\n",
      " [ 101   81   14   12   72  188  116   65]\n",
      " [  91  132   23   36  147  369  249  194]\n",
      " [  59   61   17   47   40  235  154  519]\n",
      " [ 214  330   50    2  450  254   30    6]\n",
      " [  22   22    5    7   16   72   50   72]\n",
      " [  67   79    9   25   24  125  127  346]\n",
      " [ 160  127   32  124   98  312  260 1871]]\n"
     ]
    }
   ],
   "source": [
    "print (confusion_matrix(data_test[\"target\"], data_test[\"Response\"]))"
   ]
  },
  {
   "cell_type": "markdown",
   "metadata": {},
   "source": [
    "### Квадратичный коэффициент каппа Коэна\n",
    "Является логичным продолжением оценке по матрице неточностей, но более точно указывает на соответствие вычисленных значений реальным, поскольку используем матрицу весов: большая ошибка получает больший вес.\n",
    "\n",
    "Для расчета требуется вычислить матрицу весов (W), 8x8 выглядит так (каждый элемент - это квадрат разницы между номером строки и номером столба, разделенный на 64):\n",
    "\n",
    "| матрица весов | 1 | 2 | 3 | 4 | 5 | 6 | 7 | 8 |\n",
    "| --- | --- | --- | --- | --- | --- | --- | --- | --- |\n",
    "| 1 | 0 | 0.015625 | 0.0625 | 0.140625| 0.25 | 0.390625 | 0.5625 | 0.765625 |\n",
    "| 2 | 0.015625 | 0 | 0.015625 | 0.0625 | 0.140625 | 0.25 | 0.390625 | 0.5625 |\n",
    "| 3 | 0.0625 | 0.015625 | 0 | 0.015625 | 0.0625 | 0.25 | 0.390625 | 0.5625 |\n",
    "| 4 | 0.140625 | 0.0625 | 0.015625 | 0 | 0.015625 | 0.0625 | 0.25 | 0.390625 |\n",
    "| 5 | 0.25 | 0.140625 | 0.0625 | 0.015625 | 0 | 0.015625 | 0.0625 | 0.25 |\n",
    "| 6 | 0.390625 | 0.25 | 0.140625 | 0.0625 | 0.015625 | 0 | 0.015625 | 0.0625 |\n",
    "| 7 | 0.5625 | 0.390625 | 0.25 | 0.140625 | 0.0625 | 0.015625 | 0 | 0.015625 |\n",
    "| 8 | 0.765625 | 0.5625 | 0.390625 | 0.25 | 0.140625 | 0.0625 | 0.015625 | 0 |\n",
    "\n",
    "После вычисления матрицы неточностей (O) вычисляют матрицу гистограмм расчетных и идеальных значений (E) - сколько всего оценок 1, оценок 2, и т.д. В случае оценок от 1 до 8 гистограммы будут выглядеть следующим образом:\n",
    "\n",
    "Расчет: \\[3372, 661, 1244, 1040, 1380, 276, 900, 3004\\]\n",
    "\n",
    "Идеал: \\[1193, 1302, 207, 261, 1120, 2257, 1633, 3904\\]\n",
    "\n",
    "Каждый элемент матрицы ij - это произведение i-расчетного значения на j-идеальное. Например, для ячейки 1-1 это будет 3372 * 1193 = 4022796. И т.д.\n",
    "\n",
    "Матрицу неточностей и матрицу гистограмм нормируют (делят каждый элемент матрицы на сумму всех элементов) и вычисляют взвешенную сумму, используя матрицу весов (каждый элемент матрицы весов умножают на соответствующий элемент другой матрицы, все произведения суммируют): e = W * E, o = W * O.\n",
    "\n",
    "Значение Kappa (каппа) вычисляется как 1 - o/e."
   ]
  },
  {
   "cell_type": "code",
   "execution_count": 10,
   "metadata": {},
   "outputs": [
    {
     "name": "stdout",
     "output_type": "stream",
     "text": [
      "0.19375052727446362\n",
      "0.0\n"
     ]
    }
   ],
   "source": [
    "print (cohen_kappa_score(data_test[\"target\"], data_test[\"Response\"],\n",
    "      weights=\"quadratic\"))\n",
    "print (cohen_kappa_score(data_test[\"all8\"], data_test[\"Response\"],\n",
    "      weights=\"quadratic\"))"
   ]
  }
 ],
 "metadata": {
  "kernelspec": {
   "display_name": "Python 3 (ipykernel)",
   "language": "python",
   "name": "python3"
  },
  "language_info": {
   "codemirror_mode": {
    "name": "ipython",
    "version": 3
   },
   "file_extension": ".py",
   "mimetype": "text/x-python",
   "name": "python",
   "nbconvert_exporter": "python",
   "pygments_lexer": "ipython3",
   "version": "3.11.1"
  }
 },
 "nbformat": 4,
 "nbformat_minor": 2
}
