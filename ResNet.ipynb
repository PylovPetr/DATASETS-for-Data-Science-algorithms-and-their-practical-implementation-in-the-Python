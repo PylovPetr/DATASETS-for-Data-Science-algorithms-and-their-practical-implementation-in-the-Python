{
 "cells": [
  {
   "cell_type": "markdown",
   "metadata": {},
   "source": [
    "## Постановка задачи\n",
    "Разберем архитектуру ResNet для решения задач распознавания изображений. Построим эту нейросеть для анализа исходных изображений.\n",
    "\n",
    "Используя обученную модель, построим предсказания и классификацию, используя LightGBM. Проведем оценку качества предсказания по коэффициенту сходства.\n",
    "\n",
    "Данные:\n",
    "* https://video.ittensive.com/machine-learning/clouds/train.csv.gz (54 Мб)\n",
    "* https://video.ittensive.com/machine-learning/clouds/train_images_small.tar.gz (212 Мб)\n",
    "\n",
    "Соревнование: https://www.kaggle.com/c/understanding_cloud_organization/\n",
    "\n",
    "![](resnet.01.png)\n",
    "![](resnet.02.png)"
   ]
  },
  {
   "cell_type": "markdown",
   "metadata": {},
   "source": [
    "### Подключение библиотек"
   ]
  },
  {
   "cell_type": "code",
   "execution_count": 1,
   "metadata": {},
   "outputs": [
    {
     "name": "stderr",
     "output_type": "stream",
     "text": [
      "Using TensorFlow backend.\n"
     ]
    }
   ],
   "source": [
    "%matplotlib inline\n",
    "import matplotlib.pyplot as plt\n",
    "import numpy as np\n",
    "import pandas as pd\n",
    "import keras\n",
    "from skimage import io\n",
    "from sklearn.model_selection import train_test_split\n",
    "from keras.preprocessing import image\n",
    "from keras.models import Model, Sequential\n",
    "from keras.layers import Dense, GlobalAveragePooling2D, Activation, GlobalMaxPooling2D\n",
    "from keras.applications.resnet50 import ResNet50,preprocess_input, decode_predictions\n",
    "import lightgbm as lgb\n",
    "import os\n",
    "os.environ[\"KERAS_BACKEND\"] = \"plaidml.keras.backend\""
   ]
  },
  {
   "cell_type": "markdown",
   "metadata": {},
   "source": [
    "### Используемые функции"
   ]
  },
  {
   "cell_type": "code",
   "execution_count": 2,
   "metadata": {},
   "outputs": [],
   "source": [
    "filesDir = \"train_images_small\"\n",
    "batch_size = 20\n",
    "image_x = 224 # 525\n",
    "image_y = 224 # 350\n",
    "image_ch = 3 # 3\n",
    "def mask_rate (a, x, y):\n",
    "    b = a//1400 + 0.0\n",
    "    return np.round(x*(b*x//2100) + y*(a%1400)//1400).astype(\"uint32\")\n",
    "\n",
    "def calc_mask (px, x=image_x, y=image_y):\n",
    "    p = np.array([int(n) for n in px.split(' ')]).reshape(-1,2)\n",
    "    mask = np.zeros(x*y, dtype='uint8')\n",
    "    for i, l in p:\n",
    "        mask[mask_rate(i, x, y) - 1:mask_rate(l+i, x, y)] = 1\n",
    "    return mask.reshape(y,x).transpose()\n",
    "\n",
    "def calc_dice (x):\n",
    "    dice = 0\n",
    "    px = x[\"EncodedPixels\"] \n",
    "    if px != px and x[\"target\"] == 0:\n",
    "        dice = 1\n",
    "    elif px == px and x[\"target\"] == 1:\n",
    "        mask = calc_mask(px).flatten()\n",
    "        target = np.ones(image_x*image_y, dtype='uint8')\n",
    "        dice += 2*np.sum(target[mask==1])/(np.sum(target)+np.sum(mask))\n",
    "    return dice\n",
    "\n",
    "def load_y (df):\n",
    "    return np.array(df[\"EncodedPixels\"].notnull().astype(\"int8\")).reshape(len(df), 1)\n",
    "\n",
    "def load_x (df):\n",
    "    x = [[]]*len(df)\n",
    "    for j, file in enumerate(df[\"Image\"]):\n",
    "        img = image.load_img(os.path.join(filesDir, file),\n",
    "                     target_size=(image_y, image_x))\n",
    "        img = image.img_to_array(img)\n",
    "        x[j] = np.expand_dims(img, axis=0)\n",
    "    return np.array(x).reshape(len(df), image_y, image_x, image_ch)\n",
    "\n",
    "def load_data (df, batch_size):\n",
    "    while True:\n",
    "        batch_start = 0\n",
    "        batch_end = batch_size\n",
    "        while batch_start < len(df):\n",
    "            limit = min(batch_end, len(df))\n",
    "            yield (load_x(df[batch_start:limit]),\n",
    "                   load_y(df[batch_start:limit]))\n",
    "            batch_start += batch_size\n",
    "            batch_end += batch_size\n",
    "\n",
    "def draw_prediction (prediction):\n",
    "    fig = plt.figure(figsize=(16, 8))\n",
    "    ax = fig.add_subplot(1,1,1)\n",
    "    ax.hist(prediction[0])\n",
    "    ax.set_title(\"Fish\")\n",
    "    plt.show()"
   ]
  },
  {
   "cell_type": "markdown",
   "metadata": {},
   "source": [
    "### Загрузка данных"
   ]
  },
  {
   "cell_type": "code",
   "execution_count": 3,
   "metadata": {
    "scrolled": true
   },
   "outputs": [],
   "source": [
    "data = pd.read_csv('https://video.ittensive.com/machine-learning/clouds/train.csv.gz')"
   ]
  },
  {
   "cell_type": "code",
   "execution_count": 4,
   "metadata": {},
   "outputs": [
    {
     "name": "stdout",
     "output_type": "stream",
     "text": [
      "                                        EncodedPixels        Image Label\n",
      "0   264918 937 266318 937 267718 937 269118 937 27...  0011165.jpg  Fish\n",
      "4   233813 878 235213 878 236613 878 238010 881 23...  002be4f.jpg  Fish\n",
      "8   3510 690 4910 690 6310 690 7710 690 9110 690 1...  0031ae9.jpg  Fish\n",
      "12                                                NaN  0035239.jpg  Fish\n",
      "16  2367966 18 2367985 2 2367993 8 2368002 62 2369...  003994e.jpg  Fish\n"
     ]
    }
   ],
   "source": [
    "data[\"Image\"] = data[\"Image_Label\"].str.split(\"_\").str[0]\n",
    "data[\"Label\"] = data[\"Image_Label\"].str.split(\"_\").str[1]\n",
    "data.drop(labels=[\"Image_Label\"], axis=1, inplace=True)\n",
    "data_fish = data[data[\"Label\"] == \"Fish\"]\n",
    "print (data_fish.head())"
   ]
  },
  {
   "cell_type": "markdown",
   "metadata": {},
   "source": [
    "### Разделение данных\n",
    "Разделим всю выборку на 2 части случайным образом: 80% - для обучения модели, 20% - для проверки точности модели."
   ]
  },
  {
   "cell_type": "code",
   "execution_count": 5,
   "metadata": {},
   "outputs": [
    {
     "name": "stdout",
     "output_type": "stream",
     "text": [
      "      EncodedPixels        Image Label\n",
      "21784           NaN  fafc316.jpg  Fish\n",
      "6076            NaN  4623c6c.jpg  Fish\n",
      "8624            NaN  624f5eb.jpg  Fish\n",
      "16760           NaN  c200cce.jpg  Fish\n",
      "7392            NaN  548cb15.jpg  Fish\n"
     ]
    }
   ],
   "source": [
    "train, test = train_test_split(data_fish, test_size=0.2)\n",
    "train = pd.DataFrame(train)\n",
    "test = pd.DataFrame(test)\n",
    "del data\n",
    "print (train.head())"
   ]
  },
  {
   "cell_type": "markdown",
   "metadata": {},
   "source": [
    "### ResNet-50\n",
    "Подключим обученную нейросеть (90 Мб) и построим поверх классификатора LightGBM."
   ]
  },
  {
   "cell_type": "code",
   "execution_count": 6,
   "metadata": {},
   "outputs": [
    {
     "name": "stderr",
     "output_type": "stream",
     "text": [
      "WARNING: Logging before flag parsing goes to stderr.\n",
      "W0325 23:38:42.359072 11888 deprecation_wrapper.py:119] From c:\\users\\nikolay\\appdata\\local\\programs\\python\\python37\\lib\\site-packages\\keras\\backend\\tensorflow_backend.py:4185: The name tf.truncated_normal is deprecated. Please use tf.random.truncated_normal instead.\n",
      "\n",
      "W0325 23:38:42.456077 11888 deprecation_wrapper.py:119] From c:\\users\\nikolay\\appdata\\local\\programs\\python\\python37\\lib\\site-packages\\keras\\backend\\tensorflow_backend.py:1834: The name tf.nn.fused_batch_norm is deprecated. Please use tf.compat.v1.nn.fused_batch_norm instead.\n",
      "\n"
     ]
    }
   ],
   "source": [
    "model = ResNet50(weights=\"imagenet\")"
   ]
  },
  {
   "cell_type": "code",
   "execution_count": 7,
   "metadata": {},
   "outputs": [
    {
     "name": "stdout",
     "output_type": "stream",
     "text": [
      "4436/4436 [==============================] - 3257s 734ms/step\n"
     ]
    }
   ],
   "source": [
    "train_prediction = model.predict_generator(load_data(train, 1),\n",
    "                            steps=len(train), verbose=1)"
   ]
  },
  {
   "cell_type": "markdown",
   "metadata": {},
   "source": [
    "### Обучение LightGBM по результатам ResNet"
   ]
  },
  {
   "cell_type": "code",
   "execution_count": 9,
   "metadata": {},
   "outputs": [
    {
     "data": {
      "text/plain": [
       "LGBMRegressor(boosting_type='gbdt', class_weight=None, colsample_bytree=1.0,\n",
       "              importance_type='split', learning_rate=0.1, max_depth=-1,\n",
       "              min_child_samples=20, min_child_weight=0.001, min_split_gain=0.0,\n",
       "              n_estimators=100, n_jobs=-1, num_leaves=31, objective=None,\n",
       "              random_state=17, reg_alpha=0.0, reg_lambda=0.0, silent=True,\n",
       "              subsample=1.0, subsample_for_bin=200000, subsample_freq=0)"
      ]
     },
     "execution_count": 9,
     "metadata": {},
     "output_type": "execute_result"
    }
   ],
   "source": [
    "model_lgb = lgb.LGBMRegressor(random_state=17)\n",
    "model_lgb.fit(pd.DataFrame(train_prediction),\n",
    "             train[\"EncodedPixels\"].notnull().astype(\"i1\"))"
   ]
  },
  {
   "cell_type": "code",
   "execution_count": 10,
   "metadata": {},
   "outputs": [],
   "source": [
    "prediction = model_lgb.predict(train_prediction)"
   ]
  },
  {
   "cell_type": "code",
   "execution_count": 11,
   "metadata": {},
   "outputs": [],
   "source": [
    "prediction = np.array(prediction).reshape(1, -1)"
   ]
  },
  {
   "cell_type": "code",
   "execution_count": 12,
   "metadata": {},
   "outputs": [
    {
     "data": {
      "image/png": "[encoded data removed]",
      "text/plain": [
       "<Figure size 1152x576 with 1 Axes>"
      ]
     },
     "metadata": {
      "needs_background": "light"
     },
     "output_type": "display_data"
    }
   ],
   "source": [
    "draw_prediction (prediction)"
   ]
  },
  {
   "cell_type": "code",
   "execution_count": 14,
   "metadata": {},
   "outputs": [
    {
     "name": "stdout",
     "output_type": "stream",
     "text": [
      "18032    217001 491 218401 491 219801 491 221201 491 22...\n",
      "16864    1582201 906 1583601 906 1585001 906 1586401 90...\n",
      "12776    1095518 646 1096918 646 1098318 646 1099718 64...\n",
      "2372     14010 398 15410 398 16810 398 18210 398 19610 ...\n",
      "12996    200647 533 202047 533 203447 533 204847 533 20...\n",
      "1432     87 809 1487 809 2887 809 4287 809 5687 809 708...\n",
      "1056     548972 709 550372 709 551772 709 553172 709 55...\n",
      "18680    103729 652 105129 652 106529 652 107929 652 10...\n",
      "9476     966001 874 967401 874 968801 874 970201 874 97...\n",
      "11116    20371 472 21771 472 23171 472 24571 472 25971 ...\n",
      "19524    214947 587 216347 587 217747 587 219147 587 22...\n",
      "8952     141 567 1541 567 2941 567 4341 567 5741 567 71...\n",
      "7812     256 983 1656 983 3056 983 4456 983 5856 983 72...\n",
      "20756    1528356 438 1529756 438 1531156 438 1532556 43...\n",
      "3144     505401 216 506521 16 506541 4 506546 2 506549 ...\n",
      "12916    9036 431 10436 431 11836 431 13236 431 14636 4...\n",
      "14932    1050022 369 1050394 4 1050401 4 1051422 369 10...\n",
      "15428    1 840 1401 840 2801 840 4201 840 5601 840 7001...\n",
      "8352     318128 327 319528 327 320928 327 322328 327 32...\n",
      "11184    69931 4 69936 1 69945 7 69953 3 69957 1 69960 ...\n",
      "17808    525010 119 526410 110 526521 2 526525 8 526539...\n",
      "7616     2809 915 4209 915 5609 915 7009 915 8409 915 9...\n",
      "17620    242238 1158 243638 1158 245038 1158 246438 115...\n",
      "9632     1115228 12 1115242 301 1116593 24 1116628 1 11...\n",
      "1144     4959 627 6359 627 7759 627 9159 627 10559 627 ...\n",
      "11360    32822 532 34222 532 35622 532 37022 532 38422 ...\n",
      "13064    865399 393 865796 2 865801 1 865804 2 865808 1...\n",
      "12316    1192363 352 1193763 352 1195163 352 1196563 35...\n",
      "21528    8766 463 10166 463 11566 463 12966 463 14366 4...\n",
      "7124     20242 626 21642 626 23042 626 24442 626 25842 ...\n",
      "                               ...                        \n",
      "6812     638 525 2038 525 3438 525 4838 525 6238 525 76...\n",
      "312      8421 1379 9821 1379 11221 1379 12621 1379 1402...\n",
      "328      372 486 1408 1145 2808 1145 4208 1145 5608 114...\n",
      "8540     1734601 443 1736001 443 1737401 443 1738801 44...\n",
      "16380    541830 953 543230 953 544630 953 546030 953 54...\n",
      "11944    173737 379 175039 477 176439 477 177839 477 17...\n",
      "5844     8473 714 9873 714 11273 714 12673 714 14073 71...\n",
      "7540     1893897 1 1893901 1 1895297 1 1895301 1 189669...\n",
      "12504    1143753 1 1143761 7 1143777 8 1145153 1 114516...\n",
      "12268    1990826 866 1992226 866 1993626 866 1995026 86...\n",
      "7916     50422 347 51822 347 53222 347 54622 347 56022 ...\n",
      "11288    749694 279 751094 279 752494 279 753894 279 75...\n",
      "11408    508710 693 510110 693 511510 693 512910 693 51...\n",
      "10112    400402 468 401802 468 403202 468 404602 468 40...\n",
      "5192     2983 439 4383 439 5783 439 7183 439 8583 439 9...\n",
      "11500    239711 545 241111 545 242511 545 243911 545 24...\n",
      "17632    3 551 1403 551 2803 551 4203 551 5603 551 7003...\n",
      "14680    592437 439 593837 439 595237 439 596637 439 59...\n",
      "880      741 659 2141 659 3541 659 4941 659 6341 659 77...\n",
      "21880    946430 330 947830 330 949230 330 950630 330 95...\n",
      "6448     1121406 717 1122806 717 1124206 717 1125606 71...\n",
      "15488    349060 835 350460 835 351860 835 353260 835 35...\n",
      "48       65812 93 65906 4 65911 10 67212 96 67309 5 673...\n",
      "20660    1047263 307 1048663 307 1050063 307 1051463 30...\n",
      "19656    611839 600 613239 600 614639 600 616039 600 61...\n",
      "6140     14342 1042 15742 1042 17142 1042 18542 1042 19...\n",
      "12764    290317 412 291717 412 293117 412 294517 412 29...\n",
      "12076    1059467 236 1060867 236 1062267 236 1063667 23...\n",
      "19992    497212 859 498612 859 500012 859 501412 859 50...\n",
      "7132     422224 444 423624 444 425024 444 426424 444 42...\n",
      "Name: EncodedPixels, Length: 1710, dtype: object\n"
     ]
    }
   ],
   "source": [
    "train[\"target\"] = (prediction[0] > 0.75).astype(\"i1\")\n",
    "print (train[train[\"target\"]>0][\"EncodedPixels\"])"
   ]
  },
  {
   "cell_type": "code",
   "execution_count": 15,
   "metadata": {},
   "outputs": [
    {
     "name": "stdout",
     "output_type": "stream",
     "text": [
      "Keras, Resnet-50+LightGBM, обучение: 0.669\n"
     ]
    }
   ],
   "source": [
    "dice = train.apply(calc_dice, axis=1, result_type=\"expand\")\n",
    "print (\"Keras, Resnet-50+LightGBM, обучение:\", round(dice.mean(), 3))"
   ]
  },
  {
   "cell_type": "markdown",
   "metadata": {},
   "source": [
    "### Построение предсказания"
   ]
  },
  {
   "cell_type": "code",
   "execution_count": 16,
   "metadata": {},
   "outputs": [
    {
     "name": "stdout",
     "output_type": "stream",
     "text": [
      "1110/1110 [==============================] - 733s 661ms/step\n"
     ]
    }
   ],
   "source": [
    "test_prediction = model.predict_generator(load_data(test, 1),\n",
    "                        steps=len(test), verbose=1)"
   ]
  },
  {
   "cell_type": "code",
   "execution_count": 17,
   "metadata": {},
   "outputs": [],
   "source": [
    "prediction = model_lgb.predict(test_prediction)"
   ]
  },
  {
   "cell_type": "code",
   "execution_count": 18,
   "metadata": {},
   "outputs": [],
   "source": [
    "prediction = np.array(prediction).reshape(1, -1)"
   ]
  },
  {
   "cell_type": "code",
   "execution_count": 19,
   "metadata": {},
   "outputs": [
    {
     "data": {
      "image/png": "[encoded data removed]",
      "text/plain": [
       "<Figure size 1152x576 with 1 Axes>"
      ]
     },
     "metadata": {
      "needs_background": "light"
     },
     "output_type": "display_data"
    }
   ],
   "source": [
    "draw_prediction(prediction)"
   ]
  },
  {
   "cell_type": "code",
   "execution_count": 20,
   "metadata": {},
   "outputs": [],
   "source": [
    "test[\"target\"] = (prediction[0] > 0.75).astype(\"i1\")"
   ]
  },
  {
   "cell_type": "markdown",
   "metadata": {},
   "source": [
    "### Расчет точности предсказания\n",
    "Нет облаков - 0.5, MLP - 0.3, CONV/VGG - 0.48, AlexNet - 0.21, Inception - 0.5"
   ]
  },
  {
   "cell_type": "code",
   "execution_count": 21,
   "metadata": {},
   "outputs": [
    {
     "name": "stdout",
     "output_type": "stream",
     "text": [
      "Keras, ResNet-50+LightGBM: 0.553\n"
     ]
    }
   ],
   "source": [
    "dice = test.apply(calc_dice, axis=1, result_type=\"expand\")\n",
    "print (\"Keras, ResNet-50+LightGBM:\", round(dice.mean(), 3))"
   ]
  }
 ],
 "metadata": {
  "kernelspec": {
   "display_name": "Python 3 (ipykernel)",
   "language": "python",
   "name": "python3"
  },
  "language_info": {
   "codemirror_mode": {
    "name": "ipython",
    "version": 3
   },
   "file_extension": ".py",
   "mimetype": "text/x-python",
   "name": "python",
   "nbconvert_exporter": "python",
   "pygments_lexer": "ipython3",
   "version": "3.11.1"
  }
 },
 "nbformat": 4,
 "nbformat_minor": 2
}
