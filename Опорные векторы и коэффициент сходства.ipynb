{
 "cells": [
  {
   "cell_type": "markdown",
   "metadata": {},
   "source": [
    "## Постановка задачи\n",
    "Загрузим подготовленные данные из HDF5. Разделим данные на обучающие и проверочные и построим модель опорных векторов для типа облака Fish.\n",
    "\n",
    "Проведем оценку качества предсказания по F1 и коэффициенту сходства.\n",
    "\n",
    "Данные:\n",
    "* https://video.ittensive.com/machine-learning/clouds/clouds.data.h5 (959 Мб)\n",
    "\n",
    "Соревнование: https://www.kaggle.com/c/understanding_cloud_organization/"
   ]
  },
  {
   "cell_type": "markdown",
   "metadata": {},
   "source": [
    "### Подключение библиотек"
   ]
  },
  {
   "cell_type": "code",
   "execution_count": 1,
   "metadata": {},
   "outputs": [],
   "source": [
    "import numpy as np\n",
    "import pandas as pd\n",
    "from sklearn.model_selection import train_test_split\n",
    "from sklearn.linear_model import SGDClassifier\n",
    "from sklearn.metrics import f1_score"
   ]
  },
  {
   "cell_type": "markdown",
   "metadata": {},
   "source": [
    "### Загрузка данных"
   ]
  },
  {
   "cell_type": "code",
   "execution_count": 2,
   "metadata": {
    "scrolled": true
   },
   "outputs": [
    {
     "name": "stdout",
     "output_type": "stream",
     "text": [
      "    0   1    2    3    4    5    6    7    8    9  ...  183745  183746  \\\n",
      "0   0   0    0    0    0    0    0    0    0    0  ...     102     113   \n",
      "1  71  42   31   38   48   68   70   46   24   21  ...      38      57   \n",
      "2  97  98  100  102  105  107  109  110  111  112  ...       0       0   \n",
      "3  87  86   89   93   93   88   86   86   81   81  ...     165     164   \n",
      "4  18  19   21   21   20   19   17   16   14   15  ...     125     137   \n",
      "\n",
      "   183747  183748  183749        Image  \\\n",
      "0     102      96     116  0011165.jpg   \n",
      "1      82     110     133  002be4f.jpg   \n",
      "2       0       0       0  0031ae9.jpg   \n",
      "3     108      70      72  0035239.jpg   \n",
      "4      92      59      48  003994e.jpg   \n",
      "\n",
      "                                                Fish  \\\n",
      "0  264918 937 266318 937 267718 937 269118 937 27...   \n",
      "1  233813 878 235213 878 236613 878 238010 881 23...   \n",
      "2  3510 690 4910 690 6310 690 7710 690 9110 690 1...   \n",
      "3                                                NaN   \n",
      "4  2367966 18 2367985 2 2367993 8 2368002 62 2369...   \n",
      "\n",
      "                                              Flower  \\\n",
      "0  1355565 1002 1356965 1002 1358365 1002 1359765...   \n",
      "1  1339279 519 1340679 519 1342079 519 1343479 51...   \n",
      "2  2047 703 3447 703 4847 703 6247 703 7647 703 9...   \n",
      "3  100812 462 102212 462 103612 462 105012 462 10...   \n",
      "4                                                NaN   \n",
      "\n",
      "                                              Gravel  \\\n",
      "0                                                NaN   \n",
      "1                                                NaN   \n",
      "2                                                NaN   \n",
      "3  65400 380 66800 380 68200 380 69600 380 71000 ...   \n",
      "4  353317 416 354717 416 356117 416 357517 416 35...   \n",
      "\n",
      "                                               Sugar  \n",
      "0                                                NaN  \n",
      "1  67495 350 68895 350 70295 350 71695 350 73095 ...  \n",
      "2  658170 388 659570 388 660970 388 662370 388 66...  \n",
      "3                                                NaN  \n",
      "4  28011 489 29411 489 30811 489 32211 489 33611 ...  \n",
      "\n",
      "[5 rows x 183755 columns]\n"
     ]
    }
   ],
   "source": [
    "clouds = pd.read_hdf(\"clouds.data.h5\")\n",
    "print (clouds.head())"
   ]
  },
  {
   "cell_type": "markdown",
   "metadata": {},
   "source": [
    "Оставим только данные по Fish, на них обучим модель"
   ]
  },
  {
   "cell_type": "code",
   "execution_count": 3,
   "metadata": {},
   "outputs": [],
   "source": [
    "clouds.drop(labels=[\"Image\", \"Flower\", \"Gravel\", \"Sugar\"],\n",
    "           axis=1, inplace=True)"
   ]
  },
  {
   "cell_type": "markdown",
   "metadata": {},
   "source": [
    "### Разделение данных\n",
    "Разделим всю выборку на 2 части случайным образом: 80% - для обучения модели, 20% - для проверки точности модели."
   ]
  },
  {
   "cell_type": "code",
   "execution_count": 4,
   "metadata": {},
   "outputs": [
    {
     "name": "stdout",
     "output_type": "stream",
     "text": [
      "        0    1   2   3   4   5   6   7   8   9  ...  183741  183742  183743  \\\n",
      "3163   22   22  22  22  22  22  22  22  22  22  ...      24      21      25   \n",
      "5476   66   66  57  58  79  90  77  64  74  48  ...     167     174     177   \n",
      "3203  147  105  60  36  17  32  59  39  39  43  ...      57      63      61   \n",
      "2198   41   53  43  31  41  48  45  49  67  91  ...     189     184     182   \n",
      "3555   87   89  91  93  94  94  93  93  90  94  ...      55      56      59   \n",
      "\n",
      "      183744  183745  183746  183747  183748  183749  \\\n",
      "3163      42      76     148     176     163     199   \n",
      "5476     201     186     185     173     154     151   \n",
      "3203      58      69      80     142     199     201   \n",
      "2198     176     157     151     171     182     159   \n",
      "3555      62      66      65      64      63      63   \n",
      "\n",
      "                                                   Fish  \n",
      "3163  791043 817 792443 817 793843 817 795243 817 79...  \n",
      "5476  294857 530 296257 530 297657 530 299057 530 30...  \n",
      "3203                                                NaN  \n",
      "2198                                                NaN  \n",
      "3555                                                NaN  \n",
      "\n",
      "[5 rows x 183751 columns]\n"
     ]
    }
   ],
   "source": [
    "clouds_train, clouds_test = train_test_split(clouds, test_size=0.2)\n",
    "clouds_train = pd.DataFrame(clouds_train)\n",
    "clouds_test = pd.DataFrame(clouds_test)\n",
    "del clouds\n",
    "print (clouds_train.head())"
   ]
  },
  {
   "cell_type": "markdown",
   "metadata": {},
   "source": [
    "### Метод опорных векторов\n",
    "Последовательно рассчитываем коэффициенты для пакетов по 100 изображений, иначе может не поместиться в оперативную память.\n",
    "\n",
    "Используем warm_start=True, чтобы переиспользовать предыдущие параметры."
   ]
  },
  {
   "cell_type": "code",
   "execution_count": 5,
   "metadata": {},
   "outputs": [],
   "source": [
    "y = clouds_train[\"Fish\"].notnull().astype(\"int8\")\n",
    "x = pd.DataFrame(clouds_train).drop(labels=[\"Fish\"], axis=1)\n",
    "model = SGDClassifier(loss=\"log\", warm_start=True)"
   ]
  },
  {
   "cell_type": "code",
   "execution_count": 6,
   "metadata": {},
   "outputs": [],
   "source": [
    "for i in range (len(clouds_train)//100):\n",
    "    model.partial_fit(x[i*100:i*100+100], y[i*100:i*100+100], classes=[0,1])"
   ]
  },
  {
   "cell_type": "code",
   "execution_count": 7,
   "metadata": {},
   "outputs": [],
   "source": [
    "del x\n",
    "del y"
   ]
  },
  {
   "cell_type": "markdown",
   "metadata": {},
   "source": [
    "### Средняя область облаков\n",
    "В качестве локализации облаков на изображении возьмем среднюю область по обучающей выборке"
   ]
  },
  {
   "cell_type": "code",
   "execution_count": 8,
   "metadata": {},
   "outputs": [],
   "source": [
    "image_x = 2100\n",
    "image_x_4 = image_x//4\n",
    "image_y = 1400\n",
    "image_y_4 = image_y//4"
   ]
  },
  {
   "cell_type": "code",
   "execution_count": 9,
   "metadata": {},
   "outputs": [],
   "source": [
    "def locate_rectangle (a):\n",
    "    vals = [int(i) for i in a[0].split(\" \")]\n",
    "    x = vals[0]//image_y\n",
    "    y = vals[0]%image_y\n",
    "    width = (image_x + (vals[-2] + vals[-1])//image_y - x)%image_x\n",
    "    height = (vals[-2] + vals[-1])%image_y - y\n",
    "    return [x, y, width, height]"
   ]
  },
  {
   "cell_type": "code",
   "execution_count": 10,
   "metadata": {},
   "outputs": [
    {
     "name": "stdout",
     "output_type": "stream",
     "text": [
      "[ 94. 103. 332. 111.]\n"
     ]
    }
   ],
   "source": [
    "areas = pd.DataFrame(clouds_train[\"Fish\"].copy().dropna(axis=0))\n",
    "areas = areas.apply(locate_rectangle, axis=1, result_type=\"expand\")\n",
    "coords = np.array(areas.mean()//4)\n",
    "print (coords)"
   ]
  },
  {
   "cell_type": "code",
   "execution_count": 12,
   "metadata": {},
   "outputs": [
    {
     "name": "stdout",
     "output_type": "stream",
     "text": [
      "12544\n"
     ]
    }
   ],
   "source": [
    "sgd_mask = np.zeros(image_x_4*image_y_4,\n",
    "                   dtype=\"uint8\").reshape(image_x_4, image_y_4)\n",
    "for x in range(image_x_4):\n",
    "    for y in range(image_y_4):\n",
    "        if (x >= coords[0] and x<= (coords[0] + coords[3]) and\n",
    "           y >= coords[1] and y<= (coords[1] + coords[3])):\n",
    "            sgd_mask[x][y] = 1\n",
    "sgd_mask = sgd_mask.reshape(image_x_4*image_y_4)\n",
    "print (sgd_mask.sum())"
   ]
  },
  {
   "cell_type": "markdown",
   "metadata": {},
   "source": [
    "### Предсказание значений"
   ]
  },
  {
   "cell_type": "code",
   "execution_count": 19,
   "metadata": {},
   "outputs": [
    {
     "name": "stdout",
     "output_type": "stream",
     "text": [
      "                                          EncodedPixels  Is_Fish  target\n",
      "2447  21087 398 22487 398 23887 398 25287 398 26687 ...        1       1\n",
      "2192  31262 337 32662 337 34062 337 35462 337 36862 ...        1       0\n",
      "1741                                                NaN        0       0\n",
      "4343  189766 312 191166 312 192566 312 193966 312 19...        1       0\n",
      "2628                                                NaN        0       0\n",
      "855                                                 NaN        0       1\n",
      "3693  519 458 1919 458 3319 458 4719 458 6119 458 75...        1       1\n",
      "1826  47607 546 49007 546 50407 546 51807 546 53207 ...        1       1\n",
      "1632  2208618 530 2210018 530 2211418 530 2212818 53...        1       0\n",
      "1092  777 492 2177 492 3577 492 4977 492 6377 492 77...        1       1\n"
     ]
    }
   ],
   "source": [
    "result = pd.DataFrame({\"EncodedPixels\":clouds_test[\"Fish\"],\n",
    "            \"Is_Fish\": clouds_test[\"Fish\"].notnull().astype(\"int8\")})\n",
    "result[\"target\"] = model.predict(pd.DataFrame(clouds_test).drop(labels=[\"Fish\"],\n",
    "                                                               axis=1))\n",
    "print (result.head(10))"
   ]
  },
  {
   "cell_type": "markdown",
   "metadata": {},
   "source": [
    "### Оценка точности предсказания: F1\n",
    "Точность = TruePositive / (TruePositive + FalsePositive)\n",
    "\n",
    "Полнота = TruePositive / (TruePositive + FalseNegative)\n",
    "\n",
    "F1 = 2 * Полнота * Точность / (Полнота + Точность)"
   ]
  },
  {
   "cell_type": "code",
   "execution_count": 16,
   "metadata": {},
   "outputs": [
    {
     "name": "stdout",
     "output_type": "stream",
     "text": [
      "Опорные векторы: 0.512\n",
      "Все Fish: 0.671\n"
     ]
    }
   ],
   "source": [
    "print (\"Опорные векторы:\",\n",
    "      round(f1_score(result[\"Is_Fish\"], result[\"target\"]), 3))\n",
    "print (\"Все Fish:\",\n",
    "      round(f1_score(result[\"Is_Fish\"], np.ones(len(result))), 3))"
   ]
  },
  {
   "cell_type": "markdown",
   "metadata": {},
   "source": [
    "### Оценка по Дайсу\n",
    "Для каждого изображения и каждой фигуры считается пересечение площади обнаруженной фигуры (X) с ее реальной площадью (Y) по формуле:\n",
    "\\begin{equation}\n",
    "Dice = \\frac{2∗|X∩Y|}{|X|+|Y|}\n",
    "\\end{equation}\n",
    "Если и X, и Y равны 0, то оценка принимается равной 1. Оценка берется как среднее по всем фигурам.\n",
    "\n",
    "Пока будем считать, что при определении типа облака на изображении, оно целиком размещено на фотографии: т.е. область облака - это все изображение.\n",
    "\n",
    "Дополнительно посчитаем точность предсказания, что на фотографиях вообще нет облаков нужного типа."
   ]
  },
  {
   "cell_type": "code",
   "execution_count": 23,
   "metadata": {},
   "outputs": [],
   "source": [
    "image_x = 525\n",
    "image_y = 350\n",
    "def mask_rate (a, x, y):\n",
    "    b = a//1400 + 0.0\n",
    "    return np.round(x*(b*x//2100) + y*(a%1400)//1400).astype(\"uint32\")\n",
    "\n",
    "def calc_mask (px, x=image_x, y=image_y):\n",
    "    p = np.array([int(n) for n in px.split(\" \")]).reshape(-1, 2)\n",
    "    mask = np.zeros(y*x, dtype=\"uint8\")\n",
    "    for i, l in p:\n",
    "        mask[mask_rate(i, x, y) - 1:mask_rate(l + i, x, y)] = 1\n",
    "    return mask.reshape(y,x).transpose()\n",
    "\n",
    "def calc_dice (x):\n",
    "    dice = 0\n",
    "    px = x[\"EncodedPixels\"]\n",
    "    if px != px and x[\"target\"] == 0:\n",
    "        dice = 1\n",
    "    elif px == px and x[\"target\"] == 1:\n",
    "        mask = calc_mask(px).flatten()\n",
    "#        target = sgd_mask\n",
    "        target = np.ones(image_x*image_y, dtype=\"uint8\")\n",
    "        dice = 2*np.sum(target[mask==1])/(np.sum(target)+np.sum(mask))\n",
    "    return dice"
   ]
  },
  {
   "cell_type": "code",
   "execution_count": 24,
   "metadata": {},
   "outputs": [
    {
     "name": "stdout",
     "output_type": "stream",
     "text": [
      "Опорные векторы, Fish: 0.337\n",
      "Нет облаков, Fish: 0.495\n"
     ]
    }
   ],
   "source": [
    "dice = result.apply(calc_dice, axis=1, result_type=\"expand\")\n",
    "print (\"Опорные векторы, Fish:\", round(dice.mean(), 3))\n",
    "print (\"Нет облаков, Fish:\",\n",
    "      round(len(result[result[\"Is_Fish\"]==0])/len(result), 3))"
   ]
  }
 ],
 "metadata": {
  "kernelspec": {
   "display_name": "Python 3 (ipykernel)",
   "language": "python",
   "name": "python3"
  },
  "language_info": {
   "codemirror_mode": {
    "name": "ipython",
    "version": 3
   },
   "file_extension": ".py",
   "mimetype": "text/x-python",
   "name": "python",
   "nbconvert_exporter": "python",
   "pygments_lexer": "ipython3",
   "version": "3.11.1"
  }
 },
 "nbformat": 4,
 "nbformat_minor": 2
}
