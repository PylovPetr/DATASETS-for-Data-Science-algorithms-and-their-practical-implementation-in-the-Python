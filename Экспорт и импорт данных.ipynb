{
 "cells": [
  {
   "cell_type": "markdown",
   "metadata": {},
   "source": [
    "### Постановка задачи\n",
    "Подготовим данные для построения модели: получим, объединим, оптимизируем и обогатим данные.\n",
    "\n",
    "Сохраним готовые данные в нескольких форматах: CSV, HDF5\n",
    "\n",
    "Данные:\n",
    "* http://video.ittensive.com/machine-learning/ashrae/building_metadata.csv.gz\n",
    "* http://video.ittensive.com/machine-learning/ashrae/weather_train.csv.gz\n",
    "* http://video.ittensive.com/machine-learning/ashrae/train.0.csv.gz\n",
    "\n",
    "Соревнование: https://www.kaggle.com/c/ashrae-energy-prediction/"
   ]
  },
  {
   "cell_type": "markdown",
   "metadata": {},
   "source": [
    "### Подключение библиотек"
   ]
  },
  {
   "cell_type": "code",
   "execution_count": 1,
   "metadata": {},
   "outputs": [],
   "source": [
    "import pandas as pd\n",
    "from pandas.tseries.holiday import USFederalHolidayCalendar as calendar\n",
    "import numpy as np\n",
    "from scipy.interpolate import interp1d\n",
    "from sklearn.model_selection import train_test_split\n",
    "from sklearn.linear_model import LinearRegression\n",
    "import os"
   ]
  },
  {
   "cell_type": "markdown",
   "metadata": {},
   "source": [
    "### Загрузка данных, отсечение 20 зданий, объединение и оптимизация"
   ]
  },
  {
   "cell_type": "code",
   "execution_count": 2,
   "metadata": {},
   "outputs": [],
   "source": [
    "def reduce_mem_usage (df):\n",
    "    start_mem = df.memory_usage().sum() / 1024**2    \n",
    "    for col in df.columns:\n",
    "        col_type = df[col].dtypes\n",
    "        if str(col_type)[:5] == \"float\":\n",
    "            c_min = df[col].min()\n",
    "            c_max = df[col].max()\n",
    "            if c_min > np.finfo(\"f2\").min and c_max < np.finfo(\"f2\").max:\n",
    "                df[col] = df[col].astype(np.float16)\n",
    "            elif c_min > np.finfo(\"f4\").min and c_max < np.finfo(\"f4\").max:\n",
    "                df[col] = df[col].astype(np.float32)\n",
    "            else:\n",
    "                df[col] = df[col].astype(np.float64)\n",
    "        elif str(col_type)[:3] == \"int\":\n",
    "            c_min = df[col].min()\n",
    "            c_max = df[col].max()\n",
    "            if c_min > np.iinfo(\"i1\").min and c_max < np.iinfo(\"i1\").max:\n",
    "                df[col] = df[col].astype(np.int8)\n",
    "            elif c_min > np.iinfo(\"i2\").min and c_max < np.iinfo(\"i2\").max:\n",
    "                df[col] = df[col].astype(np.int16)\n",
    "            elif c_min > np.iinfo(\"i4\").min and c_max < np.iinfo(\"i4\").max:\n",
    "                df[col] = df[col].astype(np.int32)\n",
    "            elif c_min > np.iinfo(\"i8\").min and c_max < np.iinfo(\"i8\").max:\n",
    "                df[col] = df[col].astype(np.int64)\n",
    "        elif col == \"timestamp\":\n",
    "            df[col] = pd.to_datetime(df[col])\n",
    "        elif str(col_type)[:8] != \"datetime\":\n",
    "            df[col] = df[col].astype(\"category\")\n",
    "    end_mem = df.memory_usage().sum() / 1024**2\n",
    "    print('Потребление памяти меньше на', round(start_mem - end_mem, 2), 'Мб (минус', round(100 * (start_mem - end_mem) / start_mem, 1), '%)')\n",
    "    return df"
   ]
  },
  {
   "cell_type": "code",
   "execution_count": 3,
   "metadata": {},
   "outputs": [
    {
     "name": "stdout",
     "output_type": "stream",
     "text": [
      "Потребление памяти меньше на 10.39 Мб (минус 70.5 %)\n",
      "<class 'pandas.core.frame.DataFrame'>\n",
      "RangeIndex: 175680 entries, 0 to 175679\n",
      "Data columns (total 11 columns):\n",
      "timestamp             175680 non-null datetime64[ns]\n",
      "building_id           175680 non-null int8\n",
      "meter_reading         175680 non-null float16\n",
      "primary_use           175680 non-null category\n",
      "air_temperature       175620 non-null float16\n",
      "cloud_coverage        99080 non-null float16\n",
      "dew_temperature       175620 non-null float16\n",
      "precip_depth_1_hr     175660 non-null float16\n",
      "sea_level_pressure    173980 non-null float16\n",
      "wind_direction        170680 non-null float16\n",
      "wind_speed            175680 non-null float16\n",
      "dtypes: category(1), datetime64[ns](1), float16(8), int8(1)\n",
      "memory usage: 4.4 MB\n",
      "None\n"
     ]
    }
   ],
   "source": [
    "buildings = pd.read_csv(\"http://video.ittensive.com/machine-learning/ashrae/building_metadata.csv.gz\")\n",
    "weather = pd.read_csv(\"http://video.ittensive.com/machine-learning/ashrae/weather_train.csv.gz\")\n",
    "weather = weather[weather[\"site_id\"] == 0]\n",
    "energy = pd.read_csv(\"http://video.ittensive.com/machine-learning/ashrae/train.0.csv.gz\")\n",
    "energy = energy[energy[\"building_id\"] < 20]\n",
    "energy = pd.merge(left=energy, right=buildings, how=\"left\",\n",
    "                   left_on=\"building_id\", right_on=\"building_id\")\n",
    "del buildings"
   ]
  },
  {
   "cell_type": "markdown",
   "metadata": {},
   "source": [
    "### Интерполяция значений"
   ]
  },
  {
   "cell_type": "code",
   "execution_count": 4,
   "metadata": {},
   "outputs": [],
   "source": [
    "weather[\"precip_depth_1_hr\"] = weather[\"precip_depth_1_hr\"].apply(lambda x:x if x>0 else 0)\n",
    "interpolate_columns = [\"air_temperature\", \"dew_temperature\",\n",
    "                       \"cloud_coverage\", \"wind_speed\", \"wind_direction\",\n",
    "                       \"precip_depth_1_hr\", \"sea_level_pressure\"]\n",
    "for col in interpolate_columns:\n",
    "    weather[col] = weather[col].interpolate(limit_direction='both',\n",
    "                            kind='cubic')"
   ]
  },
  {
   "cell_type": "markdown",
   "metadata": {},
   "source": [
    "### Обогащение данных: погода"
   ]
  },
  {
   "cell_type": "code",
   "execution_count": null,
   "metadata": {},
   "outputs": [],
   "source": [
    "weather[\"air_temperature_diff1\"] = weather[\"air_temperature\"].diff()\n",
    "weather.at[0, \"air_temperature_diff1\"] = weather.at[1, \"air_temperature_diff1\"]\n",
    "weather[\"air_temperature_diff2\"] = weather[\"air_temperature_diff1\"].diff()\n",
    "weather.at[0, \"air_temperature_diff2\"] = weather.at[1, \"air_temperature_diff2\"]"
   ]
  },
  {
   "cell_type": "markdown",
   "metadata": {},
   "source": [
    "### Объединение погодных данных"
   ]
  },
  {
   "cell_type": "code",
   "execution_count": null,
   "metadata": {},
   "outputs": [],
   "source": [
    "energy = energy.set_index([\"timestamp\", \"site_id\"])\n",
    "weather = weather.set_index([\"timestamp\", \"site_id\"])\n",
    "energy = pd.merge(left=energy, right=weather, how=\"left\",\n",
    "                  left_index=True, right_index=True)\n",
    "energy.reset_index(inplace=True)\n",
    "energy = energy.drop(columns=[\"meter\", \"site_id\", \"year_built\",\n",
    "                              \"square_feet\", \"floor_count\"], axis=1)\n",
    "energy = reduce_mem_usage(energy)\n",
    "del weather\n",
    "print (energy.info())"
   ]
  },
  {
   "cell_type": "markdown",
   "metadata": {},
   "source": [
    "### Обогащение данных: дата"
   ]
  },
  {
   "cell_type": "code",
   "execution_count": 5,
   "metadata": {},
   "outputs": [],
   "source": [
    "energy[\"hour\"] = energy[\"timestamp\"].dt.hour.astype(\"int8\")\n",
    "energy[\"weekday\"] = energy[\"timestamp\"].dt.weekday.astype(\"int8\")\n",
    "energy[\"week\"] = energy[\"timestamp\"].dt.week.astype(\"int8\")\n",
    "energy[\"month\"] = energy[\"timestamp\"].dt.month.astype(\"int8\")\n",
    "energy[\"date\"] = pd.to_datetime(energy[\"timestamp\"].dt.date)\n",
    "dates_range = pd.date_range(start='2015-12-31', end='2017-01-01')\n",
    "us_holidays = calendar().holidays(start=dates_range.min(),\n",
    "                                  end=dates_range.max())\n",
    "energy['is_holiday'] = energy['date'].isin(us_holidays).astype(\"int8\")\n",
    "for weekday in range(0,7):\n",
    "    energy['is_wday' + str(weekday)] = energy['weekday'].isin([weekday]).astype(\"int8\")\n",
    "for week in range(1,54):\n",
    "    energy['is_w' + str(week)] = energy['week'].isin([week]).astype(\"int8\")\n",
    "for month in range(1,13):\n",
    "    energy['is_m' + str(month)] = energy['month'].isin([month]).astype(\"int8\")"
   ]
  },
  {
   "cell_type": "markdown",
   "metadata": {},
   "source": [
    "### Логарифмирование данных\n",
    "z = A * x + B * y -> log z = A * x + B * y => z = e^Ax * e^By => z = a^x * b^y"
   ]
  },
  {
   "cell_type": "code",
   "execution_count": 7,
   "metadata": {},
   "outputs": [],
   "source": [
    "energy[\"meter_reading_log\"] = np.log(energy[\"meter_reading\"] + 1)"
   ]
  },
  {
   "cell_type": "markdown",
   "metadata": {},
   "source": [
    "### Экспорт данных в CSV и HDF5"
   ]
  },
  {
   "cell_type": "code",
   "execution_count": 8,
   "metadata": {},
   "outputs": [
    {
     "name": "stdout",
     "output_type": "stream",
     "text": [
      "<class 'pandas.core.frame.DataFrame'>\n",
      "RangeIndex: 175680 entries, 0 to 175679\n",
      "Data columns (total 92 columns):\n",
      "timestamp                175680 non-null datetime64[ns]\n",
      "building_id              175680 non-null int8\n",
      "meter_reading            175680 non-null float16\n",
      "primary_use              175680 non-null category\n",
      "air_temperature          175680 non-null float16\n",
      "cloud_coverage           175680 non-null float16\n",
      "dew_temperature          175680 non-null float16\n",
      "precip_depth_1_hr        175680 non-null float64\n",
      "sea_level_pressure       175680 non-null float16\n",
      "wind_direction           175680 non-null float16\n",
      "wind_speed               175680 non-null float16\n",
      "hour                     175680 non-null int8\n",
      "weekday                  175680 non-null int8\n",
      "week                     175680 non-null int8\n",
      "month                    175680 non-null int8\n",
      "date                     175680 non-null datetime64[ns]\n",
      "is_holiday               175680 non-null int8\n",
      "is_wday0                 175680 non-null int8\n",
      "is_wday1                 175680 non-null int8\n",
      "is_wday2                 175680 non-null int8\n",
      "is_wday3                 175680 non-null int8\n",
      "is_wday4                 175680 non-null int8\n",
      "is_wday5                 175680 non-null int8\n",
      "is_wday6                 175680 non-null int8\n",
      "is_w1                    175680 non-null int8\n",
      "is_w2                    175680 non-null int8\n",
      "is_w3                    175680 non-null int8\n",
      "is_w4                    175680 non-null int8\n",
      "is_w5                    175680 non-null int8\n",
      "is_w6                    175680 non-null int8\n",
      "is_w7                    175680 non-null int8\n",
      "is_w8                    175680 non-null int8\n",
      "is_w9                    175680 non-null int8\n",
      "is_w10                   175680 non-null int8\n",
      "is_w11                   175680 non-null int8\n",
      "is_w12                   175680 non-null int8\n",
      "is_w13                   175680 non-null int8\n",
      "is_w14                   175680 non-null int8\n",
      "is_w15                   175680 non-null int8\n",
      "is_w16                   175680 non-null int8\n",
      "is_w17                   175680 non-null int8\n",
      "is_w18                   175680 non-null int8\n",
      "is_w19                   175680 non-null int8\n",
      "is_w20                   175680 non-null int8\n",
      "is_w21                   175680 non-null int8\n",
      "is_w22                   175680 non-null int8\n",
      "is_w23                   175680 non-null int8\n",
      "is_w24                   175680 non-null int8\n",
      "is_w25                   175680 non-null int8\n",
      "is_w26                   175680 non-null int8\n",
      "is_w27                   175680 non-null int8\n",
      "is_w28                   175680 non-null int8\n",
      "is_w29                   175680 non-null int8\n",
      "is_w30                   175680 non-null int8\n",
      "is_w31                   175680 non-null int8\n",
      "is_w32                   175680 non-null int8\n",
      "is_w33                   175680 non-null int8\n",
      "is_w34                   175680 non-null int8\n",
      "is_w35                   175680 non-null int8\n",
      "is_w36                   175680 non-null int8\n",
      "is_w37                   175680 non-null int8\n",
      "is_w38                   175680 non-null int8\n",
      "is_w39                   175680 non-null int8\n",
      "is_w40                   175680 non-null int8\n",
      "is_w41                   175680 non-null int8\n",
      "is_w42                   175680 non-null int8\n",
      "is_w43                   175680 non-null int8\n",
      "is_w44                   175680 non-null int8\n",
      "is_w45                   175680 non-null int8\n",
      "is_w46                   175680 non-null int8\n",
      "is_w47                   175680 non-null int8\n",
      "is_w48                   175680 non-null int8\n",
      "is_w49                   175680 non-null int8\n",
      "is_w50                   175680 non-null int8\n",
      "is_w51                   175680 non-null int8\n",
      "is_w52                   175680 non-null int8\n",
      "is_w53                   175680 non-null int8\n",
      "is_m1                    175680 non-null int8\n",
      "is_m2                    175680 non-null int8\n",
      "is_m3                    175680 non-null int8\n",
      "is_m4                    175680 non-null int8\n",
      "is_m5                    175680 non-null int8\n",
      "is_m6                    175680 non-null int8\n",
      "is_m7                    175680 non-null int8\n",
      "is_m8                    175680 non-null int8\n",
      "is_m9                    175680 non-null int8\n",
      "is_m10                   175680 non-null int8\n",
      "is_m11                   175680 non-null int8\n",
      "is_m12                   175680 non-null int8\n",
      "air_temperature_diff1    175680 non-null float16\n",
      "air_temperature_diff2    175680 non-null float16\n",
      "meter_reading_log        175680 non-null float16\n",
      "dtypes: category(1), datetime64[ns](2), float16(10), float64(1), int8(78)\n",
      "memory usage: 20.6 MB\n",
      "None\n"
     ]
    }
   ],
   "source": [
    "print (energy.info())\n",
    "energy.to_csv(\"energy.0-20.ready.csv.gz\", index=False)"
   ]
  },
  {
   "cell_type": "code",
   "execution_count": 9,
   "metadata": {},
   "outputs": [
    {
     "name": "stdout",
     "output_type": "stream",
     "text": [
      "<class 'pandas.core.frame.DataFrame'>\n",
      "RangeIndex: 175680 entries, 0 to 175679\n",
      "Data columns (total 92 columns):\n",
      "timestamp                175680 non-null object\n",
      "building_id              175680 non-null int64\n",
      "meter_reading            175680 non-null float64\n",
      "primary_use              175680 non-null object\n",
      "air_temperature          175680 non-null float64\n",
      "cloud_coverage           175680 non-null float64\n",
      "dew_temperature          175680 non-null float64\n",
      "precip_depth_1_hr        175680 non-null float64\n",
      "sea_level_pressure       175680 non-null float64\n",
      "wind_direction           175680 non-null float64\n",
      "wind_speed               175680 non-null float64\n",
      "hour                     175680 non-null int64\n",
      "weekday                  175680 non-null int64\n",
      "week                     175680 non-null int64\n",
      "month                    175680 non-null int64\n",
      "date                     175680 non-null object\n",
      "is_holiday               175680 non-null int64\n",
      "is_wday0                 175680 non-null int64\n",
      "is_wday1                 175680 non-null int64\n",
      "is_wday2                 175680 non-null int64\n",
      "is_wday3                 175680 non-null int64\n",
      "is_wday4                 175680 non-null int64\n",
      "is_wday5                 175680 non-null int64\n",
      "is_wday6                 175680 non-null int64\n",
      "is_w1                    175680 non-null int64\n",
      "is_w2                    175680 non-null int64\n",
      "is_w3                    175680 non-null int64\n",
      "is_w4                    175680 non-null int64\n",
      "is_w5                    175680 non-null int64\n",
      "is_w6                    175680 non-null int64\n",
      "is_w7                    175680 non-null int64\n",
      "is_w8                    175680 non-null int64\n",
      "is_w9                    175680 non-null int64\n",
      "is_w10                   175680 non-null int64\n",
      "is_w11                   175680 non-null int64\n",
      "is_w12                   175680 non-null int64\n",
      "is_w13                   175680 non-null int64\n",
      "is_w14                   175680 non-null int64\n",
      "is_w15                   175680 non-null int64\n",
      "is_w16                   175680 non-null int64\n",
      "is_w17                   175680 non-null int64\n",
      "is_w18                   175680 non-null int64\n",
      "is_w19                   175680 non-null int64\n",
      "is_w20                   175680 non-null int64\n",
      "is_w21                   175680 non-null int64\n",
      "is_w22                   175680 non-null int64\n",
      "is_w23                   175680 non-null int64\n",
      "is_w24                   175680 non-null int64\n",
      "is_w25                   175680 non-null int64\n",
      "is_w26                   175680 non-null int64\n",
      "is_w27                   175680 non-null int64\n",
      "is_w28                   175680 non-null int64\n",
      "is_w29                   175680 non-null int64\n",
      "is_w30                   175680 non-null int64\n",
      "is_w31                   175680 non-null int64\n",
      "is_w32                   175680 non-null int64\n",
      "is_w33                   175680 non-null int64\n",
      "is_w34                   175680 non-null int64\n",
      "is_w35                   175680 non-null int64\n",
      "is_w36                   175680 non-null int64\n",
      "is_w37                   175680 non-null int64\n",
      "is_w38                   175680 non-null int64\n",
      "is_w39                   175680 non-null int64\n",
      "is_w40                   175680 non-null int64\n",
      "is_w41                   175680 non-null int64\n",
      "is_w42                   175680 non-null int64\n",
      "is_w43                   175680 non-null int64\n",
      "is_w44                   175680 non-null int64\n",
      "is_w45                   175680 non-null int64\n",
      "is_w46                   175680 non-null int64\n",
      "is_w47                   175680 non-null int64\n",
      "is_w48                   175680 non-null int64\n",
      "is_w49                   175680 non-null int64\n",
      "is_w50                   175680 non-null int64\n",
      "is_w51                   175680 non-null int64\n",
      "is_w52                   175680 non-null int64\n",
      "is_w53                   175680 non-null int64\n",
      "is_m1                    175680 non-null int64\n",
      "is_m2                    175680 non-null int64\n",
      "is_m3                    175680 non-null int64\n",
      "is_m4                    175680 non-null int64\n",
      "is_m5                    175680 non-null int64\n",
      "is_m6                    175680 non-null int64\n",
      "is_m7                    175680 non-null int64\n",
      "is_m8                    175680 non-null int64\n",
      "is_m9                    175680 non-null int64\n",
      "is_m10                   175680 non-null int64\n",
      "is_m11                   175680 non-null int64\n",
      "is_m12                   175680 non-null int64\n",
      "air_temperature_diff1    175680 non-null float64\n",
      "air_temperature_diff2    175680 non-null float64\n",
      "meter_reading_log        175680 non-null float64\n",
      "dtypes: float64(11), int64(78), object(3)\n",
      "memory usage: 123.3+ MB\n",
      "None\n"
     ]
    }
   ],
   "source": [
    "energy = pd.read_csv(\"energy.0-20.ready.csv.gz\")\n",
    "print (energy.info())"
   ]
  },
  {
   "cell_type": "markdown",
   "metadata": {},
   "source": [
    "### Экспорт данных в HDF5\n",
    "HDF5: / ->\n",
    "* Группа (+ метаданные)\n",
    " * Набор данных\n",
    " * ..."
   ]
  },
  {
   "cell_type": "code",
   "execution_count": 20,
   "metadata": {},
   "outputs": [
    {
     "name": "stdout",
     "output_type": "stream",
     "text": [
      "Потребление памяти меньше на 0.0 Мб (минус 0.0 %)\n",
      "CSV: 1749050\n",
      "HDF5: 914546\n"
     ]
    }
   ],
   "source": [
    "energy = reduce_mem_usage(energy)\n",
    "energy.to_hdf('energy.0-20.ready.h5', \"energy\", format='table',\n",
    "              compression=\"gzip\", complevel=9, mode=\"w\")\n",
    "print (\"CSV:\", os.path.getsize(os.getcwd() + '\\energy.0-20.ready.csv.gz'))\n",
    "print (\"HDF5:\", os.path.getsize(os.getcwd() + '\\energy.0-20.ready.h5'))"
   ]
  },
  {
   "cell_type": "code",
   "execution_count": 11,
   "metadata": {},
   "outputs": [
    {
     "name": "stdout",
     "output_type": "stream",
     "text": [
      "<class 'pandas.core.frame.DataFrame'>\n",
      "Int64Index: 175680 entries, 0 to 175679\n",
      "Data columns (total 92 columns):\n",
      "timestamp                175680 non-null datetime64[ns]\n",
      "building_id              175680 non-null int8\n",
      "meter_reading            175680 non-null float16\n",
      "primary_use              175680 non-null category\n",
      "air_temperature          175680 non-null float16\n",
      "cloud_coverage           175680 non-null float16\n",
      "dew_temperature          175680 non-null float16\n",
      "precip_depth_1_hr        175680 non-null float16\n",
      "sea_level_pressure       175680 non-null float16\n",
      "wind_direction           175680 non-null float16\n",
      "wind_speed               175680 non-null float16\n",
      "hour                     175680 non-null int8\n",
      "weekday                  175680 non-null int8\n",
      "week                     175680 non-null int8\n",
      "month                    175680 non-null int8\n",
      "date                     175680 non-null category\n",
      "is_holiday               175680 non-null int8\n",
      "is_wday0                 175680 non-null int8\n",
      "is_wday1                 175680 non-null int8\n",
      "is_wday2                 175680 non-null int8\n",
      "is_wday3                 175680 non-null int8\n",
      "is_wday4                 175680 non-null int8\n",
      "is_wday5                 175680 non-null int8\n",
      "is_wday6                 175680 non-null int8\n",
      "is_w1                    175680 non-null int8\n",
      "is_w2                    175680 non-null int8\n",
      "is_w3                    175680 non-null int8\n",
      "is_w4                    175680 non-null int8\n",
      "is_w5                    175680 non-null int8\n",
      "is_w6                    175680 non-null int8\n",
      "is_w7                    175680 non-null int8\n",
      "is_w8                    175680 non-null int8\n",
      "is_w9                    175680 non-null int8\n",
      "is_w10                   175680 non-null int8\n",
      "is_w11                   175680 non-null int8\n",
      "is_w12                   175680 non-null int8\n",
      "is_w13                   175680 non-null int8\n",
      "is_w14                   175680 non-null int8\n",
      "is_w15                   175680 non-null int8\n",
      "is_w16                   175680 non-null int8\n",
      "is_w17                   175680 non-null int8\n",
      "is_w18                   175680 non-null int8\n",
      "is_w19                   175680 non-null int8\n",
      "is_w20                   175680 non-null int8\n",
      "is_w21                   175680 non-null int8\n",
      "is_w22                   175680 non-null int8\n",
      "is_w23                   175680 non-null int8\n",
      "is_w24                   175680 non-null int8\n",
      "is_w25                   175680 non-null int8\n",
      "is_w26                   175680 non-null int8\n",
      "is_w27                   175680 non-null int8\n",
      "is_w28                   175680 non-null int8\n",
      "is_w29                   175680 non-null int8\n",
      "is_w30                   175680 non-null int8\n",
      "is_w31                   175680 non-null int8\n",
      "is_w32                   175680 non-null int8\n",
      "is_w33                   175680 non-null int8\n",
      "is_w34                   175680 non-null int8\n",
      "is_w35                   175680 non-null int8\n",
      "is_w36                   175680 non-null int8\n",
      "is_w37                   175680 non-null int8\n",
      "is_w38                   175680 non-null int8\n",
      "is_w39                   175680 non-null int8\n",
      "is_w40                   175680 non-null int8\n",
      "is_w41                   175680 non-null int8\n",
      "is_w42                   175680 non-null int8\n",
      "is_w43                   175680 non-null int8\n",
      "is_w44                   175680 non-null int8\n",
      "is_w45                   175680 non-null int8\n",
      "is_w46                   175680 non-null int8\n",
      "is_w47                   175680 non-null int8\n",
      "is_w48                   175680 non-null int8\n",
      "is_w49                   175680 non-null int8\n",
      "is_w50                   175680 non-null int8\n",
      "is_w51                   175680 non-null int8\n",
      "is_w52                   175680 non-null int8\n",
      "is_w53                   175680 non-null int8\n",
      "is_m1                    175680 non-null int8\n",
      "is_m2                    175680 non-null int8\n",
      "is_m3                    175680 non-null int8\n",
      "is_m4                    175680 non-null int8\n",
      "is_m5                    175680 non-null int8\n",
      "is_m6                    175680 non-null int8\n",
      "is_m7                    175680 non-null int8\n",
      "is_m8                    175680 non-null int8\n",
      "is_m9                    175680 non-null int8\n",
      "is_m10                   175680 non-null int8\n",
      "is_m11                   175680 non-null int8\n",
      "is_m12                   175680 non-null int8\n",
      "air_temperature_diff1    175680 non-null float16\n",
      "air_temperature_diff2    175680 non-null float16\n",
      "meter_reading_log        175680 non-null float16\n",
      "dtypes: category(2), datetime64[ns](1), float16(11), int8(78)\n",
      "memory usage: 20.0 MB\n",
      "None\n"
     ]
    }
   ],
   "source": [
    "energy = pd.read_hdf('energy.0-20.ready.h5', \"energy\")\n",
    "print (energy.info())"
   ]
  },
  {
   "cell_type": "markdown",
   "metadata": {},
   "source": [
    "### Разделение данных и экспорт в HDF5"
   ]
  },
  {
   "cell_type": "code",
   "execution_count": 12,
   "metadata": {},
   "outputs": [
    {
     "name": "stdout",
     "output_type": "stream",
     "text": [
      "                 timestamp  building_id  meter_reading  \\\n",
      "114227 2016-08-25 23:00:00            7     474.750000   \n",
      "137382 2016-10-13 05:00:00            2      22.109375   \n",
      "143803 2016-10-26 14:00:00            3     457.750000   \n",
      "121230 2016-09-09 13:00:00           10    2054.000000   \n",
      "106314 2016-08-09 11:00:00           14     426.000000   \n",
      "\n",
      "                          primary_use  air_temperature  cloud_coverage  \\\n",
      "114227                      Education        30.000000        4.000000   \n",
      "137382                      Education        22.796875        6.230469   \n",
      "143803                      Education        25.000000        2.000000   \n",
      "121230  Entertainment/public assembly        27.796875        4.000000   \n",
      "106314                      Education        24.406250        7.605469   \n",
      "\n",
      "        dew_temperature  precip_depth_1_hr  sea_level_pressure  \\\n",
      "114227        21.093750                0.0              1016.0   \n",
      "137382        20.593750                0.0              1017.5   \n",
      "143803        17.796875                0.0              1023.5   \n",
      "121230        24.406250                0.0              1017.5   \n",
      "106314        22.796875                0.0              1016.0   \n",
      "\n",
      "        wind_direction  ...  is_m6  is_m7  is_m8  is_m9  is_m10 is_m11  \\\n",
      "114227            50.0  ...      0      0      1      0       0      0   \n",
      "137382            10.0  ...      0      0      0      0       1      0   \n",
      "143803            70.0  ...      0      0      0      0       1      0   \n",
      "121230            60.0  ...      0      0      0      1       0      0   \n",
      "106314             0.0  ...      0      0      1      0       0      0   \n",
      "\n",
      "        is_m12  air_temperature_diff1  air_temperature_diff2  \\\n",
      "114227       0                    0.0                    0.0   \n",
      "137382       0                    0.0                    0.0   \n",
      "143803       0                    0.0                    0.0   \n",
      "121230       0                    0.0                    0.0   \n",
      "106314       0                    0.0                    0.0   \n",
      "\n",
      "        meter_reading_log  \n",
      "114227           6.164062  \n",
      "137382           3.140625  \n",
      "143803           6.128906  \n",
      "121230           7.628906  \n",
      "106314           6.058594  \n",
      "\n",
      "[5 rows x 92 columns]\n"
     ]
    }
   ],
   "source": [
    "energy_train, energy_test = train_test_split(energy[energy[\"meter_reading\"]>0], test_size=0.2)\n",
    "print (energy_train.head())"
   ]
  },
  {
   "cell_type": "code",
   "execution_count": 19,
   "metadata": {},
   "outputs": [
    {
     "name": "stdout",
     "output_type": "stream",
     "text": [
      "HDF5: 3686169\n"
     ]
    }
   ],
   "source": [
    "pd.set_option('io.hdf.default_format','table')\n",
    "store = pd.HDFStore('energy.0-20.ready.split.h5',\n",
    "                    complevel=9, complib='zlib', mode=\"w\")\n",
    "store[\"energy_train\"] = energy_train\n",
    "store[\"energy_test\"] = energy_test\n",
    "store.put(\"metadata\",\n",
    "             pd.Series([\"Набор обогащенных тестовых данных по 20 зданиям\"]))\n",
    "store.close()\n",
    "print (\"HDF5:\", os.path.getsize(os.getcwd() + '\\energy.0-20.ready.split.h5'))"
   ]
  },
  {
   "cell_type": "markdown",
   "metadata": {},
   "source": [
    "Для хранения атрибутов наборов данных также можно использовать\n",
    "\n",
    "store.get_storer('energy_train').attrs.my_attr"
   ]
  },
  {
   "cell_type": "markdown",
   "metadata": {},
   "source": [
    "### Чтение из HDF5"
   ]
  },
  {
   "cell_type": "code",
   "execution_count": 22,
   "metadata": {},
   "outputs": [
    {
     "name": "stdout",
     "output_type": "stream",
     "text": [
      "Набор обогащенных тестовых данных по 20 зданиям\n",
      "                 timestamp  building_id  meter_reading  \\\n",
      "114227 2016-08-25 23:00:00            7     474.750000   \n",
      "137382 2016-10-13 05:00:00            2      22.109375   \n",
      "143803 2016-10-26 14:00:00            3     457.750000   \n",
      "121230 2016-09-09 13:00:00           10    2054.000000   \n",
      "106314 2016-08-09 11:00:00           14     426.000000   \n",
      "\n",
      "                          primary_use  air_temperature  cloud_coverage  \\\n",
      "114227                      Education        30.000000        4.000000   \n",
      "137382                      Education        22.796875        6.230469   \n",
      "143803                      Education        25.000000        2.000000   \n",
      "121230  Entertainment/public assembly        27.796875        4.000000   \n",
      "106314                      Education        24.406250        7.605469   \n",
      "\n",
      "        dew_temperature  precip_depth_1_hr  sea_level_pressure  \\\n",
      "114227        21.093750                0.0              1016.0   \n",
      "137382        20.593750                0.0              1017.5   \n",
      "143803        17.796875                0.0              1023.5   \n",
      "121230        24.406250                0.0              1017.5   \n",
      "106314        22.796875                0.0              1016.0   \n",
      "\n",
      "        wind_direction  ...  is_m6  is_m7  is_m8  is_m9  is_m10 is_m11  \\\n",
      "114227            50.0  ...      0      0      1      0       0      0   \n",
      "137382            10.0  ...      0      0      0      0       1      0   \n",
      "143803            70.0  ...      0      0      0      0       1      0   \n",
      "121230            60.0  ...      0      0      0      1       0      0   \n",
      "106314             0.0  ...      0      0      1      0       0      0   \n",
      "\n",
      "        is_m12  air_temperature_diff1  air_temperature_diff2  \\\n",
      "114227       0                    0.0                    0.0   \n",
      "137382       0                    0.0                    0.0   \n",
      "143803       0                    0.0                    0.0   \n",
      "121230       0                    0.0                    0.0   \n",
      "106314       0                    0.0                    0.0   \n",
      "\n",
      "        meter_reading_log  \n",
      "114227           6.164062  \n",
      "137382           3.140625  \n",
      "143803           6.128906  \n",
      "121230           7.628906  \n",
      "106314           6.058594  \n",
      "\n",
      "[5 rows x 92 columns]\n"
     ]
    }
   ],
   "source": [
    "store = pd.HDFStore('energy.0-20.ready.split.h5')\n",
    "energy_test = store.get(\"energy_test\")[:]\n",
    "energy_train = store.get(\"energy_train\")[:]\n",
    "metadata = store.get(\"metadata\")[:]\n",
    "store.close()\n",
    "print (metadata[0])\n",
    "print (energy_train.head())"
   ]
  }
 ],
 "metadata": {
  "kernelspec": {
   "display_name": "Python 3 (ipykernel)",
   "language": "python",
   "name": "python3"
  },
  "language_info": {
   "codemirror_mode": {
    "name": "ipython",
    "version": 3
   },
   "file_extension": ".py",
   "mimetype": "text/x-python",
   "name": "python",
   "nbconvert_exporter": "python",
   "pygments_lexer": "ipython3",
   "version": "3.11.1"
  }
 },
 "nbformat": 4,
 "nbformat_minor": 2
}
